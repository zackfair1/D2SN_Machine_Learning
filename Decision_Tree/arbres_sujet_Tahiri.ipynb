{
 "cells": [
  {
   "cell_type": "markdown",
   "metadata": {},
   "source": [
    "# <center>TP : Arbres de décision</center>\n",
    "<center>Prédiction des performances académiques d'un étudiant et interprétation</center>"
   ]
  },
  {
   "cell_type": "markdown",
   "metadata": {},
   "source": [
    "*Objectifs* : \n",
    "    - Mettre en oeuvre les méthodes relatives aux arbres de décision introduites en cours afin de prédire le\n",
    "    résultat à un examen final du cursus de licence. \n",
    "    - Interpréter ces résultats pour discuter de l'équité du système éducatif considéré."
   ]
  },
  {
   "cell_type": "markdown",
   "metadata": {},
   "source": [
    "Dans cette séance, les librairies suivantes seront utilisées : installez-les si nécessaire et chargez-les. Il sera utile de consulter l'aide de R pour comprendre à quoi correspondent les paramètres et les attributs d'une fonction donnée."
   ]
  },
  {
   "cell_type": "code",
   "execution_count": 247,
   "metadata": {
    "vscode": {
     "languageId": "r"
    }
   },
   "outputs": [],
   "source": [
    "# install.packages(\"rpart.plot\")\n",
    "# install.packages(\"gbm\")\n",
    "library('rpart')\n",
    "library(\"rpart.plot\")\n",
    "library('randomForest')\n",
    "library('gbm')\n",
    "library('nnet')\n",
    "library('ggplot2')\n"
   ]
  },
  {
   "cell_type": "markdown",
   "metadata": {},
   "source": [
    "## Table des matières\n",
    "\n",
    "<p><div class=\"lev1\"><a href=\"#Jeu-de-données-:-présentation-et-analyse\"><span class=\"toc-item-num\">1 - </span>Jeu de données : présentation et analyse</a></div>\n",
    "<div class=\"lev1\"><a href=\"#Arbre-de-décision\"><span class=\"toc-item-num\">2 - </span>Arbre de décision</a></div>\n",
    "<div class=\"lev2\"><a href=\"#Construction-de-l'arbre\"><span class=\"toc-item-num\">2.1 - </span>Construction de l'arbre</a></div>\n",
    "<div class=\"lev2\"><a href=\"#Elagage\"><span class=\"toc-item-num\">2.2 - </span>Elagage</a></div>\n",
    "<div class=\"lev2\"><a href=\"#Exploitation-des-résultats\"><span class=\"toc-item-num\">2.3 - </span>Exploitation des résultats</a></div>\n",
    "<div class=\"lev1\"><a href=\"#Amélioration-de-la-prédiction\"><span class=\"toc-item-num\">3 - </span>Amélioration de la prédiction</a></div>\n",
    "<div class=\"lev2\"><a href=\"#Bagging-(Bootstrap-AGGregatING)\"><span class=\"toc-item-num\">3.1 - </span>Bagging (Bootstrap AGGregatING)</a></div>\n",
    "<div class=\"lev2\"><a href=\"#Forêts-aléatoires\"><span class=\"toc-item-num\">3.2 - </span>Forêts aléatoires</a></div>\n",
    "<div class=\"lev2\"><a href=\"#Boosting\"><span class=\"toc-item-num\">3.3 - </span>Boosting</a></div>\n",
    "<div class=\"lev1\"><a href=\"#Comparaison\"><span class=\"toc-item-num\">4 - </span>Comparison</a></div>\n",
    "<div class=\"lev2\"><a href=\"#Interprétation\"><span class=\"toc-item-num\">5 - </span>Interprétation</a></div>\n",
    "<div class=\"lev2\"><a href=\"#Références\"><span class=\"toc-item-num\"> </span>Références</a></div>"
   ]
  },
  {
   "cell_type": "markdown",
   "metadata": {},
   "source": [
    "## Jeu de données : présentation et analyse\n",
    "\n",
    "Cette séance est inspirée des articles <a name=\"ref-1\"/>[(Hussain et al., 2018)](#hussain) et <a name=\"mcdaniel\"/>[(McDaniel, 2018)](#cite-calicoww2:2) et le jeu de données original est disponible sur [UCI Machine Learning Repository](https://archive.ics.uci.edu/ml/datasets/Student+Academics+Performance). Le jeu de données étudié durant cette séance contient $300$ observations de $21$ prédicteurs présentés dans le tableau ci-dessous. Il s'agit de données concernant des étudiants indiens en fin de troisième année de licence (pour faciliter l'interprétation, nous transposons le système d'éducation indien en un équivalent français, avec les inexactitudes que cela peut induire).\n",
    "\n",
    "|Nom  |Description|Valeurs|\n",
    "|-----|-----------|-------|\n",
    "|GE   |Gender  | Male (M)/ Female (F)|\n",
    "|CST  |Caste  | General/SC/ST/OBC/MOBC|\n",
    "|TNP  |Class X Percentage | $[0,1]$ |\n",
    "|TWP  |Class XII Percentage |$[0,1]$ |\n",
    "|IAP  |Internal Assess Percentage |$[0,1]$ |\n",
    "|ARR  |Previous failed test |Yes (Y)/No (N) |\n",
    "|MS   |Marital Status            | Married / Unmarried |\n",
    "|LS   |Live in Town or Village              |Town (T)/Village (V)|\n",
    "|AS   |Admission Category |Free/Paid|\n",
    "|FMI  |Family Monthly Income (in Rupee)|$[0,+\\infty[$|\n",
    "|FS   |Family Size                     |$\\mathbb{N}$|\n",
    "|FQ   |Father Qualification              |Illiterate (Il)/Under Class X (UM)/10/12/Degree/PG|\n",
    "|MQ   |Mother Qualification               |Illiterate (Il)/Under Class X (UM)/10/12/Degree/PG|\n",
    "|FO   |Father Occupation               |Service/Business/Retired/Farmer/Other|\n",
    "|MO   |Mother Occupation               |Service/Business/Retired/Housewife/Other|\n",
    "|NF   |Number of Friends | $\\mathbb{N}$|\n",
    "|SH   |Study Hours |$[0,6]$ (h)|\n",
    "|SS   |Student School Attended at Class X level | Govt./Private|\n",
    "|ME   |Medium|English(Eng.)/Assamese(Asm.)/Hindi(Hin.)/Bengali(Ben.)|\n",
    "|TT   |Home to College Travel Time|$[0,2]$ (h)|\n",
    "|ATD  |Class Attendance Percentage|$[0,1]$|\n",
    "\n",
    "Détails :\n",
    "- `CST` : 'General' désigne les castes qui ne sont pas discriminées. Les $4$ autres désignations (SC:Schelule Caste; ST:Schedule Tribe; OBC:Other Backward Class; MOBC:Minorities and Other Backward Class) recouvrent des classes sociales souvent victimes de discrimination. Par exemple, 'SC' inclut les Dalits, aussi appelés intouchables.\n",
    "- `TNP` et `TWP` : le 'class X exam' est un certificat général de fin d’études secondaires dans le système scolaire indien; pour simplifier, on pourra considérer qu'il est équivalent au brevet des collèges en France. Le 'class XII exam' est un certificat général de fin d’études secondaires supérieures, on pourra considérer qu'il est équivalent au baccalauréat en France. La valeur associée, renormalisée, désigne le pourcentage de bonnes réponse à ces examens. Voir [ici](https://en.wikipedia.org/wiki/Higher_Secondary_School_Certificate) pour plus de détails. \n",
    "- `IAP` : on pourra considérer cette variable comme la note de contrôle continu obtenue durant la licence.\n",
    "- `ARR` : 'Yes' signifie que l'étudiant doit passer des rattrapages.\n",
    "- `FQ` : '10' (resp. 12) désigne la validation de l'examen de class X (resp. XII); 'Degree' un niveau licence ou équivalent et 'PG'un niveau master ou plus.\n",
    "- `ME` : le médium est la langue utilisée pour l'instruction et les examens.\n",
    "\n",
    "La variable à prédire, ou réponse, notée `ESP` est le 'End Semester Percentage' qui est le résultat obtenu à l'examen final pour l'obtention du diplôme de licence. `ESP` prend $2$ valeurs : \n",
    "- 'Pass' lorsque l'étudiant obtient un score de plus de 50%\n",
    "- 'Fail' lorsque l'étudiant obtient un score de moins de 50%"
   ]
  },
  {
   "cell_type": "markdown",
   "metadata": {},
   "source": [
    "Les données sont directement séparées en Train.csv pour l'apprentissage et Test.csv pour la validation.\n",
    "\n",
    "><u>Tâche 1</u> : Importer et visualiser les données : y a-t-il des données manquantes ? aberrantes ? inutiles ? Quelle est la taille de l'ensemble d'apprentissage ? de l'ensemble de test ? Est-ce que cela est cohérent ?\n",
    ">Quelles sont les données :\n",
    ">- quantitatives ? \n",
    ">- qualitatives ordonnées ? \n",
    ">- qualitatives non-ordonnées ? \n",
    ">\n",
    ">La tâche de prédiction relève-t-elle de la régression ou de la classification ?"
   ]
  },
  {
   "cell_type": "code",
   "execution_count": 248,
   "metadata": {
    "vscode": {
     "languageId": "r"
    }
   },
   "outputs": [
    {
     "data": {
      "text/html": [
       "0"
      ],
      "text/latex": [
       "0"
      ],
      "text/markdown": [
       "0"
      ],
      "text/plain": [
       "[1] 0"
      ]
     },
     "metadata": {},
     "output_type": "display_data"
    },
    {
     "data": {
      "text/html": [
       "0"
      ],
      "text/latex": [
       "0"
      ],
      "text/markdown": [
       "0"
      ],
      "text/plain": [
       "[1] 0"
      ]
     },
     "metadata": {},
     "output_type": "display_data"
    },
    {
     "data": {
      "text/plain": [
       " GE        CST          TNP              TWP            IAP         ARR    \n",
       " F:114   G   :55   Min.   :0.3000   Min.   :0.31   Min.   :0.3100   N:110  \n",
       " M:111   MOBC:40   1st Qu.:0.4400   1st Qu.:0.47   1st Qu.:0.5100   Y:115  \n",
       "         OBC :91   Median :0.5200   Median :0.54   Median :0.5700          \n",
       "         SC  :11   Mean   :0.5271   Mean   :0.55   Mean   :0.5894          \n",
       "         ST  :28   3rd Qu.:0.5900   3rd Qu.:0.61   3rd Qu.:0.6700          \n",
       "                   Max.   :0.9600   Max.   :0.95   Max.   :1.0000          \n",
       "         MS      LS         AS           FMI              FS        \n",
       " Married  :  1   T: 48   Free:142   Min.   : 2552   Min.   : 1.000  \n",
       " Unmarried:224   V:177   Paid: 83   1st Qu.: 4517   1st Qu.: 2.000  \n",
       "                                    Median : 7481   Median : 4.000  \n",
       "                                    Mean   :10360   Mean   : 5.004  \n",
       "                                    3rd Qu.:12097   3rd Qu.: 7.000  \n",
       "                                    Max.   :70593   Max.   :18.000  \n",
       "      FQ           MQ             FO             MO            NF        \n",
       " 10    : 35   10    : 36   Business:46   Housewife:202   Min.   : 1.000  \n",
       " 12    : 28   12    : 19   Farmer  :85   Others   :  4   1st Qu.: 5.000  \n",
       " Degree: 17   Degree:  5   Others  :34   Service  : 19   Median : 8.000  \n",
       " Il    : 38   Il    : 63   Retired : 2                   Mean   : 9.022  \n",
       " Pg    :  5   Pg    :  2   Service :58                   3rd Qu.:12.000  \n",
       " Um    :102   Um    :100                                 Max.   :20.000  \n",
       "       SH              SS        ME            TT              ATD        \n",
       " Min.   :0.000   Govt   :166   Asm:145   Min.   :0.0000   Min.   :0.1100  \n",
       " 1st Qu.:1.500   Private: 59   Ben:  2   1st Qu.:0.2500   1st Qu.:0.6000  \n",
       " Median :2.500                 Eng: 76   Median :0.5000   Median :0.7200  \n",
       " Mean   :2.651                 Hin:  2   Mean   :0.5644   Mean   :0.6699  \n",
       " 3rd Qu.:3.500                           3rd Qu.:0.7500   3rd Qu.:0.8300  \n",
       " Max.   :6.000                           Max.   :2.0000   Max.   :1.0000  \n",
       "   ESP     \n",
       " Fail: 77  \n",
       " Pass:148  \n",
       "           \n",
       "           \n",
       "           \n",
       "           "
      ]
     },
     "metadata": {},
     "output_type": "display_data"
    },
    {
     "data": {
      "text/plain": [
       " GE       CST          TNP              TWP              IAP         ARR   \n",
       " F:36   G   :21   Min.   :0.3000   Min.   :0.3000   Min.   :0.3000   N:38  \n",
       " M:39   MOBC:14   1st Qu.:0.4400   1st Qu.:0.4950   1st Qu.:0.4950   Y:37  \n",
       "        OBC :27   Median :0.5200   Median :0.5500   Median :0.5500         \n",
       "        SC  : 2   Mean   :0.5345   Mean   :0.5631   Mean   :0.5827         \n",
       "        ST  :11   3rd Qu.:0.5950   3rd Qu.:0.6250   3rd Qu.:0.6650         \n",
       "                  Max.   :1.0000   Max.   :0.9200   Max.   :0.9600         \n",
       "         MS     LS        AS          FMI              FS              FQ    \n",
       " Unmarried:75   T:12   Free:49   Min.   : 2780   Min.   : 1.000   10    : 8  \n",
       "                V:63   Paid:26   1st Qu.: 5046   1st Qu.: 3.000   12    :10  \n",
       "                                 Median : 8330   Median : 4.000   Degree: 9  \n",
       "                                 Mean   :11651   Mean   : 4.667   Il    :12  \n",
       "                                 3rd Qu.:11510   3rd Qu.: 6.000   Pg    : 3  \n",
       "                                 Max.   :80292   Max.   :11.000   Um    :33  \n",
       "      MQ            FO             MO           NF               SH      \n",
       " 10    :12   Business:16   Housewife:67   Min.   : 1.000   Min.   :0.00  \n",
       " 12    : 7   Farmer  :32   Others   : 3   1st Qu.: 4.500   1st Qu.:2.00  \n",
       " Degree: 3   Others  : 7   Service  : 5   Median : 9.000   Median :3.00  \n",
       " Il    :13   Retired : 2                  Mean   : 9.533   Mean   :2.84  \n",
       " Pg    : 2   Service :18                  3rd Qu.:15.000   3rd Qu.:3.50  \n",
       " Um    :38                                Max.   :20.000   Max.   :6.00  \n",
       "       SS       ME           TT            ATD           ESP    \n",
       " Govt   :55   Asm:48   Min.   :0.00   Min.   :0.1100   Fail:31  \n",
       " Private:20   Eng:22   1st Qu.:0.00   1st Qu.:0.5100   Pass:44  \n",
       "              Hin: 5   Median :0.50   Median :0.6800            \n",
       "                       Mean   :0.58   Mean   :0.6461            \n",
       "                       3rd Qu.:1.00   3rd Qu.:0.8250            \n",
       "                       Max.   :2.00   Max.   :1.0000            "
      ]
     },
     "metadata": {},
     "output_type": "display_data"
    }
   ],
   "source": [
    "#insert code\n",
    "Train=read.csv('Train.csv') \n",
    "Test=read.csv('Test.csv') \n",
    "#------------\n",
    "sum(is.na(Train))\n",
    "sum(is.na(Test))\n",
    "#------------\n",
    "summary(Train)\n",
    "summary(Test)\n"
   ]
  },
  {
   "cell_type": "code",
   "execution_count": 249,
   "metadata": {
    "vscode": {
     "languageId": "r"
    }
   },
   "outputs": [
    {
     "data": {
      "image/png": "[encoded data removed]",
      "text/plain": [
       "Plot with title \"TEST:  TWP\""
      ]
     },
     "metadata": {},
     "output_type": "display_data"
    },
    {
     "data": {
      "image/png": "[encoded data removed]",
      "text/plain": [
       "Plot with title \"TEST:  LS\""
      ]
     },
     "metadata": {},
     "output_type": "display_data"
    },
    {
     "data": {
      "image/png": "[encoded data removed]",
      "text/plain": [
       "Plot with title \"TEST:  FQ\""
      ]
     },
     "metadata": {},
     "output_type": "display_data"
    },
    {
     "data": {
      "image/png": "[encoded data removed]",
      "text/plain": [
       "Plot with title \"TEST:  NF\""
      ]
     },
     "metadata": {},
     "output_type": "display_data"
    },
    {
     "data": {
      "image/png": "[encoded data removed]",
      "text/plain": [
       "Plot with title \"TEST:  TT\""
      ]
     },
     "metadata": {},
     "output_type": "display_data"
    },
    {
     "data": {
      "image/png": "[encoded data removed]",
      "text/plain": [
       "Plot with title \"TEST:  ESP\""
      ]
     },
     "metadata": {},
     "output_type": "display_data"
    }
   ],
   "source": [
    "par(mfrow = c(length(c('MO', 'FO', 'MQ', 'FQ')), 2))\n",
    "for (col in colnames(Train)){\n",
    "        plot(Train[[col]], main=paste('TRAIN: ', col))\n",
    "        plot(Test[[col]], main=paste('TEST: ', col))\n",
    "}"
   ]
  },
  {
   "cell_type": "code",
   "execution_count": 250,
   "metadata": {
    "vscode": {
     "languageId": "r"
    }
   },
   "outputs": [
    {
     "name": "stdout",
     "output_type": "stream",
     "text": [
      "[1] \"Length and percentage for the Train dataset\"\n"
     ]
    },
    {
     "data": {
      "text/html": [
       "225"
      ],
      "text/latex": [
       "225"
      ],
      "text/markdown": [
       "225"
      ],
      "text/plain": [
       "[1] 225"
      ]
     },
     "metadata": {},
     "output_type": "display_data"
    },
    {
     "data": {
      "text/html": [
       "'75 %'"
      ],
      "text/latex": [
       "'75 \\%'"
      ],
      "text/markdown": [
       "'75 %'"
      ],
      "text/plain": [
       "[1] \"75 %\""
      ]
     },
     "metadata": {},
     "output_type": "display_data"
    },
    {
     "name": "stdout",
     "output_type": "stream",
     "text": [
      "[1] \"Length and percentage for the Test dataset\"\n"
     ]
    },
    {
     "data": {
      "text/html": [
       "75"
      ],
      "text/latex": [
       "75"
      ],
      "text/markdown": [
       "75"
      ],
      "text/plain": [
       "[1] 75"
      ]
     },
     "metadata": {},
     "output_type": "display_data"
    },
    {
     "data": {
      "text/html": [
       "'25 %'"
      ],
      "text/latex": [
       "'25 \\%'"
      ],
      "text/markdown": [
       "'25 %'"
      ],
      "text/plain": [
       "[1] \"25 %\""
      ]
     },
     "metadata": {},
     "output_type": "display_data"
    }
   ],
   "source": [
    "print(\"Length and percentage for the Train dataset\")\n",
    "length(Train$GE)\n",
    "paste(length(Train$GE)* 100 / 300, \"%\")\n",
    "print(\"Length and percentage for the Test dataset\")\n",
    "length(Test$GE)\n",
    "paste(length(Test$GE) * 100 / 300, \"%\")"
   ]
  },
  {
   "cell_type": "markdown",
   "metadata": {},
   "source": [
    "><u>Réponse</u> : \n",
    "<li>Pas de données manquantes, ni aberrantes\n",
    "<li>La variables MS ne nous sert à rien, dans le jeu de données de Train il n'y a qu'une seul occurence de <b>married</b> alors qu'il y a 224 occurrences de <b>unmarried</b> (il n'y a que des <b>unmarried</b> dans le jeu de données du Test), ce qui fait que cette variable n'est pas importante pour notre entrainement\n",
    "<li>Les variables ('MO', 'FO', 'MQ', 'FQ') ne sont pas bien distribuées, et représente des données non équilibrées pour entraîner le modèle\n",
    "<li>Le jeu de Train contient 225 lignes, alors que le jeu de Test contient 75 lignes\n",
    "<li>Les variables quantitatives : (`TNP`, `TWP`, `IAP`,`FMI`,`FS`,`NF`, `SH`, `TT`, `ATD`)\n",
    "<li>Les variables qualitatives : (`GE`, `CST`, `ARR`,`MS`, `LS`, `AS`,`FO`,`MO`, `SS`, `ME`)\n",
    "<li>C'est une tâche basée sur la classification"
   ]
  },
  {
   "cell_type": "markdown",
   "metadata": {},
   "source": [
    "## Arbre de décision\n",
    "\n",
    "\n",
    "### Construction de l'arbre\n",
    "\n",
    "><u>Tâche 2</u> : Sur l'ensemble d'apprentissage, déterminer l’arbre de décision permettant de prédire la catégorie à partir des variables explicatives en utilisant la fonction `rpart` avec les paramètres par défault (voir [ici](https://stat.ethz.ch/R-manual/R-patched/library/rpart/html/rpart.html)) :\n",
    "- quel critère est minimisé lors d'une coupe ? \n",
    "- combien y a-t-il au minimum d'observations dans chaque feuille ?\n",
    "- à quoi correspond le paramètre `cp` dans `rpart.control`?\n",
    ">\n",
    ">Afficher l'arbre à l'aide de la fonction `rpart.plot`. On considère le nœud terminal (la feuille) $n^o 3$ :\n",
    "- Quelle est la prédiction effectuée ?\n",
    "- Avec quelle probabilité ?\n",
    "- Sur combien d’observations ?"
   ]
  },
  {
   "cell_type": "code",
   "execution_count": 251,
   "metadata": {
    "vscode": {
     "languageId": "r"
    }
   },
   "outputs": [
    {
     "data": {
      "image/png": "[encoded data removed]",
      "text/plain": [
       "plot without title"
      ]
     },
     "metadata": {},
     "output_type": "display_data"
    }
   ],
   "source": [
    "X_train=Train[,-22]\n",
    "y_train=Train[,22]\n",
    "X_test=Test[,-22]\n",
    "y_test=Test[,22]\n",
    "\n",
    "fit <- rpart(y_train~ .,data=X_train)\n",
    "rpart.plot(fit,extra=1)"
   ]
  },
  {
   "cell_type": "code",
   "execution_count": 252,
   "metadata": {
    "vscode": {
     "languageId": "r"
    }
   },
   "outputs": [
    {
     "data": {
      "text/html": [
       "<dl>\n",
       "\t<dt>$minsplit</dt>\n",
       "\t\t<dd>20</dd>\n",
       "\t<dt>$minbucket</dt>\n",
       "\t\t<dd>7</dd>\n",
       "\t<dt>$cp</dt>\n",
       "\t\t<dd>0.01</dd>\n",
       "\t<dt>$maxcompete</dt>\n",
       "\t\t<dd>4</dd>\n",
       "\t<dt>$maxsurrogate</dt>\n",
       "\t\t<dd>5</dd>\n",
       "\t<dt>$usesurrogate</dt>\n",
       "\t\t<dd>2</dd>\n",
       "\t<dt>$surrogatestyle</dt>\n",
       "\t\t<dd>0</dd>\n",
       "\t<dt>$maxdepth</dt>\n",
       "\t\t<dd>30</dd>\n",
       "\t<dt>$xval</dt>\n",
       "\t\t<dd>10</dd>\n",
       "</dl>\n"
      ],
      "text/latex": [
       "\\begin{description}\n",
       "\\item[\\$minsplit] 20\n",
       "\\item[\\$minbucket] 7\n",
       "\\item[\\$cp] 0.01\n",
       "\\item[\\$maxcompete] 4\n",
       "\\item[\\$maxsurrogate] 5\n",
       "\\item[\\$usesurrogate] 2\n",
       "\\item[\\$surrogatestyle] 0\n",
       "\\item[\\$maxdepth] 30\n",
       "\\item[\\$xval] 10\n",
       "\\end{description}\n"
      ],
      "text/markdown": [
       "$minsplit\n",
       ":   20\n",
       "$minbucket\n",
       ":   7\n",
       "$cp\n",
       ":   0.01\n",
       "$maxcompete\n",
       ":   4\n",
       "$maxsurrogate\n",
       ":   5\n",
       "$usesurrogate\n",
       ":   2\n",
       "$surrogatestyle\n",
       ":   0\n",
       "$maxdepth\n",
       ":   30\n",
       "$xval\n",
       ":   10\n",
       "\n",
       "\n"
      ],
      "text/plain": [
       "$minsplit\n",
       "[1] 20\n",
       "\n",
       "$minbucket\n",
       "[1] 7\n",
       "\n",
       "$cp\n",
       "[1] 0.01\n",
       "\n",
       "$maxcompete\n",
       "[1] 4\n",
       "\n",
       "$maxsurrogate\n",
       "[1] 5\n",
       "\n",
       "$usesurrogate\n",
       "[1] 2\n",
       "\n",
       "$surrogatestyle\n",
       "[1] 0\n",
       "\n",
       "$maxdepth\n",
       "[1] 30\n",
       "\n",
       "$xval\n",
       "[1] 10\n"
      ]
     },
     "metadata": {},
     "output_type": "display_data"
    }
   ],
   "source": [
    "rpart.control()"
   ]
  },
  {
   "cell_type": "markdown",
   "metadata": {},
   "source": [
    "><u>Réponse</u> : \n",
    "<li>Le critère à réduire est la variance\n",
    "<li>Au moins 20/3\n",
    "<li>Cp représente \"Complexity Parameter\" qui traite le sujet des splits. Plus CP est petit, plus est l'arbre est grand, et plus le CP est grand, plus l'arbre est petit\n",
    "<br>\n",
    "<li>La prédiction est Pass avec une probabilité de 84.61%. Une observation de 13 occurrences sur la base de 225 observations"
   ]
  },
  {
   "cell_type": "markdown",
   "metadata": {},
   "source": [
    "En classification, on rappelle que la qualité du modèle est mesurée via la précision :\n",
    "$$precision(y,\\hat{y})=\\frac{1}{n}\\sum_{i=1}^n 1_{y_i=\\hat{y}_i}$$\n",
    "où $n$ est la taille de l'ensemble de test, $\\hat{y}_{i}$ la valeur prédite du $i^{ème}$ individu et $y_i$ sa vraie valeur. Le taux d'erreur est donné par $1-precision(y,\\hat{y})$."
   ]
  },
  {
   "cell_type": "markdown",
   "metadata": {},
   "source": [
    "><u>Tâche 3</u> : Evaluer la qualité du modèle sur les ensembles d'entraînement et de test. Afficher la matrice de confusion et le taux d'erreur de classification pour chacun des ensembles."
   ]
  },
  {
   "cell_type": "code",
   "execution_count": 253,
   "metadata": {
    "vscode": {
     "languageId": "r"
    }
   },
   "outputs": [
    {
     "name": "stdout",
     "output_type": "stream",
     "text": [
      "      y_train\n",
      "       Fail Pass\n",
      "  Fail   59   13\n",
      "  Pass   18  135\n",
      "[1] 0.1377778\n",
      "      y_test\n",
      "       Fail Pass\n",
      "  Fail   14    6\n",
      "  Pass   17   38\n",
      "[1] 0.3066667\n"
     ]
    }
   ],
   "source": [
    "#insert code\n",
    "# For the train\n",
    "confMat<-table(predict(fit, X_train, type = \"class\"), y_train)\n",
    "precision<-sum(diag(confMat))/sum(confMat)\n",
    "print(confMat)\n",
    "print(1-precision)\n",
    "\n",
    "# For the test\n",
    "confMat<-table(predict(fit, X_test, type = \"class\"), y_test)\n",
    "precision<-sum(diag(confMat))/sum(confMat)\n",
    "print(confMat)\n",
    "print(1-precision)"
   ]
  },
  {
   "cell_type": "markdown",
   "metadata": {},
   "source": [
    "><u>Tâche 4</u> (optionelle): Sur l'ensemble d'apprentissage, pour les deux critères (indice de Gini et entropie), construire un arbre maximal avec (idéalement) une observation par feuille, un arbre avec au plus $m=10$ observations par feuilles et au plus $m=20$ observations par feuilles. Calculer le taux d'erreur pour chaque cas. Empiriquement, pour ce jeu de données, quel critère de coupe est préférable ?"
   ]
  },
  {
   "cell_type": "code",
   "execution_count": 254,
   "metadata": {
    "vscode": {
     "languageId": "r"
    }
   },
   "outputs": [
    {
     "name": "stdout",
     "output_type": "stream",
     "text": [
      "[1] \"Gini precision:  0.253333333333333\" \"Gini precision:  0.32\"             \n",
      "[1] 0.24\n",
      "[1] \"Entropie:  0.28\"              \"Entropie:  0.266666666666667\"\n",
      "[1] 0.2533333\n",
      "[1] 0.2666667\n"
     ]
    }
   ],
   "source": [
    "#insert code\n",
    "precision_gini<-c()\n",
    "for (i in c(11,21)){\n",
    "    fit <- rpart(y_train~ .,data=X_train,control = rpart.control(cp=0,minsplit=i))\n",
    "    confMat<-table(predict(fit, X_test, type = \"class\"), y_test)\n",
    "    precision<-sum(diag(confMat))/sum(confMat)\n",
    "    precision_gini<-c(precision_gini,1-precision)\n",
    "}\n",
    "\n",
    "precision_entropie<-c()\n",
    "for (i in c(11,21)){\n",
    "    fit <- rpart(y_train~ .,data=X_train,parms=list(split = \"information\"),control = rpart.control(cp=0,minsplit=i))\n",
    "    confMat<-table(predict(fit, X_test, type = \"class\"), y_test)\n",
    "    precision<-sum(diag(confMat))/sum(confMat)\n",
    "    precision_entropie<-c(precision_entropie,1-precision)\n",
    "}\n",
    "\n",
    "#arbre max entropie\n",
    "fit <- rpart(y_train~ .,data=X_train,parms=list(split = \"information\"),control = rpart.control(cp=-1,minsplit=2,minbucket=1))\n",
    "confMat<-table(predict(fit, X_test, type = \"class\"), y_test)\n",
    "precision_max_e<-1-sum(diag(confMat))/sum(confMat)\n",
    "\n",
    "#arbre max gini\n",
    "fit <- rpart(y_train~ .,data=X_train,control = rpart.control(cp=-1,minsplit=2,minbucket=1))\n",
    "confMat<-table(predict(fit, X_test, type = \"class\"), y_test)\n",
    "precision_max_g<-1-sum(diag(confMat))/sum(confMat)\n",
    "\n",
    "#arbre par défaut, entropie\n",
    "fit <- rpart(y_train~ .,data=X_train,parms=list(split = \"information\"))\n",
    "confMat<-table(predict(fit, X_test, type = \"class\"), y_test)\n",
    "precision_defaut_e<-1-sum(diag(confMat))/sum(confMat)\n",
    "\n",
    "print(paste('Gini precision: ', precision_gini))\n",
    "print(precision_max_g)\n",
    "print(paste('Entropie: ', precision_entropie))\n",
    "print(precision_max_e)\n",
    "print(precision_defaut_e)"
   ]
  },
  {
   "cell_type": "markdown",
   "metadata": {},
   "source": [
    "><u>Réponse</u> : La précision avec l'indice de Gini est meilleure que celle de l'Entropie"
   ]
  },
  {
   "cell_type": "markdown",
   "metadata": {},
   "source": [
    "### Elagage\n",
    "\n",
    "La qualité de prédiction de l'arbre varie avec le nombre d'observations par feuille.\n",
    "\n",
    "Nous allons dans cette partie chercher de manière plus systématique le meilleur sous-arbre en terme de prédiction. \n",
    "\n",
    "Pour ce faire, nous appliquons la méthode vue en cours, qui consiste, à partir de l'arbre maximal  (voir aussi [ici](http://mlwiki.org/index.php/Cost-Complexity_Pruning)):\n",
    "<ol>\n",
    "<li> Sélectionner une suite de sous-arbres emboîtés et la pénalité $\\alpha$ correspondante via la méthode de <i>cost complexity pruning</i>.</li>\n",
    "<li> Sélectionner le 'meilleur' sous-arbre en effectuant une validation croisée sur les pénalités $\\alpha$.</li>\n",
    "</ol>"
   ]
  },
  {
   "cell_type": "markdown",
   "metadata": {},
   "source": [
    "><u>Tâche 5</u> : la méthode `rpart` de R effectue déjà directement les deux points ci-dessus. Les valeurs sont stockées dans l'attribut `cptable` de l'objet arbre fourni. Pour visualiser ces $\\alpha$ et l'erreur correspondante en validation croisée, utiliser la fonction `plotcp`. Donner la valeur $\\alpha$ correspondant au meilleur sous-arbre."
   ]
  },
  {
   "cell_type": "code",
   "execution_count": 255,
   "metadata": {
    "vscode": {
     "languageId": "r"
    }
   },
   "outputs": [
    {
     "data": {
      "image/png": "[encoded data removed]",
      "text/plain": [
       "plot without title"
      ]
     },
     "metadata": {},
     "output_type": "display_data"
    }
   ],
   "source": [
    "fit.max <- rpart(y_train~ .,data=X_train,control = rpart.control(cp=0, minsplit = 2,minbucket =1))\n",
    "plotcp(fit.max)"
   ]
  },
  {
   "cell_type": "code",
   "execution_count": 256,
   "metadata": {
    "vscode": {
     "languageId": "r"
    }
   },
   "outputs": [
    {
     "data": {
      "text/html": [
       "<table>\n",
       "<thead><tr><th scope=col>CP</th><th scope=col>nsplit</th><th scope=col>rel error</th><th scope=col>xerror</th><th scope=col>xstd</th></tr></thead>\n",
       "<tbody>\n",
       "\t<tr><td>0.298701299</td><td> 0         </td><td>1.00000000 </td><td>1.0000000  </td><td>0.09242602 </td></tr>\n",
       "\t<tr><td>0.077922078</td><td> 1         </td><td>0.70129870 </td><td>0.7402597  </td><td>0.08472471 </td></tr>\n",
       "\t<tr><td>0.064935065</td><td> 2         </td><td>0.62337662 </td><td>0.8051948  </td><td>0.08703775 </td></tr>\n",
       "\t<tr><td>0.051948052</td><td> 3         </td><td>0.55844156 </td><td>0.7922078  </td><td>0.08659740 </td></tr>\n",
       "\t<tr><td>0.038961039</td><td> 4         </td><td>0.50649351 </td><td>0.8311688  </td><td>0.08788625 </td></tr>\n",
       "\t<tr><td>0.025974026</td><td> 5         </td><td>0.46753247 </td><td>0.8571429  </td><td>0.08869284 </td></tr>\n",
       "\t<tr><td>0.012987013</td><td>17         </td><td>0.15584416 </td><td>0.8181818  </td><td>0.08746732 </td></tr>\n",
       "\t<tr><td>0.007792208</td><td>23         </td><td>0.07792208 </td><td>0.7922078  </td><td>0.08659740 </td></tr>\n",
       "\t<tr><td>0.006493506</td><td>28         </td><td>0.03896104 </td><td>0.8571429  </td><td>0.08869284 </td></tr>\n",
       "\t<tr><td>0.000000000</td><td>34         </td><td>0.00000000 </td><td>0.8571429  </td><td>0.08869284 </td></tr>\n",
       "</tbody>\n",
       "</table>\n"
      ],
      "text/latex": [
       "\\begin{tabular}{r|lllll}\n",
       " CP & nsplit & rel error & xerror & xstd\\\\\n",
       "\\hline\n",
       "\t 0.298701299 &  0          & 1.00000000  & 1.0000000   & 0.09242602 \\\\\n",
       "\t 0.077922078 &  1          & 0.70129870  & 0.7402597   & 0.08472471 \\\\\n",
       "\t 0.064935065 &  2          & 0.62337662  & 0.8051948   & 0.08703775 \\\\\n",
       "\t 0.051948052 &  3          & 0.55844156  & 0.7922078   & 0.08659740 \\\\\n",
       "\t 0.038961039 &  4          & 0.50649351  & 0.8311688   & 0.08788625 \\\\\n",
       "\t 0.025974026 &  5          & 0.46753247  & 0.8571429   & 0.08869284 \\\\\n",
       "\t 0.012987013 & 17          & 0.15584416  & 0.8181818   & 0.08746732 \\\\\n",
       "\t 0.007792208 & 23          & 0.07792208  & 0.7922078   & 0.08659740 \\\\\n",
       "\t 0.006493506 & 28          & 0.03896104  & 0.8571429   & 0.08869284 \\\\\n",
       "\t 0.000000000 & 34          & 0.00000000  & 0.8571429   & 0.08869284 \\\\\n",
       "\\end{tabular}\n"
      ],
      "text/markdown": [
       "\n",
       "| CP | nsplit | rel error | xerror | xstd |\n",
       "|---|---|---|---|---|\n",
       "| 0.298701299 |  0          | 1.00000000  | 1.0000000   | 0.09242602  |\n",
       "| 0.077922078 |  1          | 0.70129870  | 0.7402597   | 0.08472471  |\n",
       "| 0.064935065 |  2          | 0.62337662  | 0.8051948   | 0.08703775  |\n",
       "| 0.051948052 |  3          | 0.55844156  | 0.7922078   | 0.08659740  |\n",
       "| 0.038961039 |  4          | 0.50649351  | 0.8311688   | 0.08788625  |\n",
       "| 0.025974026 |  5          | 0.46753247  | 0.8571429   | 0.08869284  |\n",
       "| 0.012987013 | 17          | 0.15584416  | 0.8181818   | 0.08746732  |\n",
       "| 0.007792208 | 23          | 0.07792208  | 0.7922078   | 0.08659740  |\n",
       "| 0.006493506 | 28          | 0.03896104  | 0.8571429   | 0.08869284  |\n",
       "| 0.000000000 | 34          | 0.00000000  | 0.8571429   | 0.08869284  |\n",
       "\n"
      ],
      "text/plain": [
       "   CP          nsplit rel error  xerror    xstd      \n",
       "1  0.298701299  0     1.00000000 1.0000000 0.09242602\n",
       "2  0.077922078  1     0.70129870 0.7402597 0.08472471\n",
       "3  0.064935065  2     0.62337662 0.8051948 0.08703775\n",
       "4  0.051948052  3     0.55844156 0.7922078 0.08659740\n",
       "5  0.038961039  4     0.50649351 0.8311688 0.08788625\n",
       "6  0.025974026  5     0.46753247 0.8571429 0.08869284\n",
       "7  0.012987013 17     0.15584416 0.8181818 0.08746732\n",
       "8  0.007792208 23     0.07792208 0.7922078 0.08659740\n",
       "9  0.006493506 28     0.03896104 0.8571429 0.08869284\n",
       "10 0.000000000 34     0.00000000 0.8571429 0.08869284"
      ]
     },
     "metadata": {},
     "output_type": "display_data"
    }
   ],
   "source": [
    "fit.max$cptable"
   ]
  },
  {
   "cell_type": "markdown",
   "metadata": {},
   "source": [
    "><u>Réponse</u> : On prend $\\alpha=0.0259$"
   ]
  },
  {
   "cell_type": "markdown",
   "metadata": {},
   "source": [
    "###  Exploitation des résultats\n",
    "\n",
    "><u>Tâche 6</u> : L'élagage a permi de sélectionner le meilleur sous-arbre. Construire cet arbre à l'aide de la fonction `prune`. Quel est le taux d'erreur de classification de cet arbre sur l'ensemble de test ? Afficher la matrice de confusion. Quel est le nombre de mal classés par l’arbre dans l’échantillon ? Visualiser cet arbre. Quelles sont les trois variables les plus importantes pour la détermination de la catégorie ?\n",
    ">\n",
    "> On considère une nouvelle observation (F,OBS,0.38,0.45,0.49,Y,Unmarried,V,Paid,5720,1,10,Um,Others,Housewife,20,\t3,Govt,Asm,1,0.78) : prédire le résultat de cet étudiant à l'examen."
   ]
  },
  {
   "cell_type": "code",
   "execution_count": 257,
   "metadata": {
    "vscode": {
     "languageId": "r"
    }
   },
   "outputs": [
    {
     "name": "stdout",
     "output_type": "stream",
     "text": [
      "[1] 0.2533333\n",
      "      y_test\n",
      "       Fail Pass\n",
      "  Fail   18    6\n",
      "  Pass   13   38\n"
     ]
    },
    {
     "data": {
      "image/png": "[encoded data removed]",
      "text/plain": [
       "plot without title"
      ]
     },
     "metadata": {},
     "output_type": "display_data"
    }
   ],
   "source": [
    "tree<-prune(fit.max,cp=0.0259)\n",
    "#insert code\n",
    "rpart.plot(tree, extra=1)\n",
    "\n",
    "confMat<-table(predict(tree, X_test, type = \"class\"), y_test)\n",
    "precision<-sum(diag(confMat))/sum(confMat)\n",
    "print(1-precision)\n",
    "print(confMat)\n"
   ]
  },
  {
   "cell_type": "code",
   "execution_count": 258,
   "metadata": {
    "vscode": {
     "languageId": "r"
    }
   },
   "outputs": [
    {
     "ename": "ERROR",
     "evalue": "Error in UseMethod(\"predict\"): no applicable method for 'predict' applied to an object of class \"character\"\n",
     "output_type": "error",
     "traceback": [
      "Error in UseMethod(\"predict\"): no applicable method for 'predict' applied to an object of class \"character\"\nTraceback:\n",
      "1. predict(c(\"F\", \"OBS\", 0.38, 0.45, 0.49, \"Y\", \"Unmarried\", \"V\", \n .     \"Paid\", 5720, 1, 10, \"Um\", \"Others\", \"Housewife\", 20, 3, \n .     \"Govt\", \"Asm\", 1, 0.78), tree)"
     ]
    }
   ],
   "source": [
    "predict(c('F','OBS',0.38,0.45,0.49,'Y','Unmarried','V','Paid',5720,1,10,'Um','Others','Housewife',20,\t3,'Govt','Asm',1,0.78), tree)"
   ]
  },
  {
   "cell_type": "markdown",
   "metadata": {},
   "source": [
    "><u>Réponse</u> : Le taux d'erreurs est : $0.2533333$%. Les non classés sont : 19 et les variables importantes sont : ('TWP', 'ARR', 'TNP').<br>\n",
    "<u>Nouvelle observation</u> (F,OBS,0.38,0.45,0.49,Y,Unmarried,V,Paid,5720,1,10,Um,Others,Housewife,20,\t3,Govt,Asm,1,0.78) : <b>dazdz"
   ]
  },
  {
   "cell_type": "markdown",
   "metadata": {},
   "source": [
    "><u>Tâche 7</u> (facultatif) : Observer comment les résultats précédents sont impactés (en particulier dans les tâches 6 et 7) si l'on change les échantillons d'entraînement et de test. Comment expliquer ces résultats ?"
   ]
  },
  {
   "cell_type": "code",
   "execution_count": null,
   "metadata": {
    "vscode": {
     "languageId": "r"
    }
   },
   "outputs": [
    {
     "name": "stdout",
     "output_type": "stream",
     "text": [
      "[1] 0.2666667\n",
      "      y_test2\n",
      "       Fail Pass\n",
      "  Fail   15   16\n",
      "  Pass    4   40\n"
     ]
    },
    {
     "data": {
      "image/png": "[encoded data removed]",
      "text/plain": [
       "plot without title"
      ]
     },
     "metadata": {},
     "output_type": "display_data"
    }
   ],
   "source": [
    "#insert code\n",
    "\n",
    "Train2<-Train\n",
    "Train2[(151:225),]<-Test\n",
    "Test2<-Train[(151:225),]\n",
    "\n",
    "X_train2=Train2[,-22]\n",
    "y_train2=Train2[,22]\n",
    "X_test2=Test2[,-22]\n",
    "y_test2=Test2[,22]\n",
    "\n",
    "fit <- rpart(y_train2~ .,data=X_train2)\n",
    "rpart.plot(fit,extra=1)\n",
    "\n",
    "confMat<-table(predict(fit, X_test2, type = \"class\"), y_test2)\n",
    "precision<-sum(diag(confMat))/sum(confMat)\n",
    "print(1-precision)\n",
    "print(confMat)"
   ]
  },
  {
   "cell_type": "markdown",
   "metadata": {},
   "source": [
    "><u>Réponse</u> : A cause de la nature de variance des arbres de décision, le moindre changement d'échantillon entraine un changement complètement différent au niveau des résultats obtenus"
   ]
  },
  {
   "cell_type": "markdown",
   "metadata": {},
   "source": [
    "## Amélioration de la prédiction\n",
    "\n",
    "Nous allons maintenant mettre en place les méthodes de réduction de la variance introduites en cours afin d'améliorer la prédiction."
   ]
  },
  {
   "cell_type": "markdown",
   "metadata": {},
   "source": [
    "### Bagging (<b>B</b>ootstrap <b>AGG</b>regat<b>ING</b>)\n",
    "\n",
    "\n",
    "><u>Tâche 8</u> : Rappeler quelle est la différence entre Bagging et Forêt aléatoire. Effectuer une prédiction en utilisant la méthode de Bagging (fonction `randomForest` se trouvant dans la librairie du même nom). Tracer le taux d'erreur sur l'ensemble de test en fonction du nombre d'arbres utilisés. Tracer sur le même graphe le taux d'erreur 'out-of-bag'."
   ]
  },
  {
   "cell_type": "code",
   "execution_count": null,
   "metadata": {
    "vscode": {
     "languageId": "r"
    }
   },
   "outputs": [
    {
     "name": "stdout",
     "output_type": "stream",
     "text": [
      " [1] 0.2400000 0.2000000 0.2133333 0.1866667 0.2000000 0.2000000 0.2266667\n",
      " [8] 0.2133333 0.2266667 0.2133333 0.2000000 0.2133333\n"
     ]
    },
    {
     "data": {
      "image/png": "[encoded data removed]",
      "text/plain": [
       "plot without title"
      ]
     },
     "metadata": {},
     "output_type": "display_data"
    }
   ],
   "source": [
    "error_rate<-c()\n",
    "error_rate_oo<-c()\n",
    "p=21\n",
    "Ntrees=c(1,10,30,50,100,200,250,300,400,500,1000,5000)\n",
    "for(i in Ntrees){\n",
    "    fit.rf <- randomForest(y_train ~ ., data=X_train,xtest=X_test,ytest=y_test,ntree=i ,mtry=p, importance=TRUE)\n",
    "    cm<-fit.rf$confusion\n",
    "    error_rate_oo<-c(error_rate_oo,1-sum(diag(cm))/sum(cm[,-3]))\n",
    "    confMat<-fit.rf$test$confusion\n",
    "    error_rate<-c(error_rate,1-sum(diag(confMat))/sum(confMat[,-3]))\n",
    "}\n",
    "print(error_rate)\n",
    "plot(Ntrees,error_rate,type='l',col='blue',lwd=2,ylim=c(min(error_rate)-0.1,max(error_rate)+0.1),ylab=\"Error rate\",xlab=\"Number of Trees\")\n",
    "points(Ntrees,error_rate_oo,type='l',col='red',lwd=2)\n",
    "legend(\"topright\", legend=c(\"error rate\",\"OOB error\"),lty = c(1,1),col=c(\"blue\",\"red\"))"
   ]
  },
  {
   "cell_type": "markdown",
   "metadata": {},
   "source": [
    "><u>Réponse</u> : La différence entre Bootstrap Aggregating et Forêt aléatoire est que la méthode du Bagging utilise n'importe quel modèle, alors que la forêt aléatoire utilise un ensemble d'arbres de décision, ainsi que l'arbre de décision prend un échantillon non seulement des lignes, mais aussi des variables."
   ]
  },
  {
   "cell_type": "markdown",
   "metadata": {},
   "source": [
    "><u>Tâche 9</u> : Déterminer quelles sont les variables les plus importantes en utilisant l'attribut `importance` et/ou la fonction `varImpPlot`."
   ]
  },
  {
   "cell_type": "code",
   "execution_count": null,
   "metadata": {
    "vscode": {
     "languageId": "r"
    }
   },
   "outputs": [
    {
     "data": {
      "text/html": [
       "<table>\n",
       "<thead><tr><th></th><th scope=col>Fail</th><th scope=col>Pass</th><th scope=col>MeanDecreaseAccuracy</th><th scope=col>MeanDecreaseGini</th></tr></thead>\n",
       "<tbody>\n",
       "\t<tr><th scope=row>GE</th><td>-4.052761e-04</td><td>-2.482226e-04</td><td>-3.075893e-04</td><td> 0.1926151   </td></tr>\n",
       "\t<tr><th scope=row>CST</th><td>-1.666370e-03</td><td> 1.503693e-03</td><td> 3.973493e-04</td><td> 3.7350938   </td></tr>\n",
       "\t<tr><th scope=row>TNP</th><td> 5.466624e-02</td><td> 2.948307e-02</td><td> 3.764480e-02</td><td>14.9613518   </td></tr>\n",
       "\t<tr><th scope=row>TWP</th><td> 6.690099e-02</td><td> 3.349790e-02</td><td> 4.458826e-02</td><td>20.5460887   </td></tr>\n",
       "\t<tr><th scope=row>IAP</th><td> 5.969873e-02</td><td> 9.440962e-03</td><td> 2.631962e-02</td><td>12.6592447   </td></tr>\n",
       "\t<tr><th scope=row>ARR</th><td> 6.480495e-02</td><td> 3.157369e-02</td><td> 4.254944e-02</td><td>12.7132305   </td></tr>\n",
       "\t<tr><th scope=row>MS</th><td> 0.000000e+00</td><td> 0.000000e+00</td><td> 0.000000e+00</td><td> 0.2414615   </td></tr>\n",
       "\t<tr><th scope=row>LS</th><td>-1.340989e-04</td><td>-7.083144e-05</td><td>-8.379621e-05</td><td> 0.1645945   </td></tr>\n",
       "\t<tr><th scope=row>AS</th><td> 2.117907e-03</td><td> 1.650159e-03</td><td> 1.817413e-03</td><td> 0.7772331   </td></tr>\n",
       "\t<tr><th scope=row>FMI</th><td> 1.537038e-04</td><td> 4.128239e-03</td><td> 2.844432e-03</td><td> 5.5410879   </td></tr>\n",
       "\t<tr><th scope=row>FS</th><td>-4.306539e-03</td><td>-2.031243e-03</td><td>-2.813305e-03</td><td> 2.3266478   </td></tr>\n",
       "\t<tr><th scope=row>FQ</th><td> 2.059101e-03</td><td> 4.335573e-04</td><td> 1.009170e-03</td><td> 2.6337474   </td></tr>\n",
       "\t<tr><th scope=row>MQ</th><td> 1.474718e-03</td><td>-3.587606e-04</td><td> 2.870788e-04</td><td> 1.9254235   </td></tr>\n",
       "\t<tr><th scope=row>FO</th><td> 2.038709e-04</td><td>-2.482178e-03</td><td>-1.560740e-03</td><td> 1.5765766   </td></tr>\n",
       "\t<tr><th scope=row>MO</th><td> 3.574506e-05</td><td>-3.536018e-04</td><td>-2.291411e-04</td><td> 0.3571783   </td></tr>\n",
       "\t<tr><th scope=row>NF</th><td> 1.119582e-02</td><td> 6.222151e-03</td><td> 7.896866e-03</td><td> 6.4204822   </td></tr>\n",
       "\t<tr><th scope=row>SH</th><td> 6.551735e-03</td><td>-8.739861e-03</td><td>-3.541532e-03</td><td> 3.3480951   </td></tr>\n",
       "\t<tr><th scope=row>SS</th><td> 7.343441e-04</td><td> 8.819079e-04</td><td> 8.417394e-04</td><td> 0.4984637   </td></tr>\n",
       "\t<tr><th scope=row>ME</th><td> 3.211146e-03</td><td>-3.486033e-04</td><td> 8.703525e-04</td><td> 0.6672918   </td></tr>\n",
       "\t<tr><th scope=row>TT</th><td>-1.340576e-03</td><td>-5.098263e-04</td><td>-7.701388e-04</td><td> 2.2565146   </td></tr>\n",
       "\t<tr><th scope=row>ATD</th><td> 1.545210e-03</td><td> 2.857027e-03</td><td> 2.399970e-03</td><td> 7.3329230   </td></tr>\n",
       "</tbody>\n",
       "</table>\n"
      ],
      "text/latex": [
       "\\begin{tabular}{r|llll}\n",
       "  & Fail & Pass & MeanDecreaseAccuracy & MeanDecreaseGini\\\\\n",
       "\\hline\n",
       "\tGE & -4.052761e-04 & -2.482226e-04 & -3.075893e-04 &  0.1926151   \\\\\n",
       "\tCST & -1.666370e-03 &  1.503693e-03 &  3.973493e-04 &  3.7350938   \\\\\n",
       "\tTNP &  5.466624e-02 &  2.948307e-02 &  3.764480e-02 & 14.9613518   \\\\\n",
       "\tTWP &  6.690099e-02 &  3.349790e-02 &  4.458826e-02 & 20.5460887   \\\\\n",
       "\tIAP &  5.969873e-02 &  9.440962e-03 &  2.631962e-02 & 12.6592447   \\\\\n",
       "\tARR &  6.480495e-02 &  3.157369e-02 &  4.254944e-02 & 12.7132305   \\\\\n",
       "\tMS &  0.000000e+00 &  0.000000e+00 &  0.000000e+00 &  0.2414615   \\\\\n",
       "\tLS & -1.340989e-04 & -7.083144e-05 & -8.379621e-05 &  0.1645945   \\\\\n",
       "\tAS &  2.117907e-03 &  1.650159e-03 &  1.817413e-03 &  0.7772331   \\\\\n",
       "\tFMI &  1.537038e-04 &  4.128239e-03 &  2.844432e-03 &  5.5410879   \\\\\n",
       "\tFS & -4.306539e-03 & -2.031243e-03 & -2.813305e-03 &  2.3266478   \\\\\n",
       "\tFQ &  2.059101e-03 &  4.335573e-04 &  1.009170e-03 &  2.6337474   \\\\\n",
       "\tMQ &  1.474718e-03 & -3.587606e-04 &  2.870788e-04 &  1.9254235   \\\\\n",
       "\tFO &  2.038709e-04 & -2.482178e-03 & -1.560740e-03 &  1.5765766   \\\\\n",
       "\tMO &  3.574506e-05 & -3.536018e-04 & -2.291411e-04 &  0.3571783   \\\\\n",
       "\tNF &  1.119582e-02 &  6.222151e-03 &  7.896866e-03 &  6.4204822   \\\\\n",
       "\tSH &  6.551735e-03 & -8.739861e-03 & -3.541532e-03 &  3.3480951   \\\\\n",
       "\tSS &  7.343441e-04 &  8.819079e-04 &  8.417394e-04 &  0.4984637   \\\\\n",
       "\tME &  3.211146e-03 & -3.486033e-04 &  8.703525e-04 &  0.6672918   \\\\\n",
       "\tTT & -1.340576e-03 & -5.098263e-04 & -7.701388e-04 &  2.2565146   \\\\\n",
       "\tATD &  1.545210e-03 &  2.857027e-03 &  2.399970e-03 &  7.3329230   \\\\\n",
       "\\end{tabular}\n"
      ],
      "text/markdown": [
       "\n",
       "| <!--/--> | Fail | Pass | MeanDecreaseAccuracy | MeanDecreaseGini |\n",
       "|---|---|---|---|---|\n",
       "| GE | -4.052761e-04 | -2.482226e-04 | -3.075893e-04 |  0.1926151    |\n",
       "| CST | -1.666370e-03 |  1.503693e-03 |  3.973493e-04 |  3.7350938    |\n",
       "| TNP |  5.466624e-02 |  2.948307e-02 |  3.764480e-02 | 14.9613518    |\n",
       "| TWP |  6.690099e-02 |  3.349790e-02 |  4.458826e-02 | 20.5460887    |\n",
       "| IAP |  5.969873e-02 |  9.440962e-03 |  2.631962e-02 | 12.6592447    |\n",
       "| ARR |  6.480495e-02 |  3.157369e-02 |  4.254944e-02 | 12.7132305    |\n",
       "| MS |  0.000000e+00 |  0.000000e+00 |  0.000000e+00 |  0.2414615    |\n",
       "| LS | -1.340989e-04 | -7.083144e-05 | -8.379621e-05 |  0.1645945    |\n",
       "| AS |  2.117907e-03 |  1.650159e-03 |  1.817413e-03 |  0.7772331    |\n",
       "| FMI |  1.537038e-04 |  4.128239e-03 |  2.844432e-03 |  5.5410879    |\n",
       "| FS | -4.306539e-03 | -2.031243e-03 | -2.813305e-03 |  2.3266478    |\n",
       "| FQ |  2.059101e-03 |  4.335573e-04 |  1.009170e-03 |  2.6337474    |\n",
       "| MQ |  1.474718e-03 | -3.587606e-04 |  2.870788e-04 |  1.9254235    |\n",
       "| FO |  2.038709e-04 | -2.482178e-03 | -1.560740e-03 |  1.5765766    |\n",
       "| MO |  3.574506e-05 | -3.536018e-04 | -2.291411e-04 |  0.3571783    |\n",
       "| NF |  1.119582e-02 |  6.222151e-03 |  7.896866e-03 |  6.4204822    |\n",
       "| SH |  6.551735e-03 | -8.739861e-03 | -3.541532e-03 |  3.3480951    |\n",
       "| SS |  7.343441e-04 |  8.819079e-04 |  8.417394e-04 |  0.4984637    |\n",
       "| ME |  3.211146e-03 | -3.486033e-04 |  8.703525e-04 |  0.6672918    |\n",
       "| TT | -1.340576e-03 | -5.098263e-04 | -7.701388e-04 |  2.2565146    |\n",
       "| ATD |  1.545210e-03 |  2.857027e-03 |  2.399970e-03 |  7.3329230    |\n",
       "\n"
      ],
      "text/plain": [
       "    Fail          Pass          MeanDecreaseAccuracy MeanDecreaseGini\n",
       "GE  -4.052761e-04 -2.482226e-04 -3.075893e-04         0.1926151      \n",
       "CST -1.666370e-03  1.503693e-03  3.973493e-04         3.7350938      \n",
       "TNP  5.466624e-02  2.948307e-02  3.764480e-02        14.9613518      \n",
       "TWP  6.690099e-02  3.349790e-02  4.458826e-02        20.5460887      \n",
       "IAP  5.969873e-02  9.440962e-03  2.631962e-02        12.6592447      \n",
       "ARR  6.480495e-02  3.157369e-02  4.254944e-02        12.7132305      \n",
       "MS   0.000000e+00  0.000000e+00  0.000000e+00         0.2414615      \n",
       "LS  -1.340989e-04 -7.083144e-05 -8.379621e-05         0.1645945      \n",
       "AS   2.117907e-03  1.650159e-03  1.817413e-03         0.7772331      \n",
       "FMI  1.537038e-04  4.128239e-03  2.844432e-03         5.5410879      \n",
       "FS  -4.306539e-03 -2.031243e-03 -2.813305e-03         2.3266478      \n",
       "FQ   2.059101e-03  4.335573e-04  1.009170e-03         2.6337474      \n",
       "MQ   1.474718e-03 -3.587606e-04  2.870788e-04         1.9254235      \n",
       "FO   2.038709e-04 -2.482178e-03 -1.560740e-03         1.5765766      \n",
       "MO   3.574506e-05 -3.536018e-04 -2.291411e-04         0.3571783      \n",
       "NF   1.119582e-02  6.222151e-03  7.896866e-03         6.4204822      \n",
       "SH   6.551735e-03 -8.739861e-03 -3.541532e-03         3.3480951      \n",
       "SS   7.343441e-04  8.819079e-04  8.417394e-04         0.4984637      \n",
       "ME   3.211146e-03 -3.486033e-04  8.703525e-04         0.6672918      \n",
       "TT  -1.340576e-03 -5.098263e-04 -7.701388e-04         2.2565146      \n",
       "ATD  1.545210e-03  2.857027e-03  2.399970e-03         7.3329230      "
      ]
     },
     "metadata": {},
     "output_type": "display_data"
    },
    {
     "data": {
      "image/png": "[encoded data removed]",
      "text/plain": [
       "plot without title"
      ]
     },
     "metadata": {},
     "output_type": "display_data"
    }
   ],
   "source": [
    "fit.rf<-randomForest(y_train ~ ., data=X_train,xtest=X_test,ytest=y_test,ntree=5000 ,mtry=p, importance=TRUE)\n",
    "fit.rf$importance\n",
    "varImpPlot(fit.rf)\n",
    "\n",
    "# Les variables les plus importantes sont : ('TWP', 'TNP', 'ARR')"
   ]
  },
  {
   "cell_type": "markdown",
   "metadata": {},
   "source": [
    "### Forêts aléatoires\n",
    "\n",
    "><u>Tâche 10</u> : Effectuer une prédiction en utilisant les forêts aléatoires. Pour différents nombres de variables explicatives échantillonnées $m=\\sqrt{p}$, $m=p/2$ où $p$ est le nombre total de variables explicatives ($p=21$), tracer le taux d'erreur sur l'ensemble de test en fonction du nombre d'arbres utilisés. Tracer sur le même graphe le taux d'erreur 'out-of-bag'\n",
    " "
   ]
  },
  {
   "cell_type": "code",
   "execution_count": null,
   "metadata": {
    "scrolled": false,
    "vscode": {
     "languageId": "r"
    }
   },
   "outputs": [
    {
     "data": {
      "image/png": "[encoded data removed]",
      "text/plain": [
       "plot without title"
      ]
     },
     "metadata": {},
     "output_type": "display_data"
    }
   ],
   "source": [
    "error_rate<-c()\n",
    "error_rate_oo<-c()\n",
    "p=21\n",
    "Ntrees=c(1,30,50,100,150,200,300,500,1000,5000)\n",
    "for( m in c(sqrt(p),p/2)){\n",
    "    for(i in Ntrees){\n",
    "        fit.rf <- randomForest(y_train ~ ., data=X_train,xtest=X_test,ytest=y_test,ntree=i ,mtry=m,maxnodes=30, importance=TRUE)\n",
    "        cm<-fit.rf$confusion\n",
    "        error_rate_oo<-c(error_rate_oo,1-sum(diag(cm))/sum(cm[,-3]))\n",
    "        confMat<-fit.rf$test$confusion\n",
    "        error_rate<-c(error_rate,1-sum(diag(confMat))/sum(confMat[,-3]))\n",
    "    }\n",
    "}\n",
    "l=length(Ntrees)\n",
    "plot(Ntrees,error_rate[(1:l)],type='l',col='blue',lwd=2,ylim=c(min(error_rate)-0.1,max(error_rate)+0.1),ylab=\"Error rate\",xlab=\"Number of Trees\")\n",
    "points(Ntrees,error_rate_oo[(1:l)],type='l',col='blue',lty=2,lwd=2)\n",
    "points(Ntrees,error_rate[((1+l):(2*l))],type='l',col='red',lwd=2,ylab=\"Error rate\",xlab=\"Number of Trees\")\n",
    "points(Ntrees,error_rate_oo[((1+l):(2*l))],type='l',col='red',lty=2,lwd=2)\n",
    "legend(\"topright\", legend=c(\"m=sqrt(p)\",\"m=sqrt(p),OOB\",\"m=p/2\",\"m=p/2,OOB\"),lty = c(1,2,1,2),col=c(\"blue\",\"blue\",\"red\",\"red\"))"
   ]
  },
  {
   "cell_type": "markdown",
   "metadata": {},
   "source": [
    "><u>Tâche 11</u> : Déterminer quelles sont les variables les plus importantes en utilisant l'attribut `importance` et/ou la fonction `varImpPlot` pour la méthode de forêt aléatoire la plus performante."
   ]
  },
  {
   "cell_type": "code",
   "execution_count": null,
   "metadata": {
    "vscode": {
     "languageId": "r"
    }
   },
   "outputs": [
    {
     "name": "stdout",
     "output_type": "stream",
     "text": [
      " [1] 0.3066667 0.2400000 0.1600000 0.1866667 0.2000000 0.1866667 0.2133333\n",
      " [8] 0.2266667 0.2133333 0.2133333 0.2400000 0.2133333 0.2133333 0.2000000\n",
      "[15] 0.1866667 0.2133333 0.2133333 0.2000000 0.1866667 0.1866667\n"
     ]
    },
    {
     "data": {
      "text/html": [
       "<table>\n",
       "<thead><tr><th></th><th scope=col>Fail</th><th scope=col>Pass</th><th scope=col>MeanDecreaseAccuracy</th><th scope=col>MeanDecreaseGini</th></tr></thead>\n",
       "<tbody>\n",
       "\t<tr><th scope=row>GE</th><td>-6.742129e-04</td><td>-3.595253e-04</td><td>-4.352305e-04</td><td> 0.2895070   </td></tr>\n",
       "\t<tr><th scope=row>CST</th><td> 1.082912e-03</td><td> 1.789820e-03</td><td> 1.520358e-03</td><td> 3.8706677   </td></tr>\n",
       "\t<tr><th scope=row>TNP</th><td> 5.475861e-02</td><td> 2.334598e-02</td><td> 3.387911e-02</td><td>14.6875192   </td></tr>\n",
       "\t<tr><th scope=row>TWP</th><td> 6.665506e-02</td><td> 3.197991e-02</td><td> 4.374276e-02</td><td>18.5578982   </td></tr>\n",
       "\t<tr><th scope=row>IAP</th><td> 5.870435e-02</td><td> 9.617586e-03</td><td> 2.614215e-02</td><td>13.0967684   </td></tr>\n",
       "\t<tr><th scope=row>ARR</th><td> 6.711619e-02</td><td> 3.153048e-02</td><td> 4.347644e-02</td><td>11.7949752   </td></tr>\n",
       "\t<tr><th scope=row>MS</th><td> 0.000000e+00</td><td> 0.000000e+00</td><td> 0.000000e+00</td><td> 0.2022854   </td></tr>\n",
       "\t<tr><th scope=row>LS</th><td>-1.253459e-04</td><td> 1.716578e-04</td><td> 5.410557e-05</td><td> 0.2237581   </td></tr>\n",
       "\t<tr><th scope=row>AS</th><td> 4.695759e-03</td><td> 1.427409e-03</td><td> 2.550998e-03</td><td> 1.1188718   </td></tr>\n",
       "\t<tr><th scope=row>FMI</th><td> 2.659583e-03</td><td> 4.075070e-03</td><td> 3.489353e-03</td><td> 5.6986174   </td></tr>\n",
       "\t<tr><th scope=row>FS</th><td>-2.053001e-03</td><td>-1.784372e-03</td><td>-1.858375e-03</td><td> 2.7561403   </td></tr>\n",
       "\t<tr><th scope=row>FQ</th><td> 1.531804e-03</td><td> 8.819632e-04</td><td> 1.134887e-03</td><td> 3.3283296   </td></tr>\n",
       "\t<tr><th scope=row>MQ</th><td> 2.067553e-03</td><td>-5.579604e-05</td><td> 6.303984e-04</td><td> 2.1292146   </td></tr>\n",
       "\t<tr><th scope=row>FO</th><td>-2.602018e-04</td><td>-1.300019e-03</td><td>-9.531978e-04</td><td> 1.9446256   </td></tr>\n",
       "\t<tr><th scope=row>MO</th><td> 2.189431e-04</td><td>-4.442106e-04</td><td>-2.234191e-04</td><td> 0.5072158   </td></tr>\n",
       "\t<tr><th scope=row>NF</th><td> 1.235427e-02</td><td> 2.897695e-03</td><td> 6.107830e-03</td><td> 5.9464863   </td></tr>\n",
       "\t<tr><th scope=row>SH</th><td> 4.250116e-03</td><td>-3.868186e-03</td><td>-1.022188e-03</td><td> 3.3366334   </td></tr>\n",
       "\t<tr><th scope=row>SS</th><td>-3.791417e-04</td><td> 7.770745e-04</td><td> 3.553645e-04</td><td> 0.6251342   </td></tr>\n",
       "\t<tr><th scope=row>ME</th><td> 3.083015e-03</td><td>-8.446715e-04</td><td> 4.648419e-04</td><td> 0.7334930   </td></tr>\n",
       "\t<tr><th scope=row>TT</th><td>-9.853065e-05</td><td>-9.194969e-04</td><td>-6.455831e-04</td><td> 2.4573296   </td></tr>\n",
       "\t<tr><th scope=row>ATD</th><td> 2.373540e-03</td><td> 3.598810e-03</td><td> 3.142071e-03</td><td> 6.6580323   </td></tr>\n",
       "</tbody>\n",
       "</table>\n"
      ],
      "text/latex": [
       "\\begin{tabular}{r|llll}\n",
       "  & Fail & Pass & MeanDecreaseAccuracy & MeanDecreaseGini\\\\\n",
       "\\hline\n",
       "\tGE & -6.742129e-04 & -3.595253e-04 & -4.352305e-04 &  0.2895070   \\\\\n",
       "\tCST &  1.082912e-03 &  1.789820e-03 &  1.520358e-03 &  3.8706677   \\\\\n",
       "\tTNP &  5.475861e-02 &  2.334598e-02 &  3.387911e-02 & 14.6875192   \\\\\n",
       "\tTWP &  6.665506e-02 &  3.197991e-02 &  4.374276e-02 & 18.5578982   \\\\\n",
       "\tIAP &  5.870435e-02 &  9.617586e-03 &  2.614215e-02 & 13.0967684   \\\\\n",
       "\tARR &  6.711619e-02 &  3.153048e-02 &  4.347644e-02 & 11.7949752   \\\\\n",
       "\tMS &  0.000000e+00 &  0.000000e+00 &  0.000000e+00 &  0.2022854   \\\\\n",
       "\tLS & -1.253459e-04 &  1.716578e-04 &  5.410557e-05 &  0.2237581   \\\\\n",
       "\tAS &  4.695759e-03 &  1.427409e-03 &  2.550998e-03 &  1.1188718   \\\\\n",
       "\tFMI &  2.659583e-03 &  4.075070e-03 &  3.489353e-03 &  5.6986174   \\\\\n",
       "\tFS & -2.053001e-03 & -1.784372e-03 & -1.858375e-03 &  2.7561403   \\\\\n",
       "\tFQ &  1.531804e-03 &  8.819632e-04 &  1.134887e-03 &  3.3283296   \\\\\n",
       "\tMQ &  2.067553e-03 & -5.579604e-05 &  6.303984e-04 &  2.1292146   \\\\\n",
       "\tFO & -2.602018e-04 & -1.300019e-03 & -9.531978e-04 &  1.9446256   \\\\\n",
       "\tMO &  2.189431e-04 & -4.442106e-04 & -2.234191e-04 &  0.5072158   \\\\\n",
       "\tNF &  1.235427e-02 &  2.897695e-03 &  6.107830e-03 &  5.9464863   \\\\\n",
       "\tSH &  4.250116e-03 & -3.868186e-03 & -1.022188e-03 &  3.3366334   \\\\\n",
       "\tSS & -3.791417e-04 &  7.770745e-04 &  3.553645e-04 &  0.6251342   \\\\\n",
       "\tME &  3.083015e-03 & -8.446715e-04 &  4.648419e-04 &  0.7334930   \\\\\n",
       "\tTT & -9.853065e-05 & -9.194969e-04 & -6.455831e-04 &  2.4573296   \\\\\n",
       "\tATD &  2.373540e-03 &  3.598810e-03 &  3.142071e-03 &  6.6580323   \\\\\n",
       "\\end{tabular}\n"
      ],
      "text/markdown": [
       "\n",
       "| <!--/--> | Fail | Pass | MeanDecreaseAccuracy | MeanDecreaseGini |\n",
       "|---|---|---|---|---|\n",
       "| GE | -6.742129e-04 | -3.595253e-04 | -4.352305e-04 |  0.2895070    |\n",
       "| CST |  1.082912e-03 |  1.789820e-03 |  1.520358e-03 |  3.8706677    |\n",
       "| TNP |  5.475861e-02 |  2.334598e-02 |  3.387911e-02 | 14.6875192    |\n",
       "| TWP |  6.665506e-02 |  3.197991e-02 |  4.374276e-02 | 18.5578982    |\n",
       "| IAP |  5.870435e-02 |  9.617586e-03 |  2.614215e-02 | 13.0967684    |\n",
       "| ARR |  6.711619e-02 |  3.153048e-02 |  4.347644e-02 | 11.7949752    |\n",
       "| MS |  0.000000e+00 |  0.000000e+00 |  0.000000e+00 |  0.2022854    |\n",
       "| LS | -1.253459e-04 |  1.716578e-04 |  5.410557e-05 |  0.2237581    |\n",
       "| AS |  4.695759e-03 |  1.427409e-03 |  2.550998e-03 |  1.1188718    |\n",
       "| FMI |  2.659583e-03 |  4.075070e-03 |  3.489353e-03 |  5.6986174    |\n",
       "| FS | -2.053001e-03 | -1.784372e-03 | -1.858375e-03 |  2.7561403    |\n",
       "| FQ |  1.531804e-03 |  8.819632e-04 |  1.134887e-03 |  3.3283296    |\n",
       "| MQ |  2.067553e-03 | -5.579604e-05 |  6.303984e-04 |  2.1292146    |\n",
       "| FO | -2.602018e-04 | -1.300019e-03 | -9.531978e-04 |  1.9446256    |\n",
       "| MO |  2.189431e-04 | -4.442106e-04 | -2.234191e-04 |  0.5072158    |\n",
       "| NF |  1.235427e-02 |  2.897695e-03 |  6.107830e-03 |  5.9464863    |\n",
       "| SH |  4.250116e-03 | -3.868186e-03 | -1.022188e-03 |  3.3366334    |\n",
       "| SS | -3.791417e-04 |  7.770745e-04 |  3.553645e-04 |  0.6251342    |\n",
       "| ME |  3.083015e-03 | -8.446715e-04 |  4.648419e-04 |  0.7334930    |\n",
       "| TT | -9.853065e-05 | -9.194969e-04 | -6.455831e-04 |  2.4573296    |\n",
       "| ATD |  2.373540e-03 |  3.598810e-03 |  3.142071e-03 |  6.6580323    |\n",
       "\n"
      ],
      "text/plain": [
       "    Fail          Pass          MeanDecreaseAccuracy MeanDecreaseGini\n",
       "GE  -6.742129e-04 -3.595253e-04 -4.352305e-04         0.2895070      \n",
       "CST  1.082912e-03  1.789820e-03  1.520358e-03         3.8706677      \n",
       "TNP  5.475861e-02  2.334598e-02  3.387911e-02        14.6875192      \n",
       "TWP  6.665506e-02  3.197991e-02  4.374276e-02        18.5578982      \n",
       "IAP  5.870435e-02  9.617586e-03  2.614215e-02        13.0967684      \n",
       "ARR  6.711619e-02  3.153048e-02  4.347644e-02        11.7949752      \n",
       "MS   0.000000e+00  0.000000e+00  0.000000e+00         0.2022854      \n",
       "LS  -1.253459e-04  1.716578e-04  5.410557e-05         0.2237581      \n",
       "AS   4.695759e-03  1.427409e-03  2.550998e-03         1.1188718      \n",
       "FMI  2.659583e-03  4.075070e-03  3.489353e-03         5.6986174      \n",
       "FS  -2.053001e-03 -1.784372e-03 -1.858375e-03         2.7561403      \n",
       "FQ   1.531804e-03  8.819632e-04  1.134887e-03         3.3283296      \n",
       "MQ   2.067553e-03 -5.579604e-05  6.303984e-04         2.1292146      \n",
       "FO  -2.602018e-04 -1.300019e-03 -9.531978e-04         1.9446256      \n",
       "MO   2.189431e-04 -4.442106e-04 -2.234191e-04         0.5072158      \n",
       "NF   1.235427e-02  2.897695e-03  6.107830e-03         5.9464863      \n",
       "SH   4.250116e-03 -3.868186e-03 -1.022188e-03         3.3366334      \n",
       "SS  -3.791417e-04  7.770745e-04  3.553645e-04         0.6251342      \n",
       "ME   3.083015e-03 -8.446715e-04  4.648419e-04         0.7334930      \n",
       "TT  -9.853065e-05 -9.194969e-04 -6.455831e-04         2.4573296      \n",
       "ATD  2.373540e-03  3.598810e-03  3.142071e-03         6.6580323      "
      ]
     },
     "metadata": {},
     "output_type": "display_data"
    },
    {
     "data": {
      "image/png": "[encoded data removed]",
      "text/plain": [
       "plot without title"
      ]
     },
     "metadata": {},
     "output_type": "display_data"
    }
   ],
   "source": [
    "#insert code\n",
    "print(error_rate)\n",
    "fit.rf <- randomForest(y_train ~ ., data=X_train,xtest=X_test,ytest=y_test,ntree=1000 ,mtry=p/2,maxnodes=30, importance=TRUE)\n",
    "fit.rf$importance\n",
    "varImpPlot(fit.rf)\n",
    "\n",
    "# Les variables les plus importantes sont : ('TWP', 'ARR', 'TNP', 'IAP')"
   ]
  },
  {
   "cell_type": "markdown",
   "metadata": {},
   "source": [
    "### Boosting\n",
    "\n",
    "><u>Tâche 12</u> : En utilisant la méthode de boosting, via la fonction `gbm` du package du même nom, contruire une séquence de $5000$ arbres. Calculer le taux d'erreur sur l'ensemble de test. Tracer le taux d'erreur en fonction du nombre d'arbres."
   ]
  },
  {
   "cell_type": "code",
   "execution_count": 259,
   "metadata": {
    "vscode": {
     "languageId": "r"
    }
   },
   "outputs": [
    {
     "data": {
      "text/html": [
       "<table>\n",
       "<thead><tr><th scope=col>GE</th><th scope=col>CST</th><th scope=col>TNP</th><th scope=col>TWP</th><th scope=col>IAP</th><th scope=col>ARR</th><th scope=col>MS</th><th scope=col>LS</th><th scope=col>AS</th><th scope=col>FMI</th><th scope=col>...</th><th scope=col>MQ</th><th scope=col>FO</th><th scope=col>MO</th><th scope=col>NF</th><th scope=col>SH</th><th scope=col>SS</th><th scope=col>ME</th><th scope=col>TT</th><th scope=col>ATD</th><th scope=col>ESP</th></tr></thead>\n",
       "<tbody>\n",
       "\t<tr><td>M        </td><td>G        </td><td>0.44     </td><td>0.59     </td><td>0.50     </td><td>Y        </td><td>Unmarried</td><td>V        </td><td>Free     </td><td> 3145    </td><td>...      </td><td>Il       </td><td>Farmer   </td><td>Housewife</td><td> 7       </td><td>1.0      </td><td>Govt     </td><td>Asm      </td><td>0.50     </td><td>0.77     </td><td>Fail     </td></tr>\n",
       "\t<tr><td>M        </td><td>SC       </td><td>0.58     </td><td>0.41     </td><td>0.52     </td><td>N        </td><td>Unmarried</td><td>V        </td><td>Paid     </td><td> 3483    </td><td>...      </td><td>10       </td><td>Business </td><td>Housewife</td><td> 1       </td><td>1.5      </td><td>Govt     </td><td>Asm      </td><td>0.75     </td><td>0.77     </td><td>Pass     </td></tr>\n",
       "\t<tr><td>M        </td><td>MOBC     </td><td>0.56     </td><td>0.56     </td><td>0.57     </td><td>Y        </td><td>Unmarried</td><td>V        </td><td>Paid     </td><td>11368    </td><td>...      </td><td>Um       </td><td>Service  </td><td>Housewife</td><td>20       </td><td>5.0      </td><td>Govt     </td><td>Asm      </td><td>1.75     </td><td>0.11     </td><td>Pass     </td></tr>\n",
       "\t<tr><td>F        </td><td>G        </td><td>0.50     </td><td>0.50     </td><td>0.46     </td><td>Y        </td><td>Unmarried</td><td>V        </td><td>Paid     </td><td> 6337    </td><td>...      </td><td>Il       </td><td>Business </td><td>Housewife</td><td> 2       </td><td>2.5      </td><td>Govt     </td><td>Eng      </td><td>0.00     </td><td>0.60     </td><td>Fail     </td></tr>\n",
       "\t<tr><td>M        </td><td>OBC      </td><td>0.36     </td><td>0.39     </td><td>0.48     </td><td>Y        </td><td>Unmarried</td><td>V        </td><td>Free     </td><td> 2987    </td><td>...      </td><td>Il       </td><td>Farmer   </td><td>Housewife</td><td>16       </td><td>1.0      </td><td>Govt     </td><td>Eng      </td><td>0.75     </td><td>0.77     </td><td>Fail     </td></tr>\n",
       "\t<tr><td>F        </td><td>OBC      </td><td>0.55     </td><td>0.56     </td><td>0.58     </td><td>Y        </td><td>Unmarried</td><td>V        </td><td>Free     </td><td> 8842    </td><td>...      </td><td>10       </td><td>Farmer   </td><td>Housewife</td><td> 2       </td><td>3.5      </td><td>Govt     </td><td>Asm      </td><td>0.75     </td><td>0.66     </td><td>Fail     </td></tr>\n",
       "\t<tr><td>M        </td><td>OBC      </td><td>0.96     </td><td>0.60     </td><td>0.60     </td><td>Y        </td><td>Unmarried</td><td>V        </td><td>Paid     </td><td>10732    </td><td>...      </td><td>Um       </td><td>Business </td><td>Housewife</td><td>16       </td><td>1.0      </td><td>Govt     </td><td>Eng      </td><td>1.00     </td><td>0.61     </td><td>Pass     </td></tr>\n",
       "\t<tr><td>F        </td><td>OBC      </td><td>0.54     </td><td>0.45     </td><td>0.54     </td><td>Y        </td><td>Unmarried</td><td>T        </td><td>Paid     </td><td>19472    </td><td>...      </td><td>Um       </td><td>Service  </td><td>Housewife</td><td>10       </td><td>0.5      </td><td>Govt     </td><td>Eng      </td><td>0.25     </td><td>0.28     </td><td>Fail     </td></tr>\n",
       "\t<tr><td>M        </td><td>OBC      </td><td>0.58     </td><td>0.57     </td><td>0.59     </td><td>Y        </td><td>Unmarried</td><td>V        </td><td>Free     </td><td> 9020    </td><td>...      </td><td>Um       </td><td>Farmer   </td><td>Housewife</td><td>13       </td><td>2.5      </td><td>Govt     </td><td>Asm      </td><td>0.50     </td><td>0.81     </td><td>Pass     </td></tr>\n",
       "\t<tr><td>F        </td><td>ST       </td><td>0.58     </td><td>0.58     </td><td>0.46     </td><td>Y        </td><td>Unmarried</td><td>T        </td><td>Paid     </td><td>19928    </td><td>...      </td><td>Il       </td><td>Service  </td><td>Housewife</td><td> 1       </td><td>1.0      </td><td>Govt     </td><td>Eng      </td><td>0.25     </td><td>0.21     </td><td>Pass     </td></tr>\n",
       "\t<tr><td>M        </td><td>ST       </td><td>0.57     </td><td>0.32     </td><td>0.57     </td><td>Y        </td><td>Unmarried</td><td>V        </td><td>Free     </td><td>14661    </td><td>...      </td><td>10       </td><td>Farmer   </td><td>Housewife</td><td> 4       </td><td>4.0      </td><td>Private  </td><td>Asm      </td><td>2.00     </td><td>0.71     </td><td>Pass     </td></tr>\n",
       "\t<tr><td>M        </td><td>G        </td><td>0.59     </td><td>0.49     </td><td>0.46     </td><td>N        </td><td>Unmarried</td><td>V        </td><td>Paid     </td><td> 3005    </td><td>...      </td><td>Um       </td><td>Farmer   </td><td>Housewife</td><td> 9       </td><td>3.0      </td><td>Private  </td><td>Eng      </td><td>0.25     </td><td>0.79     </td><td>Pass     </td></tr>\n",
       "\t<tr><td>F        </td><td>G        </td><td>0.34     </td><td>0.48     </td><td>0.79     </td><td>N        </td><td>Unmarried</td><td>V        </td><td>Free     </td><td> 3278    </td><td>...      </td><td>Il       </td><td>Farmer   </td><td>Housewife</td><td> 8       </td><td>2.0      </td><td>Govt     </td><td>Eng      </td><td>1.00     </td><td>0.80     </td><td>Pass     </td></tr>\n",
       "\t<tr><td>F        </td><td>G        </td><td>0.60     </td><td>0.78     </td><td>0.92     </td><td>N        </td><td>Unmarried</td><td>T        </td><td>Paid     </td><td> 6770    </td><td>...      </td><td>10       </td><td>Service  </td><td>Housewife</td><td> 8       </td><td>5.0      </td><td>Govt     </td><td>Eng      </td><td>0.25     </td><td>0.81     </td><td>Pass     </td></tr>\n",
       "\t<tr><td>F        </td><td>MOBC     </td><td>0.57     </td><td>0.47     </td><td>0.45     </td><td>Y        </td><td>Unmarried</td><td>V        </td><td>Free     </td><td> 3124    </td><td>...      </td><td>Il       </td><td>Farmer   </td><td>Housewife</td><td>18       </td><td>0.0      </td><td>Govt     </td><td>Asm      </td><td>0.50     </td><td>0.90     </td><td>Fail     </td></tr>\n",
       "\t<tr><td>F        </td><td>MOBC     </td><td>0.55     </td><td>0.68     </td><td>0.67     </td><td>N        </td><td>Unmarried</td><td>V        </td><td>Free     </td><td> 6191    </td><td>...      </td><td>10       </td><td>Farmer   </td><td>Housewife</td><td>19       </td><td>3.0      </td><td>Govt     </td><td>Eng      </td><td>0.00     </td><td>0.75     </td><td>Pass     </td></tr>\n",
       "\t<tr><td>F        </td><td>ST       </td><td>0.66     </td><td>0.48     </td><td>0.55     </td><td>Y        </td><td>Unmarried</td><td>V        </td><td>Paid     </td><td> 5402    </td><td>...      </td><td>10       </td><td>Others   </td><td>Housewife</td><td>20       </td><td>3.5      </td><td>Govt     </td><td>Asm      </td><td>0.50     </td><td>0.87     </td><td>Pass     </td></tr>\n",
       "\t<tr><td>M        </td><td>G        </td><td>0.50     </td><td>0.79     </td><td>0.47     </td><td>N        </td><td>Unmarried</td><td>V        </td><td>Free     </td><td> 3128    </td><td>...      </td><td>Um       </td><td>Farmer   </td><td>Housewife</td><td>15       </td><td>3.0      </td><td>Govt     </td><td>Asm      </td><td>1.50     </td><td>0.88     </td><td>Pass     </td></tr>\n",
       "\t<tr><td>F        </td><td>ST       </td><td>0.50     </td><td>0.52     </td><td>0.65     </td><td>Y        </td><td>Unmarried</td><td>V        </td><td>Paid     </td><td> 5981    </td><td>...      </td><td>Il       </td><td>Service  </td><td>Housewife</td><td> 2       </td><td>1.0      </td><td>Govt     </td><td>Eng      </td><td>0.25     </td><td>0.62     </td><td>Pass     </td></tr>\n",
       "\t<tr><td>F        </td><td>SC       </td><td>0.44     </td><td>0.46     </td><td>0.74     </td><td>N        </td><td>Unmarried</td><td>V        </td><td>Free     </td><td>10035    </td><td>...      </td><td>Um       </td><td>Business </td><td>Service  </td><td> 9       </td><td>2.0      </td><td>Govt     </td><td>Asm      </td><td>0.00     </td><td>0.13     </td><td>Pass     </td></tr>\n",
       "\t<tr><td>M        </td><td>ST       </td><td>0.58     </td><td>0.52     </td><td>0.72     </td><td>Y        </td><td>Unmarried</td><td>V        </td><td>Paid     </td><td> 9361    </td><td>...      </td><td>12       </td><td>Farmer   </td><td>Housewife</td><td>20       </td><td>3.5      </td><td>Govt     </td><td>Eng      </td><td>0.25     </td><td>0.81     </td><td>Pass     </td></tr>\n",
       "\t<tr><td>M        </td><td>G        </td><td>0.52     </td><td>0.58     </td><td>0.49     </td><td>Y        </td><td>Unmarried</td><td>V        </td><td>Free     </td><td>24096    </td><td>...      </td><td>Il       </td><td>Farmer   </td><td>Housewife</td><td> 6       </td><td>3.0      </td><td>Govt     </td><td>Eng      </td><td>0.00     </td><td>0.15     </td><td>Fail     </td></tr>\n",
       "\t<tr><td>M        </td><td>MOBC     </td><td>0.30     </td><td>0.51     </td><td>0.77     </td><td>Y        </td><td>Unmarried</td><td>V        </td><td>Free     </td><td> 5589    </td><td>...      </td><td>Il       </td><td>Business </td><td>Housewife</td><td> 4       </td><td>6.0      </td><td>Govt     </td><td>Asm      </td><td>0.50     </td><td>0.91     </td><td>Pass     </td></tr>\n",
       "\t<tr><td>F        </td><td>G        </td><td>0.59     </td><td>0.59     </td><td>0.48     </td><td>Y        </td><td>Unmarried</td><td>V        </td><td>Paid     </td><td>15428    </td><td>...      </td><td>10       </td><td>Business </td><td>Housewife</td><td> 5       </td><td>3.0      </td><td>Govt     </td><td>Eng      </td><td>0.25     </td><td>0.80     </td><td>Fail     </td></tr>\n",
       "\t<tr><td>M        </td><td>OBC      </td><td>0.56     </td><td>0.55     </td><td>0.72     </td><td>Y        </td><td>Unmarried</td><td>V        </td><td>Free     </td><td> 3042    </td><td>...      </td><td>Um       </td><td>Farmer   </td><td>Housewife</td><td>14       </td><td>4.0      </td><td>Govt     </td><td>Asm      </td><td>0.50     </td><td>0.91     </td><td>Pass     </td></tr>\n",
       "\t<tr><td>M        </td><td>ST       </td><td>0.69     </td><td>0.79     </td><td>0.60     </td><td>Y        </td><td>Unmarried</td><td>V        </td><td>Paid     </td><td> 8248    </td><td>...      </td><td>12       </td><td>Farmer   </td><td>Housewife</td><td>14       </td><td>0.0      </td><td>Govt     </td><td>Eng      </td><td>1.00     </td><td>0.98     </td><td>Pass     </td></tr>\n",
       "\t<tr><td>F        </td><td>G        </td><td>0.53     </td><td>0.38     </td><td>0.58     </td><td>N        </td><td>Married  </td><td>T        </td><td>Paid     </td><td>10527    </td><td>...      </td><td>Um       </td><td>Others   </td><td>Housewife</td><td> 2       </td><td>3.5      </td><td>Govt     </td><td>Asm      </td><td>1.25     </td><td>0.91     </td><td>Fail     </td></tr>\n",
       "\t<tr><td>M        </td><td>ST       </td><td>0.32     </td><td>0.55     </td><td>0.58     </td><td>Y        </td><td>Unmarried</td><td>V        </td><td>Paid     </td><td>14972    </td><td>...      </td><td>Il       </td><td>Farmer   </td><td>Housewife</td><td> 3       </td><td>3.5      </td><td>Govt     </td><td>Asm      </td><td>0.75     </td><td>0.73     </td><td>Fail     </td></tr>\n",
       "\t<tr><td>M        </td><td>OBC      </td><td>0.50     </td><td>0.50     </td><td>0.42     </td><td>N        </td><td>Unmarried</td><td>V        </td><td>Paid     </td><td> 6777    </td><td>...      </td><td>Il       </td><td>Others   </td><td>Housewife</td><td>18       </td><td>6.0      </td><td>Govt     </td><td>Asm      </td><td>0.50     </td><td>0.83     </td><td>Pass     </td></tr>\n",
       "\t<tr><td>F        </td><td>ST       </td><td>0.59     </td><td>0.51     </td><td>0.59     </td><td>N        </td><td>Unmarried</td><td>V        </td><td>Free     </td><td>14662    </td><td>...      </td><td>Um       </td><td>Others   </td><td>Housewife</td><td>11       </td><td>2.5      </td><td>Private  </td><td>Asm      </td><td>0.50     </td><td>0.68     </td><td>Pass     </td></tr>\n",
       "\t<tr><td>...</td><td>...</td><td>...</td><td>...</td><td>...</td><td>...</td><td>...</td><td>...</td><td>...</td><td>...</td><td>   </td><td>...</td><td>...</td><td>...</td><td>...</td><td>...</td><td>...</td><td>...</td><td>...</td><td>...</td><td>...</td></tr>\n",
       "\t<tr><td>M        </td><td>OBC      </td><td>0.55     </td><td>0.53     </td><td>0.52     </td><td>Y        </td><td>Unmarried</td><td>T        </td><td>Paid     </td><td>24419    </td><td>...      </td><td>12       </td><td>Service  </td><td>Housewife</td><td> 5       </td><td>3.0      </td><td>Private  </td><td>Eng      </td><td>0.00     </td><td>0.14     </td><td>Fail     </td></tr>\n",
       "\t<tr><td>F        </td><td>OBC      </td><td>0.53     </td><td>0.50     </td><td>0.69     </td><td>N        </td><td>Unmarried</td><td>V        </td><td>Paid     </td><td> 8228    </td><td>...      </td><td>10       </td><td>Farmer   </td><td>Housewife</td><td> 9       </td><td>3.0      </td><td>Govt     </td><td>Asm      </td><td>0.25     </td><td>1.00     </td><td>Pass     </td></tr>\n",
       "\t<tr><td>M        </td><td>ST       </td><td>0.51     </td><td>0.34     </td><td>0.57     </td><td>Y        </td><td>Unmarried</td><td>V        </td><td>Free     </td><td> 4746    </td><td>...      </td><td>10       </td><td>Farmer   </td><td>Housewife</td><td> 6       </td><td>2.5      </td><td>Govt     </td><td>Asm      </td><td>2.00     </td><td>0.75     </td><td>Fail     </td></tr>\n",
       "\t<tr><td>F        </td><td>G        </td><td>0.54     </td><td>0.69     </td><td>0.72     </td><td>Y        </td><td>Unmarried</td><td>V        </td><td>Free     </td><td> 4112    </td><td>...      </td><td>Il       </td><td>Service  </td><td>Housewife</td><td> 4       </td><td>0.0      </td><td>Govt     </td><td>Asm      </td><td>0.75     </td><td>0.75     </td><td>Pass     </td></tr>\n",
       "\t<tr><td>F        </td><td>OBC      </td><td>0.64     </td><td>0.67     </td><td>0.53     </td><td>Y        </td><td>Unmarried</td><td>V        </td><td>Paid     </td><td> 4557    </td><td>...      </td><td>Degree   </td><td>Others   </td><td>Housewife</td><td>12       </td><td>3.0      </td><td>Govt     </td><td>Asm      </td><td>0.75     </td><td>0.95     </td><td>Pass     </td></tr>\n",
       "\t<tr><td>M        </td><td>OBC      </td><td>0.44     </td><td>0.57     </td><td>0.60     </td><td>Y        </td><td>Unmarried</td><td>V        </td><td>Free     </td><td> 4479    </td><td>...      </td><td>Um       </td><td>Farmer   </td><td>Housewife</td><td> 7       </td><td>1.5      </td><td>Govt     </td><td>Eng      </td><td>1.75     </td><td>0.68     </td><td>Pass     </td></tr>\n",
       "\t<tr><td>M        </td><td>MOBC     </td><td>0.40     </td><td>0.78     </td><td>0.59     </td><td>Y        </td><td>Unmarried</td><td>V        </td><td>Free     </td><td> 9257    </td><td>...      </td><td>Il       </td><td>Service  </td><td>Service  </td><td> 3       </td><td>2.0      </td><td>Private  </td><td>Eng      </td><td>0.75     </td><td>0.67     </td><td>Pass     </td></tr>\n",
       "\t<tr><td>F        </td><td>OBC      </td><td>0.56     </td><td>0.54     </td><td>0.69     </td><td>N        </td><td>Unmarried</td><td>V        </td><td>Paid     </td><td>11419    </td><td>...      </td><td>10       </td><td>Service  </td><td>Housewife</td><td> 9       </td><td>2.5      </td><td>Govt     </td><td>Asm      </td><td>2.00     </td><td>0.89     </td><td>Pass     </td></tr>\n",
       "\t<tr><td>F        </td><td>OBC      </td><td>0.39     </td><td>0.55     </td><td>0.54     </td><td>N        </td><td>Unmarried</td><td>V        </td><td>Free     </td><td>28121    </td><td>...      </td><td>10       </td><td>Service  </td><td>Service  </td><td> 6       </td><td>2.0      </td><td>Govt     </td><td>Asm      </td><td>0.00     </td><td>0.28     </td><td>Pass     </td></tr>\n",
       "\t<tr><td>F        </td><td>SC       </td><td>0.58     </td><td>0.37     </td><td>0.59     </td><td>Y        </td><td>Unmarried</td><td>V        </td><td>Free     </td><td> 3879    </td><td>...      </td><td>Um       </td><td>Farmer   </td><td>Housewife</td><td> 2       </td><td>3.5      </td><td>Private  </td><td>Asm      </td><td>0.00     </td><td>0.97     </td><td>Fail     </td></tr>\n",
       "\t<tr><td>F        </td><td>OBC      </td><td>0.49     </td><td>0.46     </td><td>0.67     </td><td>N        </td><td>Unmarried</td><td>V        </td><td>Free     </td><td>17917    </td><td>...      </td><td>Il       </td><td>Farmer   </td><td>Housewife</td><td> 2       </td><td>2.5      </td><td>Govt     </td><td>Asm      </td><td>1.75     </td><td>0.92     </td><td>Pass     </td></tr>\n",
       "\t<tr><td>F        </td><td>G        </td><td>0.53     </td><td>0.60     </td><td>0.68     </td><td>N        </td><td>Unmarried</td><td>V        </td><td>Free     </td><td> 7046    </td><td>...      </td><td>Il       </td><td>Farmer   </td><td>Housewife</td><td> 3       </td><td>0.0      </td><td>Govt     </td><td>Asm      </td><td>0.25     </td><td>0.97     </td><td>Pass     </td></tr>\n",
       "\t<tr><td>F        </td><td>OBC      </td><td>0.47     </td><td>0.54     </td><td>0.67     </td><td>N        </td><td>Unmarried</td><td>V        </td><td>Free     </td><td>28205    </td><td>...      </td><td>Um       </td><td>Business </td><td>Housewife</td><td>11       </td><td>2.0      </td><td>Govt     </td><td>Asm      </td><td>0.00     </td><td>0.81     </td><td>Pass     </td></tr>\n",
       "\t<tr><td>M        </td><td>OBC      </td><td>0.44     </td><td>0.47     </td><td>0.54     </td><td>Y        </td><td>Unmarried</td><td>V        </td><td>Paid     </td><td>29894    </td><td>...      </td><td>12       </td><td>Service  </td><td>Housewife</td><td>18       </td><td>3.5      </td><td>Private  </td><td>Eng      </td><td>0.00     </td><td>0.46     </td><td>Fail     </td></tr>\n",
       "\t<tr><td>F        </td><td>OBC      </td><td>0.75     </td><td>0.79     </td><td>0.45     </td><td>N        </td><td>Unmarried</td><td>T        </td><td>Free     </td><td> 5952    </td><td>...      </td><td>Il       </td><td>Farmer   </td><td>Housewife</td><td> 1       </td><td>5.0      </td><td>Govt     </td><td>Eng      </td><td>0.50     </td><td>0.78     </td><td>Pass     </td></tr>\n",
       "\t<tr><td>F        </td><td>ST       </td><td>0.44     </td><td>0.53     </td><td>0.50     </td><td>N        </td><td>Unmarried</td><td>V        </td><td>Paid     </td><td> 5049    </td><td>...      </td><td>10       </td><td>Business </td><td>Housewife</td><td> 5       </td><td>0.0      </td><td>Govt     </td><td>Asm      </td><td>0.25     </td><td>0.68     </td><td>Pass     </td></tr>\n",
       "\t<tr><td>F        </td><td>MOBC     </td><td>0.49     </td><td>0.79     </td><td>0.51     </td><td>Y        </td><td>Unmarried</td><td>V        </td><td>Free     </td><td> 3440    </td><td>...      </td><td>Il       </td><td>Business </td><td>Housewife</td><td> 9       </td><td>3.5      </td><td>Private  </td><td>Asm      </td><td>0.75     </td><td>0.39     </td><td>Pass     </td></tr>\n",
       "\t<tr><td>F        </td><td>SC       </td><td>0.40     </td><td>0.31     </td><td>0.60     </td><td>Y        </td><td>Unmarried</td><td>V        </td><td>Free     </td><td> 9869    </td><td>...      </td><td>Il       </td><td>Business </td><td>Housewife</td><td> 5       </td><td>0.5      </td><td>Govt     </td><td>Asm      </td><td>0.50     </td><td>0.74     </td><td>Pass     </td></tr>\n",
       "\t<tr><td>F        </td><td>G        </td><td>0.50     </td><td>0.34     </td><td>0.40     </td><td>Y        </td><td>Unmarried</td><td>V        </td><td>Paid     </td><td> 4716    </td><td>...      </td><td>Um       </td><td>Others   </td><td>Housewife</td><td> 4       </td><td>2.0      </td><td>Govt     </td><td>Eng      </td><td>0.25     </td><td>0.64     </td><td>Fail     </td></tr>\n",
       "\t<tr><td>M        </td><td>G        </td><td>0.82     </td><td>0.86     </td><td>1.00     </td><td>N        </td><td>Unmarried</td><td>T        </td><td>Paid     </td><td>13099    </td><td>...      </td><td>Um       </td><td>Service  </td><td>Housewife</td><td>17       </td><td>2.0      </td><td>Private  </td><td>Eng      </td><td>0.25     </td><td>0.78     </td><td>Pass     </td></tr>\n",
       "\t<tr><td>F        </td><td>OBC      </td><td>0.58     </td><td>0.46     </td><td>0.71     </td><td>Y        </td><td>Unmarried</td><td>V        </td><td>Free     </td><td>11189    </td><td>...      </td><td>Um       </td><td>Business </td><td>Housewife</td><td> 4       </td><td>3.0      </td><td>Govt     </td><td>Eng      </td><td>1.75     </td><td>0.76     </td><td>Pass     </td></tr>\n",
       "\t<tr><td>F        </td><td>ST       </td><td>0.53     </td><td>0.60     </td><td>0.56     </td><td>N        </td><td>Unmarried</td><td>V        </td><td>Free     </td><td>14379    </td><td>...      </td><td>Um       </td><td>Farmer   </td><td>Housewife</td><td> 5       </td><td>5.5      </td><td>Govt     </td><td>Asm      </td><td>1.00     </td><td>0.75     </td><td>Pass     </td></tr>\n",
       "\t<tr><td>F        </td><td>OBC      </td><td>0.40     </td><td>0.42     </td><td>0.46     </td><td>N        </td><td>Unmarried</td><td>V        </td><td>Paid     </td><td> 6163    </td><td>...      </td><td>10       </td><td>Service  </td><td>Housewife</td><td> 2       </td><td>3.0      </td><td>Govt     </td><td>Asm      </td><td>0.00     </td><td>0.67     </td><td>Pass     </td></tr>\n",
       "\t<tr><td>F        </td><td>OBC      </td><td>0.59     </td><td>0.71     </td><td>0.70     </td><td>N        </td><td>Unmarried</td><td>T        </td><td>Paid     </td><td> 5271    </td><td>...      </td><td>Um       </td><td>Service  </td><td>Housewife</td><td> 5       </td><td>5.5      </td><td>Private  </td><td>Asm      </td><td>0.25     </td><td>0.70     </td><td>Pass     </td></tr>\n",
       "\t<tr><td>M        </td><td>G        </td><td>0.44     </td><td>0.55     </td><td>0.49     </td><td>N        </td><td>Unmarried</td><td>T        </td><td>Paid     </td><td>16836    </td><td>...      </td><td>Um       </td><td>Business </td><td>Housewife</td><td>15       </td><td>0.5      </td><td>Govt     </td><td>Asm      </td><td>0.00     </td><td>0.66     </td><td>Pass     </td></tr>\n",
       "\t<tr><td>M        </td><td>MOBC     </td><td>0.49     </td><td>0.71     </td><td>0.63     </td><td>N        </td><td>Unmarried</td><td>V        </td><td>Free     </td><td>28444    </td><td>...      </td><td>Um       </td><td>Farmer   </td><td>Housewife</td><td>12       </td><td>0.0      </td><td>Govt     </td><td>Asm      </td><td>1.25     </td><td>0.73     </td><td>Pass     </td></tr>\n",
       "\t<tr><td>F        </td><td>OBC      </td><td>0.58     </td><td>0.41     </td><td>0.34     </td><td>Y        </td><td>Unmarried</td><td>V        </td><td>Free     </td><td>20024    </td><td>...      </td><td>12       </td><td>Service  </td><td>Service  </td><td> 6       </td><td>0.0      </td><td>Govt     </td><td>Asm      </td><td>1.00     </td><td>0.74     </td><td>Fail     </td></tr>\n",
       "\t<tr><td>F        </td><td>OBC      </td><td>0.35     </td><td>0.50     </td><td>0.77     </td><td>Y        </td><td>Unmarried</td><td>T        </td><td>Paid     </td><td>11744    </td><td>...      </td><td>Um       </td><td>Service  </td><td>Housewife</td><td> 1       </td><td>2.5      </td><td>Govt     </td><td>Asm      </td><td>0.25     </td><td>0.64     </td><td>Fail     </td></tr>\n",
       "\t<tr><td>M        </td><td>OBC      </td><td>0.30     </td><td>0.43     </td><td>0.52     </td><td>Y        </td><td>Unmarried</td><td>V        </td><td>Free     </td><td> 8260    </td><td>...      </td><td>Um       </td><td>Farmer   </td><td>Housewife</td><td> 7       </td><td>2.5      </td><td>Govt     </td><td>Asm      </td><td>1.00     </td><td>0.33     </td><td>Fail     </td></tr>\n",
       "\t<tr><td>M        </td><td>OBC      </td><td>0.45     </td><td>0.83     </td><td>0.68     </td><td>N        </td><td>Unmarried</td><td>V        </td><td>Free     </td><td> 2881    </td><td>...      </td><td>Il       </td><td>Farmer   </td><td>Housewife</td><td> 8       </td><td>3.5      </td><td>Govt     </td><td>Asm      </td><td>0.25     </td><td>0.16     </td><td>Pass     </td></tr>\n",
       "</tbody>\n",
       "</table>\n"
      ],
      "text/latex": [
       "\\begin{tabular}{r|llllllllllllllllllllll}\n",
       " GE & CST & TNP & TWP & IAP & ARR & MS & LS & AS & FMI & ... & MQ & FO & MO & NF & SH & SS & ME & TT & ATD & ESP\\\\\n",
       "\\hline\n",
       "\t M         & G         & 0.44      & 0.59      & 0.50      & Y         & Unmarried & V         & Free      &  3145     & ...       & Il        & Farmer    & Housewife &  7        & 1.0       & Govt      & Asm       & 0.50      & 0.77      & Fail     \\\\\n",
       "\t M         & SC        & 0.58      & 0.41      & 0.52      & N         & Unmarried & V         & Paid      &  3483     & ...       & 10        & Business  & Housewife &  1        & 1.5       & Govt      & Asm       & 0.75      & 0.77      & Pass     \\\\\n",
       "\t M         & MOBC      & 0.56      & 0.56      & 0.57      & Y         & Unmarried & V         & Paid      & 11368     & ...       & Um        & Service   & Housewife & 20        & 5.0       & Govt      & Asm       & 1.75      & 0.11      & Pass     \\\\\n",
       "\t F         & G         & 0.50      & 0.50      & 0.46      & Y         & Unmarried & V         & Paid      &  6337     & ...       & Il        & Business  & Housewife &  2        & 2.5       & Govt      & Eng       & 0.00      & 0.60      & Fail     \\\\\n",
       "\t M         & OBC       & 0.36      & 0.39      & 0.48      & Y         & Unmarried & V         & Free      &  2987     & ...       & Il        & Farmer    & Housewife & 16        & 1.0       & Govt      & Eng       & 0.75      & 0.77      & Fail     \\\\\n",
       "\t F         & OBC       & 0.55      & 0.56      & 0.58      & Y         & Unmarried & V         & Free      &  8842     & ...       & 10        & Farmer    & Housewife &  2        & 3.5       & Govt      & Asm       & 0.75      & 0.66      & Fail     \\\\\n",
       "\t M         & OBC       & 0.96      & 0.60      & 0.60      & Y         & Unmarried & V         & Paid      & 10732     & ...       & Um        & Business  & Housewife & 16        & 1.0       & Govt      & Eng       & 1.00      & 0.61      & Pass     \\\\\n",
       "\t F         & OBC       & 0.54      & 0.45      & 0.54      & Y         & Unmarried & T         & Paid      & 19472     & ...       & Um        & Service   & Housewife & 10        & 0.5       & Govt      & Eng       & 0.25      & 0.28      & Fail     \\\\\n",
       "\t M         & OBC       & 0.58      & 0.57      & 0.59      & Y         & Unmarried & V         & Free      &  9020     & ...       & Um        & Farmer    & Housewife & 13        & 2.5       & Govt      & Asm       & 0.50      & 0.81      & Pass     \\\\\n",
       "\t F         & ST        & 0.58      & 0.58      & 0.46      & Y         & Unmarried & T         & Paid      & 19928     & ...       & Il        & Service   & Housewife &  1        & 1.0       & Govt      & Eng       & 0.25      & 0.21      & Pass     \\\\\n",
       "\t M         & ST        & 0.57      & 0.32      & 0.57      & Y         & Unmarried & V         & Free      & 14661     & ...       & 10        & Farmer    & Housewife &  4        & 4.0       & Private   & Asm       & 2.00      & 0.71      & Pass     \\\\\n",
       "\t M         & G         & 0.59      & 0.49      & 0.46      & N         & Unmarried & V         & Paid      &  3005     & ...       & Um        & Farmer    & Housewife &  9        & 3.0       & Private   & Eng       & 0.25      & 0.79      & Pass     \\\\\n",
       "\t F         & G         & 0.34      & 0.48      & 0.79      & N         & Unmarried & V         & Free      &  3278     & ...       & Il        & Farmer    & Housewife &  8        & 2.0       & Govt      & Eng       & 1.00      & 0.80      & Pass     \\\\\n",
       "\t F         & G         & 0.60      & 0.78      & 0.92      & N         & Unmarried & T         & Paid      &  6770     & ...       & 10        & Service   & Housewife &  8        & 5.0       & Govt      & Eng       & 0.25      & 0.81      & Pass     \\\\\n",
       "\t F         & MOBC      & 0.57      & 0.47      & 0.45      & Y         & Unmarried & V         & Free      &  3124     & ...       & Il        & Farmer    & Housewife & 18        & 0.0       & Govt      & Asm       & 0.50      & 0.90      & Fail     \\\\\n",
       "\t F         & MOBC      & 0.55      & 0.68      & 0.67      & N         & Unmarried & V         & Free      &  6191     & ...       & 10        & Farmer    & Housewife & 19        & 3.0       & Govt      & Eng       & 0.00      & 0.75      & Pass     \\\\\n",
       "\t F         & ST        & 0.66      & 0.48      & 0.55      & Y         & Unmarried & V         & Paid      &  5402     & ...       & 10        & Others    & Housewife & 20        & 3.5       & Govt      & Asm       & 0.50      & 0.87      & Pass     \\\\\n",
       "\t M         & G         & 0.50      & 0.79      & 0.47      & N         & Unmarried & V         & Free      &  3128     & ...       & Um        & Farmer    & Housewife & 15        & 3.0       & Govt      & Asm       & 1.50      & 0.88      & Pass     \\\\\n",
       "\t F         & ST        & 0.50      & 0.52      & 0.65      & Y         & Unmarried & V         & Paid      &  5981     & ...       & Il        & Service   & Housewife &  2        & 1.0       & Govt      & Eng       & 0.25      & 0.62      & Pass     \\\\\n",
       "\t F         & SC        & 0.44      & 0.46      & 0.74      & N         & Unmarried & V         & Free      & 10035     & ...       & Um        & Business  & Service   &  9        & 2.0       & Govt      & Asm       & 0.00      & 0.13      & Pass     \\\\\n",
       "\t M         & ST        & 0.58      & 0.52      & 0.72      & Y         & Unmarried & V         & Paid      &  9361     & ...       & 12        & Farmer    & Housewife & 20        & 3.5       & Govt      & Eng       & 0.25      & 0.81      & Pass     \\\\\n",
       "\t M         & G         & 0.52      & 0.58      & 0.49      & Y         & Unmarried & V         & Free      & 24096     & ...       & Il        & Farmer    & Housewife &  6        & 3.0       & Govt      & Eng       & 0.00      & 0.15      & Fail     \\\\\n",
       "\t M         & MOBC      & 0.30      & 0.51      & 0.77      & Y         & Unmarried & V         & Free      &  5589     & ...       & Il        & Business  & Housewife &  4        & 6.0       & Govt      & Asm       & 0.50      & 0.91      & Pass     \\\\\n",
       "\t F         & G         & 0.59      & 0.59      & 0.48      & Y         & Unmarried & V         & Paid      & 15428     & ...       & 10        & Business  & Housewife &  5        & 3.0       & Govt      & Eng       & 0.25      & 0.80      & Fail     \\\\\n",
       "\t M         & OBC       & 0.56      & 0.55      & 0.72      & Y         & Unmarried & V         & Free      &  3042     & ...       & Um        & Farmer    & Housewife & 14        & 4.0       & Govt      & Asm       & 0.50      & 0.91      & Pass     \\\\\n",
       "\t M         & ST        & 0.69      & 0.79      & 0.60      & Y         & Unmarried & V         & Paid      &  8248     & ...       & 12        & Farmer    & Housewife & 14        & 0.0       & Govt      & Eng       & 1.00      & 0.98      & Pass     \\\\\n",
       "\t F         & G         & 0.53      & 0.38      & 0.58      & N         & Married   & T         & Paid      & 10527     & ...       & Um        & Others    & Housewife &  2        & 3.5       & Govt      & Asm       & 1.25      & 0.91      & Fail     \\\\\n",
       "\t M         & ST        & 0.32      & 0.55      & 0.58      & Y         & Unmarried & V         & Paid      & 14972     & ...       & Il        & Farmer    & Housewife &  3        & 3.5       & Govt      & Asm       & 0.75      & 0.73      & Fail     \\\\\n",
       "\t M         & OBC       & 0.50      & 0.50      & 0.42      & N         & Unmarried & V         & Paid      &  6777     & ...       & Il        & Others    & Housewife & 18        & 6.0       & Govt      & Asm       & 0.50      & 0.83      & Pass     \\\\\n",
       "\t F         & ST        & 0.59      & 0.51      & 0.59      & N         & Unmarried & V         & Free      & 14662     & ...       & Um        & Others    & Housewife & 11        & 2.5       & Private   & Asm       & 0.50      & 0.68      & Pass     \\\\\n",
       "\t ... & ... & ... & ... & ... & ... & ... & ... & ... & ... &     & ... & ... & ... & ... & ... & ... & ... & ... & ... & ...\\\\\n",
       "\t M         & OBC       & 0.55      & 0.53      & 0.52      & Y         & Unmarried & T         & Paid      & 24419     & ...       & 12        & Service   & Housewife &  5        & 3.0       & Private   & Eng       & 0.00      & 0.14      & Fail     \\\\\n",
       "\t F         & OBC       & 0.53      & 0.50      & 0.69      & N         & Unmarried & V         & Paid      &  8228     & ...       & 10        & Farmer    & Housewife &  9        & 3.0       & Govt      & Asm       & 0.25      & 1.00      & Pass     \\\\\n",
       "\t M         & ST        & 0.51      & 0.34      & 0.57      & Y         & Unmarried & V         & Free      &  4746     & ...       & 10        & Farmer    & Housewife &  6        & 2.5       & Govt      & Asm       & 2.00      & 0.75      & Fail     \\\\\n",
       "\t F         & G         & 0.54      & 0.69      & 0.72      & Y         & Unmarried & V         & Free      &  4112     & ...       & Il        & Service   & Housewife &  4        & 0.0       & Govt      & Asm       & 0.75      & 0.75      & Pass     \\\\\n",
       "\t F         & OBC       & 0.64      & 0.67      & 0.53      & Y         & Unmarried & V         & Paid      &  4557     & ...       & Degree    & Others    & Housewife & 12        & 3.0       & Govt      & Asm       & 0.75      & 0.95      & Pass     \\\\\n",
       "\t M         & OBC       & 0.44      & 0.57      & 0.60      & Y         & Unmarried & V         & Free      &  4479     & ...       & Um        & Farmer    & Housewife &  7        & 1.5       & Govt      & Eng       & 1.75      & 0.68      & Pass     \\\\\n",
       "\t M         & MOBC      & 0.40      & 0.78      & 0.59      & Y         & Unmarried & V         & Free      &  9257     & ...       & Il        & Service   & Service   &  3        & 2.0       & Private   & Eng       & 0.75      & 0.67      & Pass     \\\\\n",
       "\t F         & OBC       & 0.56      & 0.54      & 0.69      & N         & Unmarried & V         & Paid      & 11419     & ...       & 10        & Service   & Housewife &  9        & 2.5       & Govt      & Asm       & 2.00      & 0.89      & Pass     \\\\\n",
       "\t F         & OBC       & 0.39      & 0.55      & 0.54      & N         & Unmarried & V         & Free      & 28121     & ...       & 10        & Service   & Service   &  6        & 2.0       & Govt      & Asm       & 0.00      & 0.28      & Pass     \\\\\n",
       "\t F         & SC        & 0.58      & 0.37      & 0.59      & Y         & Unmarried & V         & Free      &  3879     & ...       & Um        & Farmer    & Housewife &  2        & 3.5       & Private   & Asm       & 0.00      & 0.97      & Fail     \\\\\n",
       "\t F         & OBC       & 0.49      & 0.46      & 0.67      & N         & Unmarried & V         & Free      & 17917     & ...       & Il        & Farmer    & Housewife &  2        & 2.5       & Govt      & Asm       & 1.75      & 0.92      & Pass     \\\\\n",
       "\t F         & G         & 0.53      & 0.60      & 0.68      & N         & Unmarried & V         & Free      &  7046     & ...       & Il        & Farmer    & Housewife &  3        & 0.0       & Govt      & Asm       & 0.25      & 0.97      & Pass     \\\\\n",
       "\t F         & OBC       & 0.47      & 0.54      & 0.67      & N         & Unmarried & V         & Free      & 28205     & ...       & Um        & Business  & Housewife & 11        & 2.0       & Govt      & Asm       & 0.00      & 0.81      & Pass     \\\\\n",
       "\t M         & OBC       & 0.44      & 0.47      & 0.54      & Y         & Unmarried & V         & Paid      & 29894     & ...       & 12        & Service   & Housewife & 18        & 3.5       & Private   & Eng       & 0.00      & 0.46      & Fail     \\\\\n",
       "\t F         & OBC       & 0.75      & 0.79      & 0.45      & N         & Unmarried & T         & Free      &  5952     & ...       & Il        & Farmer    & Housewife &  1        & 5.0       & Govt      & Eng       & 0.50      & 0.78      & Pass     \\\\\n",
       "\t F         & ST        & 0.44      & 0.53      & 0.50      & N         & Unmarried & V         & Paid      &  5049     & ...       & 10        & Business  & Housewife &  5        & 0.0       & Govt      & Asm       & 0.25      & 0.68      & Pass     \\\\\n",
       "\t F         & MOBC      & 0.49      & 0.79      & 0.51      & Y         & Unmarried & V         & Free      &  3440     & ...       & Il        & Business  & Housewife &  9        & 3.5       & Private   & Asm       & 0.75      & 0.39      & Pass     \\\\\n",
       "\t F         & SC        & 0.40      & 0.31      & 0.60      & Y         & Unmarried & V         & Free      &  9869     & ...       & Il        & Business  & Housewife &  5        & 0.5       & Govt      & Asm       & 0.50      & 0.74      & Pass     \\\\\n",
       "\t F         & G         & 0.50      & 0.34      & 0.40      & Y         & Unmarried & V         & Paid      &  4716     & ...       & Um        & Others    & Housewife &  4        & 2.0       & Govt      & Eng       & 0.25      & 0.64      & Fail     \\\\\n",
       "\t M         & G         & 0.82      & 0.86      & 1.00      & N         & Unmarried & T         & Paid      & 13099     & ...       & Um        & Service   & Housewife & 17        & 2.0       & Private   & Eng       & 0.25      & 0.78      & Pass     \\\\\n",
       "\t F         & OBC       & 0.58      & 0.46      & 0.71      & Y         & Unmarried & V         & Free      & 11189     & ...       & Um        & Business  & Housewife &  4        & 3.0       & Govt      & Eng       & 1.75      & 0.76      & Pass     \\\\\n",
       "\t F         & ST        & 0.53      & 0.60      & 0.56      & N         & Unmarried & V         & Free      & 14379     & ...       & Um        & Farmer    & Housewife &  5        & 5.5       & Govt      & Asm       & 1.00      & 0.75      & Pass     \\\\\n",
       "\t F         & OBC       & 0.40      & 0.42      & 0.46      & N         & Unmarried & V         & Paid      &  6163     & ...       & 10        & Service   & Housewife &  2        & 3.0       & Govt      & Asm       & 0.00      & 0.67      & Pass     \\\\\n",
       "\t F         & OBC       & 0.59      & 0.71      & 0.70      & N         & Unmarried & T         & Paid      &  5271     & ...       & Um        & Service   & Housewife &  5        & 5.5       & Private   & Asm       & 0.25      & 0.70      & Pass     \\\\\n",
       "\t M         & G         & 0.44      & 0.55      & 0.49      & N         & Unmarried & T         & Paid      & 16836     & ...       & Um        & Business  & Housewife & 15        & 0.5       & Govt      & Asm       & 0.00      & 0.66      & Pass     \\\\\n",
       "\t M         & MOBC      & 0.49      & 0.71      & 0.63      & N         & Unmarried & V         & Free      & 28444     & ...       & Um        & Farmer    & Housewife & 12        & 0.0       & Govt      & Asm       & 1.25      & 0.73      & Pass     \\\\\n",
       "\t F         & OBC       & 0.58      & 0.41      & 0.34      & Y         & Unmarried & V         & Free      & 20024     & ...       & 12        & Service   & Service   &  6        & 0.0       & Govt      & Asm       & 1.00      & 0.74      & Fail     \\\\\n",
       "\t F         & OBC       & 0.35      & 0.50      & 0.77      & Y         & Unmarried & T         & Paid      & 11744     & ...       & Um        & Service   & Housewife &  1        & 2.5       & Govt      & Asm       & 0.25      & 0.64      & Fail     \\\\\n",
       "\t M         & OBC       & 0.30      & 0.43      & 0.52      & Y         & Unmarried & V         & Free      &  8260     & ...       & Um        & Farmer    & Housewife &  7        & 2.5       & Govt      & Asm       & 1.00      & 0.33      & Fail     \\\\\n",
       "\t M         & OBC       & 0.45      & 0.83      & 0.68      & N         & Unmarried & V         & Free      &  2881     & ...       & Il        & Farmer    & Housewife &  8        & 3.5       & Govt      & Asm       & 0.25      & 0.16      & Pass     \\\\\n",
       "\\end{tabular}\n"
      ],
      "text/markdown": [
       "\n",
       "| GE | CST | TNP | TWP | IAP | ARR | MS | LS | AS | FMI | ... | MQ | FO | MO | NF | SH | SS | ME | TT | ATD | ESP |\n",
       "|---|---|---|---|---|---|---|---|---|---|---|---|---|---|---|---|---|---|---|---|---|\n",
       "| M         | G         | 0.44      | 0.59      | 0.50      | Y         | Unmarried | V         | Free      |  3145     | ...       | Il        | Farmer    | Housewife |  7        | 1.0       | Govt      | Asm       | 0.50      | 0.77      | Fail      |\n",
       "| M         | SC        | 0.58      | 0.41      | 0.52      | N         | Unmarried | V         | Paid      |  3483     | ...       | 10        | Business  | Housewife |  1        | 1.5       | Govt      | Asm       | 0.75      | 0.77      | Pass      |\n",
       "| M         | MOBC      | 0.56      | 0.56      | 0.57      | Y         | Unmarried | V         | Paid      | 11368     | ...       | Um        | Service   | Housewife | 20        | 5.0       | Govt      | Asm       | 1.75      | 0.11      | Pass      |\n",
       "| F         | G         | 0.50      | 0.50      | 0.46      | Y         | Unmarried | V         | Paid      |  6337     | ...       | Il        | Business  | Housewife |  2        | 2.5       | Govt      | Eng       | 0.00      | 0.60      | Fail      |\n",
       "| M         | OBC       | 0.36      | 0.39      | 0.48      | Y         | Unmarried | V         | Free      |  2987     | ...       | Il        | Farmer    | Housewife | 16        | 1.0       | Govt      | Eng       | 0.75      | 0.77      | Fail      |\n",
       "| F         | OBC       | 0.55      | 0.56      | 0.58      | Y         | Unmarried | V         | Free      |  8842     | ...       | 10        | Farmer    | Housewife |  2        | 3.5       | Govt      | Asm       | 0.75      | 0.66      | Fail      |\n",
       "| M         | OBC       | 0.96      | 0.60      | 0.60      | Y         | Unmarried | V         | Paid      | 10732     | ...       | Um        | Business  | Housewife | 16        | 1.0       | Govt      | Eng       | 1.00      | 0.61      | Pass      |\n",
       "| F         | OBC       | 0.54      | 0.45      | 0.54      | Y         | Unmarried | T         | Paid      | 19472     | ...       | Um        | Service   | Housewife | 10        | 0.5       | Govt      | Eng       | 0.25      | 0.28      | Fail      |\n",
       "| M         | OBC       | 0.58      | 0.57      | 0.59      | Y         | Unmarried | V         | Free      |  9020     | ...       | Um        | Farmer    | Housewife | 13        | 2.5       | Govt      | Asm       | 0.50      | 0.81      | Pass      |\n",
       "| F         | ST        | 0.58      | 0.58      | 0.46      | Y         | Unmarried | T         | Paid      | 19928     | ...       | Il        | Service   | Housewife |  1        | 1.0       | Govt      | Eng       | 0.25      | 0.21      | Pass      |\n",
       "| M         | ST        | 0.57      | 0.32      | 0.57      | Y         | Unmarried | V         | Free      | 14661     | ...       | 10        | Farmer    | Housewife |  4        | 4.0       | Private   | Asm       | 2.00      | 0.71      | Pass      |\n",
       "| M         | G         | 0.59      | 0.49      | 0.46      | N         | Unmarried | V         | Paid      |  3005     | ...       | Um        | Farmer    | Housewife |  9        | 3.0       | Private   | Eng       | 0.25      | 0.79      | Pass      |\n",
       "| F         | G         | 0.34      | 0.48      | 0.79      | N         | Unmarried | V         | Free      |  3278     | ...       | Il        | Farmer    | Housewife |  8        | 2.0       | Govt      | Eng       | 1.00      | 0.80      | Pass      |\n",
       "| F         | G         | 0.60      | 0.78      | 0.92      | N         | Unmarried | T         | Paid      |  6770     | ...       | 10        | Service   | Housewife |  8        | 5.0       | Govt      | Eng       | 0.25      | 0.81      | Pass      |\n",
       "| F         | MOBC      | 0.57      | 0.47      | 0.45      | Y         | Unmarried | V         | Free      |  3124     | ...       | Il        | Farmer    | Housewife | 18        | 0.0       | Govt      | Asm       | 0.50      | 0.90      | Fail      |\n",
       "| F         | MOBC      | 0.55      | 0.68      | 0.67      | N         | Unmarried | V         | Free      |  6191     | ...       | 10        | Farmer    | Housewife | 19        | 3.0       | Govt      | Eng       | 0.00      | 0.75      | Pass      |\n",
       "| F         | ST        | 0.66      | 0.48      | 0.55      | Y         | Unmarried | V         | Paid      |  5402     | ...       | 10        | Others    | Housewife | 20        | 3.5       | Govt      | Asm       | 0.50      | 0.87      | Pass      |\n",
       "| M         | G         | 0.50      | 0.79      | 0.47      | N         | Unmarried | V         | Free      |  3128     | ...       | Um        | Farmer    | Housewife | 15        | 3.0       | Govt      | Asm       | 1.50      | 0.88      | Pass      |\n",
       "| F         | ST        | 0.50      | 0.52      | 0.65      | Y         | Unmarried | V         | Paid      |  5981     | ...       | Il        | Service   | Housewife |  2        | 1.0       | Govt      | Eng       | 0.25      | 0.62      | Pass      |\n",
       "| F         | SC        | 0.44      | 0.46      | 0.74      | N         | Unmarried | V         | Free      | 10035     | ...       | Um        | Business  | Service   |  9        | 2.0       | Govt      | Asm       | 0.00      | 0.13      | Pass      |\n",
       "| M         | ST        | 0.58      | 0.52      | 0.72      | Y         | Unmarried | V         | Paid      |  9361     | ...       | 12        | Farmer    | Housewife | 20        | 3.5       | Govt      | Eng       | 0.25      | 0.81      | Pass      |\n",
       "| M         | G         | 0.52      | 0.58      | 0.49      | Y         | Unmarried | V         | Free      | 24096     | ...       | Il        | Farmer    | Housewife |  6        | 3.0       | Govt      | Eng       | 0.00      | 0.15      | Fail      |\n",
       "| M         | MOBC      | 0.30      | 0.51      | 0.77      | Y         | Unmarried | V         | Free      |  5589     | ...       | Il        | Business  | Housewife |  4        | 6.0       | Govt      | Asm       | 0.50      | 0.91      | Pass      |\n",
       "| F         | G         | 0.59      | 0.59      | 0.48      | Y         | Unmarried | V         | Paid      | 15428     | ...       | 10        | Business  | Housewife |  5        | 3.0       | Govt      | Eng       | 0.25      | 0.80      | Fail      |\n",
       "| M         | OBC       | 0.56      | 0.55      | 0.72      | Y         | Unmarried | V         | Free      |  3042     | ...       | Um        | Farmer    | Housewife | 14        | 4.0       | Govt      | Asm       | 0.50      | 0.91      | Pass      |\n",
       "| M         | ST        | 0.69      | 0.79      | 0.60      | Y         | Unmarried | V         | Paid      |  8248     | ...       | 12        | Farmer    | Housewife | 14        | 0.0       | Govt      | Eng       | 1.00      | 0.98      | Pass      |\n",
       "| F         | G         | 0.53      | 0.38      | 0.58      | N         | Married   | T         | Paid      | 10527     | ...       | Um        | Others    | Housewife |  2        | 3.5       | Govt      | Asm       | 1.25      | 0.91      | Fail      |\n",
       "| M         | ST        | 0.32      | 0.55      | 0.58      | Y         | Unmarried | V         | Paid      | 14972     | ...       | Il        | Farmer    | Housewife |  3        | 3.5       | Govt      | Asm       | 0.75      | 0.73      | Fail      |\n",
       "| M         | OBC       | 0.50      | 0.50      | 0.42      | N         | Unmarried | V         | Paid      |  6777     | ...       | Il        | Others    | Housewife | 18        | 6.0       | Govt      | Asm       | 0.50      | 0.83      | Pass      |\n",
       "| F         | ST        | 0.59      | 0.51      | 0.59      | N         | Unmarried | V         | Free      | 14662     | ...       | Um        | Others    | Housewife | 11        | 2.5       | Private   | Asm       | 0.50      | 0.68      | Pass      |\n",
       "| ... | ... | ... | ... | ... | ... | ... | ... | ... | ... |     | ... | ... | ... | ... | ... | ... | ... | ... | ... | ... |\n",
       "| M         | OBC       | 0.55      | 0.53      | 0.52      | Y         | Unmarried | T         | Paid      | 24419     | ...       | 12        | Service   | Housewife |  5        | 3.0       | Private   | Eng       | 0.00      | 0.14      | Fail      |\n",
       "| F         | OBC       | 0.53      | 0.50      | 0.69      | N         | Unmarried | V         | Paid      |  8228     | ...       | 10        | Farmer    | Housewife |  9        | 3.0       | Govt      | Asm       | 0.25      | 1.00      | Pass      |\n",
       "| M         | ST        | 0.51      | 0.34      | 0.57      | Y         | Unmarried | V         | Free      |  4746     | ...       | 10        | Farmer    | Housewife |  6        | 2.5       | Govt      | Asm       | 2.00      | 0.75      | Fail      |\n",
       "| F         | G         | 0.54      | 0.69      | 0.72      | Y         | Unmarried | V         | Free      |  4112     | ...       | Il        | Service   | Housewife |  4        | 0.0       | Govt      | Asm       | 0.75      | 0.75      | Pass      |\n",
       "| F         | OBC       | 0.64      | 0.67      | 0.53      | Y         | Unmarried | V         | Paid      |  4557     | ...       | Degree    | Others    | Housewife | 12        | 3.0       | Govt      | Asm       | 0.75      | 0.95      | Pass      |\n",
       "| M         | OBC       | 0.44      | 0.57      | 0.60      | Y         | Unmarried | V         | Free      |  4479     | ...       | Um        | Farmer    | Housewife |  7        | 1.5       | Govt      | Eng       | 1.75      | 0.68      | Pass      |\n",
       "| M         | MOBC      | 0.40      | 0.78      | 0.59      | Y         | Unmarried | V         | Free      |  9257     | ...       | Il        | Service   | Service   |  3        | 2.0       | Private   | Eng       | 0.75      | 0.67      | Pass      |\n",
       "| F         | OBC       | 0.56      | 0.54      | 0.69      | N         | Unmarried | V         | Paid      | 11419     | ...       | 10        | Service   | Housewife |  9        | 2.5       | Govt      | Asm       | 2.00      | 0.89      | Pass      |\n",
       "| F         | OBC       | 0.39      | 0.55      | 0.54      | N         | Unmarried | V         | Free      | 28121     | ...       | 10        | Service   | Service   |  6        | 2.0       | Govt      | Asm       | 0.00      | 0.28      | Pass      |\n",
       "| F         | SC        | 0.58      | 0.37      | 0.59      | Y         | Unmarried | V         | Free      |  3879     | ...       | Um        | Farmer    | Housewife |  2        | 3.5       | Private   | Asm       | 0.00      | 0.97      | Fail      |\n",
       "| F         | OBC       | 0.49      | 0.46      | 0.67      | N         | Unmarried | V         | Free      | 17917     | ...       | Il        | Farmer    | Housewife |  2        | 2.5       | Govt      | Asm       | 1.75      | 0.92      | Pass      |\n",
       "| F         | G         | 0.53      | 0.60      | 0.68      | N         | Unmarried | V         | Free      |  7046     | ...       | Il        | Farmer    | Housewife |  3        | 0.0       | Govt      | Asm       | 0.25      | 0.97      | Pass      |\n",
       "| F         | OBC       | 0.47      | 0.54      | 0.67      | N         | Unmarried | V         | Free      | 28205     | ...       | Um        | Business  | Housewife | 11        | 2.0       | Govt      | Asm       | 0.00      | 0.81      | Pass      |\n",
       "| M         | OBC       | 0.44      | 0.47      | 0.54      | Y         | Unmarried | V         | Paid      | 29894     | ...       | 12        | Service   | Housewife | 18        | 3.5       | Private   | Eng       | 0.00      | 0.46      | Fail      |\n",
       "| F         | OBC       | 0.75      | 0.79      | 0.45      | N         | Unmarried | T         | Free      |  5952     | ...       | Il        | Farmer    | Housewife |  1        | 5.0       | Govt      | Eng       | 0.50      | 0.78      | Pass      |\n",
       "| F         | ST        | 0.44      | 0.53      | 0.50      | N         | Unmarried | V         | Paid      |  5049     | ...       | 10        | Business  | Housewife |  5        | 0.0       | Govt      | Asm       | 0.25      | 0.68      | Pass      |\n",
       "| F         | MOBC      | 0.49      | 0.79      | 0.51      | Y         | Unmarried | V         | Free      |  3440     | ...       | Il        | Business  | Housewife |  9        | 3.5       | Private   | Asm       | 0.75      | 0.39      | Pass      |\n",
       "| F         | SC        | 0.40      | 0.31      | 0.60      | Y         | Unmarried | V         | Free      |  9869     | ...       | Il        | Business  | Housewife |  5        | 0.5       | Govt      | Asm       | 0.50      | 0.74      | Pass      |\n",
       "| F         | G         | 0.50      | 0.34      | 0.40      | Y         | Unmarried | V         | Paid      |  4716     | ...       | Um        | Others    | Housewife |  4        | 2.0       | Govt      | Eng       | 0.25      | 0.64      | Fail      |\n",
       "| M         | G         | 0.82      | 0.86      | 1.00      | N         | Unmarried | T         | Paid      | 13099     | ...       | Um        | Service   | Housewife | 17        | 2.0       | Private   | Eng       | 0.25      | 0.78      | Pass      |\n",
       "| F         | OBC       | 0.58      | 0.46      | 0.71      | Y         | Unmarried | V         | Free      | 11189     | ...       | Um        | Business  | Housewife |  4        | 3.0       | Govt      | Eng       | 1.75      | 0.76      | Pass      |\n",
       "| F         | ST        | 0.53      | 0.60      | 0.56      | N         | Unmarried | V         | Free      | 14379     | ...       | Um        | Farmer    | Housewife |  5        | 5.5       | Govt      | Asm       | 1.00      | 0.75      | Pass      |\n",
       "| F         | OBC       | 0.40      | 0.42      | 0.46      | N         | Unmarried | V         | Paid      |  6163     | ...       | 10        | Service   | Housewife |  2        | 3.0       | Govt      | Asm       | 0.00      | 0.67      | Pass      |\n",
       "| F         | OBC       | 0.59      | 0.71      | 0.70      | N         | Unmarried | T         | Paid      |  5271     | ...       | Um        | Service   | Housewife |  5        | 5.5       | Private   | Asm       | 0.25      | 0.70      | Pass      |\n",
       "| M         | G         | 0.44      | 0.55      | 0.49      | N         | Unmarried | T         | Paid      | 16836     | ...       | Um        | Business  | Housewife | 15        | 0.5       | Govt      | Asm       | 0.00      | 0.66      | Pass      |\n",
       "| M         | MOBC      | 0.49      | 0.71      | 0.63      | N         | Unmarried | V         | Free      | 28444     | ...       | Um        | Farmer    | Housewife | 12        | 0.0       | Govt      | Asm       | 1.25      | 0.73      | Pass      |\n",
       "| F         | OBC       | 0.58      | 0.41      | 0.34      | Y         | Unmarried | V         | Free      | 20024     | ...       | 12        | Service   | Service   |  6        | 0.0       | Govt      | Asm       | 1.00      | 0.74      | Fail      |\n",
       "| F         | OBC       | 0.35      | 0.50      | 0.77      | Y         | Unmarried | T         | Paid      | 11744     | ...       | Um        | Service   | Housewife |  1        | 2.5       | Govt      | Asm       | 0.25      | 0.64      | Fail      |\n",
       "| M         | OBC       | 0.30      | 0.43      | 0.52      | Y         | Unmarried | V         | Free      |  8260     | ...       | Um        | Farmer    | Housewife |  7        | 2.5       | Govt      | Asm       | 1.00      | 0.33      | Fail      |\n",
       "| M         | OBC       | 0.45      | 0.83      | 0.68      | N         | Unmarried | V         | Free      |  2881     | ...       | Il        | Farmer    | Housewife |  8        | 3.5       | Govt      | Asm       | 0.25      | 0.16      | Pass      |\n",
       "\n"
      ],
      "text/plain": [
       "    GE  CST  TNP  TWP  IAP  ARR MS        LS  AS   FMI   ... MQ     FO      \n",
       "1   M   G    0.44 0.59 0.50 Y   Unmarried V   Free  3145 ... Il     Farmer  \n",
       "2   M   SC   0.58 0.41 0.52 N   Unmarried V   Paid  3483 ... 10     Business\n",
       "3   M   MOBC 0.56 0.56 0.57 Y   Unmarried V   Paid 11368 ... Um     Service \n",
       "4   F   G    0.50 0.50 0.46 Y   Unmarried V   Paid  6337 ... Il     Business\n",
       "5   M   OBC  0.36 0.39 0.48 Y   Unmarried V   Free  2987 ... Il     Farmer  \n",
       "6   F   OBC  0.55 0.56 0.58 Y   Unmarried V   Free  8842 ... 10     Farmer  \n",
       "7   M   OBC  0.96 0.60 0.60 Y   Unmarried V   Paid 10732 ... Um     Business\n",
       "8   F   OBC  0.54 0.45 0.54 Y   Unmarried T   Paid 19472 ... Um     Service \n",
       "9   M   OBC  0.58 0.57 0.59 Y   Unmarried V   Free  9020 ... Um     Farmer  \n",
       "10  F   ST   0.58 0.58 0.46 Y   Unmarried T   Paid 19928 ... Il     Service \n",
       "11  M   ST   0.57 0.32 0.57 Y   Unmarried V   Free 14661 ... 10     Farmer  \n",
       "12  M   G    0.59 0.49 0.46 N   Unmarried V   Paid  3005 ... Um     Farmer  \n",
       "13  F   G    0.34 0.48 0.79 N   Unmarried V   Free  3278 ... Il     Farmer  \n",
       "14  F   G    0.60 0.78 0.92 N   Unmarried T   Paid  6770 ... 10     Service \n",
       "15  F   MOBC 0.57 0.47 0.45 Y   Unmarried V   Free  3124 ... Il     Farmer  \n",
       "16  F   MOBC 0.55 0.68 0.67 N   Unmarried V   Free  6191 ... 10     Farmer  \n",
       "17  F   ST   0.66 0.48 0.55 Y   Unmarried V   Paid  5402 ... 10     Others  \n",
       "18  M   G    0.50 0.79 0.47 N   Unmarried V   Free  3128 ... Um     Farmer  \n",
       "19  F   ST   0.50 0.52 0.65 Y   Unmarried V   Paid  5981 ... Il     Service \n",
       "20  F   SC   0.44 0.46 0.74 N   Unmarried V   Free 10035 ... Um     Business\n",
       "21  M   ST   0.58 0.52 0.72 Y   Unmarried V   Paid  9361 ... 12     Farmer  \n",
       "22  M   G    0.52 0.58 0.49 Y   Unmarried V   Free 24096 ... Il     Farmer  \n",
       "23  M   MOBC 0.30 0.51 0.77 Y   Unmarried V   Free  5589 ... Il     Business\n",
       "24  F   G    0.59 0.59 0.48 Y   Unmarried V   Paid 15428 ... 10     Business\n",
       "25  M   OBC  0.56 0.55 0.72 Y   Unmarried V   Free  3042 ... Um     Farmer  \n",
       "26  M   ST   0.69 0.79 0.60 Y   Unmarried V   Paid  8248 ... 12     Farmer  \n",
       "27  F   G    0.53 0.38 0.58 N   Married   T   Paid 10527 ... Um     Others  \n",
       "28  M   ST   0.32 0.55 0.58 Y   Unmarried V   Paid 14972 ... Il     Farmer  \n",
       "29  M   OBC  0.50 0.50 0.42 N   Unmarried V   Paid  6777 ... Il     Others  \n",
       "30  F   ST   0.59 0.51 0.59 N   Unmarried V   Free 14662 ... Um     Others  \n",
       "... ... ...  ...  ...  ...  ... ...       ... ...  ...       ...    ...     \n",
       "196 M   OBC  0.55 0.53 0.52 Y   Unmarried T   Paid 24419 ... 12     Service \n",
       "197 F   OBC  0.53 0.50 0.69 N   Unmarried V   Paid  8228 ... 10     Farmer  \n",
       "198 M   ST   0.51 0.34 0.57 Y   Unmarried V   Free  4746 ... 10     Farmer  \n",
       "199 F   G    0.54 0.69 0.72 Y   Unmarried V   Free  4112 ... Il     Service \n",
       "200 F   OBC  0.64 0.67 0.53 Y   Unmarried V   Paid  4557 ... Degree Others  \n",
       "201 M   OBC  0.44 0.57 0.60 Y   Unmarried V   Free  4479 ... Um     Farmer  \n",
       "202 M   MOBC 0.40 0.78 0.59 Y   Unmarried V   Free  9257 ... Il     Service \n",
       "203 F   OBC  0.56 0.54 0.69 N   Unmarried V   Paid 11419 ... 10     Service \n",
       "204 F   OBC  0.39 0.55 0.54 N   Unmarried V   Free 28121 ... 10     Service \n",
       "205 F   SC   0.58 0.37 0.59 Y   Unmarried V   Free  3879 ... Um     Farmer  \n",
       "206 F   OBC  0.49 0.46 0.67 N   Unmarried V   Free 17917 ... Il     Farmer  \n",
       "207 F   G    0.53 0.60 0.68 N   Unmarried V   Free  7046 ... Il     Farmer  \n",
       "208 F   OBC  0.47 0.54 0.67 N   Unmarried V   Free 28205 ... Um     Business\n",
       "209 M   OBC  0.44 0.47 0.54 Y   Unmarried V   Paid 29894 ... 12     Service \n",
       "210 F   OBC  0.75 0.79 0.45 N   Unmarried T   Free  5952 ... Il     Farmer  \n",
       "211 F   ST   0.44 0.53 0.50 N   Unmarried V   Paid  5049 ... 10     Business\n",
       "212 F   MOBC 0.49 0.79 0.51 Y   Unmarried V   Free  3440 ... Il     Business\n",
       "213 F   SC   0.40 0.31 0.60 Y   Unmarried V   Free  9869 ... Il     Business\n",
       "214 F   G    0.50 0.34 0.40 Y   Unmarried V   Paid  4716 ... Um     Others  \n",
       "215 M   G    0.82 0.86 1.00 N   Unmarried T   Paid 13099 ... Um     Service \n",
       "216 F   OBC  0.58 0.46 0.71 Y   Unmarried V   Free 11189 ... Um     Business\n",
       "217 F   ST   0.53 0.60 0.56 N   Unmarried V   Free 14379 ... Um     Farmer  \n",
       "218 F   OBC  0.40 0.42 0.46 N   Unmarried V   Paid  6163 ... 10     Service \n",
       "219 F   OBC  0.59 0.71 0.70 N   Unmarried T   Paid  5271 ... Um     Service \n",
       "220 M   G    0.44 0.55 0.49 N   Unmarried T   Paid 16836 ... Um     Business\n",
       "221 M   MOBC 0.49 0.71 0.63 N   Unmarried V   Free 28444 ... Um     Farmer  \n",
       "222 F   OBC  0.58 0.41 0.34 Y   Unmarried V   Free 20024 ... 12     Service \n",
       "223 F   OBC  0.35 0.50 0.77 Y   Unmarried T   Paid 11744 ... Um     Service \n",
       "224 M   OBC  0.30 0.43 0.52 Y   Unmarried V   Free  8260 ... Um     Farmer  \n",
       "225 M   OBC  0.45 0.83 0.68 N   Unmarried V   Free  2881 ... Il     Farmer  \n",
       "    MO        NF  SH  SS      ME  TT   ATD  ESP \n",
       "1   Housewife  7  1.0 Govt    Asm 0.50 0.77 Fail\n",
       "2   Housewife  1  1.5 Govt    Asm 0.75 0.77 Pass\n",
       "3   Housewife 20  5.0 Govt    Asm 1.75 0.11 Pass\n",
       "4   Housewife  2  2.5 Govt    Eng 0.00 0.60 Fail\n",
       "5   Housewife 16  1.0 Govt    Eng 0.75 0.77 Fail\n",
       "6   Housewife  2  3.5 Govt    Asm 0.75 0.66 Fail\n",
       "7   Housewife 16  1.0 Govt    Eng 1.00 0.61 Pass\n",
       "8   Housewife 10  0.5 Govt    Eng 0.25 0.28 Fail\n",
       "9   Housewife 13  2.5 Govt    Asm 0.50 0.81 Pass\n",
       "10  Housewife  1  1.0 Govt    Eng 0.25 0.21 Pass\n",
       "11  Housewife  4  4.0 Private Asm 2.00 0.71 Pass\n",
       "12  Housewife  9  3.0 Private Eng 0.25 0.79 Pass\n",
       "13  Housewife  8  2.0 Govt    Eng 1.00 0.80 Pass\n",
       "14  Housewife  8  5.0 Govt    Eng 0.25 0.81 Pass\n",
       "15  Housewife 18  0.0 Govt    Asm 0.50 0.90 Fail\n",
       "16  Housewife 19  3.0 Govt    Eng 0.00 0.75 Pass\n",
       "17  Housewife 20  3.5 Govt    Asm 0.50 0.87 Pass\n",
       "18  Housewife 15  3.0 Govt    Asm 1.50 0.88 Pass\n",
       "19  Housewife  2  1.0 Govt    Eng 0.25 0.62 Pass\n",
       "20  Service    9  2.0 Govt    Asm 0.00 0.13 Pass\n",
       "21  Housewife 20  3.5 Govt    Eng 0.25 0.81 Pass\n",
       "22  Housewife  6  3.0 Govt    Eng 0.00 0.15 Fail\n",
       "23  Housewife  4  6.0 Govt    Asm 0.50 0.91 Pass\n",
       "24  Housewife  5  3.0 Govt    Eng 0.25 0.80 Fail\n",
       "25  Housewife 14  4.0 Govt    Asm 0.50 0.91 Pass\n",
       "26  Housewife 14  0.0 Govt    Eng 1.00 0.98 Pass\n",
       "27  Housewife  2  3.5 Govt    Asm 1.25 0.91 Fail\n",
       "28  Housewife  3  3.5 Govt    Asm 0.75 0.73 Fail\n",
       "29  Housewife 18  6.0 Govt    Asm 0.50 0.83 Pass\n",
       "30  Housewife 11  2.5 Private Asm 0.50 0.68 Pass\n",
       "... ...       ... ... ...     ... ...  ...  ... \n",
       "196 Housewife  5  3.0 Private Eng 0.00 0.14 Fail\n",
       "197 Housewife  9  3.0 Govt    Asm 0.25 1.00 Pass\n",
       "198 Housewife  6  2.5 Govt    Asm 2.00 0.75 Fail\n",
       "199 Housewife  4  0.0 Govt    Asm 0.75 0.75 Pass\n",
       "200 Housewife 12  3.0 Govt    Asm 0.75 0.95 Pass\n",
       "201 Housewife  7  1.5 Govt    Eng 1.75 0.68 Pass\n",
       "202 Service    3  2.0 Private Eng 0.75 0.67 Pass\n",
       "203 Housewife  9  2.5 Govt    Asm 2.00 0.89 Pass\n",
       "204 Service    6  2.0 Govt    Asm 0.00 0.28 Pass\n",
       "205 Housewife  2  3.5 Private Asm 0.00 0.97 Fail\n",
       "206 Housewife  2  2.5 Govt    Asm 1.75 0.92 Pass\n",
       "207 Housewife  3  0.0 Govt    Asm 0.25 0.97 Pass\n",
       "208 Housewife 11  2.0 Govt    Asm 0.00 0.81 Pass\n",
       "209 Housewife 18  3.5 Private Eng 0.00 0.46 Fail\n",
       "210 Housewife  1  5.0 Govt    Eng 0.50 0.78 Pass\n",
       "211 Housewife  5  0.0 Govt    Asm 0.25 0.68 Pass\n",
       "212 Housewife  9  3.5 Private Asm 0.75 0.39 Pass\n",
       "213 Housewife  5  0.5 Govt    Asm 0.50 0.74 Pass\n",
       "214 Housewife  4  2.0 Govt    Eng 0.25 0.64 Fail\n",
       "215 Housewife 17  2.0 Private Eng 0.25 0.78 Pass\n",
       "216 Housewife  4  3.0 Govt    Eng 1.75 0.76 Pass\n",
       "217 Housewife  5  5.5 Govt    Asm 1.00 0.75 Pass\n",
       "218 Housewife  2  3.0 Govt    Asm 0.00 0.67 Pass\n",
       "219 Housewife  5  5.5 Private Asm 0.25 0.70 Pass\n",
       "220 Housewife 15  0.5 Govt    Asm 0.00 0.66 Pass\n",
       "221 Housewife 12  0.0 Govt    Asm 1.25 0.73 Pass\n",
       "222 Service    6  0.0 Govt    Asm 1.00 0.74 Fail\n",
       "223 Housewife  1  2.5 Govt    Asm 0.25 0.64 Fail\n",
       "224 Housewife  7  2.5 Govt    Asm 1.00 0.33 Fail\n",
       "225 Housewife  8  3.5 Govt    Asm 0.25 0.16 Pass"
      ]
     },
     "metadata": {},
     "output_type": "display_data"
    }
   ],
   "source": [
    "Train$ESP<-(Train$ESP=='Pass')"
   ]
  },
  {
   "cell_type": "code",
   "execution_count": null,
   "metadata": {
    "vscode": {
     "languageId": "r"
    }
   },
   "outputs": [
    {
     "name": "stdout",
     "output_type": "stream",
     "text": [
      "Distribution not specified, assuming bernoulli ...\n",
      "Distribution not specified, assuming bernoulli ...\n"
     ]
    },
    {
     "data": {
      "image/png": "[encoded data removed]",
      "text/plain": [
       "plot without title"
      ]
     },
     "metadata": {},
     "output_type": "display_data"
    }
   ],
   "source": [
    "error_rate3<-c()\n",
    "error_rate1<-c()\n",
    "fit3.boost<-gbm(ESP~.,data=Train,n.trees=5000,interaction.depth = 3)\n",
    "fit1.boost<-gbm(ESP~.,data=Train,n.trees=5000,interaction.depth = 1)\n",
    "for (i in c(1,100,500,1000,5000)){\n",
    "    pred3.boost <- predict(fit3.boost, newdata = X_test, n.trees =i, type=\"response\")\n",
    "    labels = (pred3.boost>=0.5)\n",
    "    cm = table(y_test, labels)\n",
    "    error_rate3<-c(error_rate3,1-sum(diag(cm))/sum(cm))\n",
    "}\n",
    "for (i in c(1,100,500,1000,5000)){\n",
    "    pred1.boost <- predict(fit1.boost, newdata = X_test, n.trees =i, type=\"response\")\n",
    "    labels = (pred1.boost>=0.5)\n",
    "    cm = table(y_test, labels)\n",
    "    error_rate1<-c(error_rate1,1-sum(diag(cm))/sum(cm))\n",
    "}\n",
    "plot(c(1,100,500,1000,5000),error_rate3,type='l',col='blue',lwd=2,ylim=c(0,1),ylab=\"Error rate\",xlab=\"Number of Trees\")\n",
    "lines(c(1,100,500,1000,5000),error_rate1,type='l',col='red')"
   ]
  },
  {
   "cell_type": "markdown",
   "metadata": {},
   "source": [
    "><u>Tâche 13</u> : Utiliser la fonction `summary` pour identifier les variables d'importance."
   ]
  },
  {
   "cell_type": "code",
   "execution_count": null,
   "metadata": {
    "vscode": {
     "languageId": "r"
    }
   },
   "outputs": [
    {
     "data": {
      "text/html": [
       "<table>\n",
       "<thead><tr><th></th><th scope=col>var</th><th scope=col>rel.inf</th></tr></thead>\n",
       "<tbody>\n",
       "\t<tr><th scope=row>TWP</th><td>TWP         </td><td>15.126605677</td></tr>\n",
       "\t<tr><th scope=row>TNP</th><td>TNP         </td><td>14.006139111</td></tr>\n",
       "\t<tr><th scope=row>IAP</th><td>IAP         </td><td>12.328145938</td></tr>\n",
       "\t<tr><th scope=row>ARR</th><td>ARR         </td><td>11.856071053</td></tr>\n",
       "\t<tr><th scope=row>ATD</th><td>ATD         </td><td> 7.966751052</td></tr>\n",
       "\t<tr><th scope=row>FMI</th><td>FMI         </td><td> 6.669903157</td></tr>\n",
       "\t<tr><th scope=row>NF</th><td>NF          </td><td> 5.684601116</td></tr>\n",
       "\t<tr><th scope=row>FQ</th><td>FQ          </td><td> 5.318228347</td></tr>\n",
       "\t<tr><th scope=row>CST</th><td>CST         </td><td> 5.102181729</td></tr>\n",
       "\t<tr><th scope=row>FO</th><td>FO          </td><td> 3.696716990</td></tr>\n",
       "\t<tr><th scope=row>SH</th><td>SH          </td><td> 3.683881853</td></tr>\n",
       "\t<tr><th scope=row>MQ</th><td>MQ          </td><td> 3.048887743</td></tr>\n",
       "\t<tr><th scope=row>TT</th><td>TT          </td><td> 1.736409443</td></tr>\n",
       "\t<tr><th scope=row>FS</th><td>FS          </td><td> 1.030104825</td></tr>\n",
       "\t<tr><th scope=row>GE</th><td>GE          </td><td> 0.765836217</td></tr>\n",
       "\t<tr><th scope=row>AS</th><td>AS          </td><td> 0.757699409</td></tr>\n",
       "\t<tr><th scope=row>SS</th><td>SS          </td><td> 0.641604364</td></tr>\n",
       "\t<tr><th scope=row>ME</th><td>ME          </td><td> 0.567881448</td></tr>\n",
       "\t<tr><th scope=row>MO</th><td>MO          </td><td> 0.010954441</td></tr>\n",
       "\t<tr><th scope=row>LS</th><td>LS          </td><td> 0.001396084</td></tr>\n",
       "\t<tr><th scope=row>MS</th><td>MS          </td><td> 0.000000000</td></tr>\n",
       "</tbody>\n",
       "</table>\n"
      ],
      "text/latex": [
       "\\begin{tabular}{r|ll}\n",
       "  & var & rel.inf\\\\\n",
       "\\hline\n",
       "\tTWP & TWP          & 15.126605677\\\\\n",
       "\tTNP & TNP          & 14.006139111\\\\\n",
       "\tIAP & IAP          & 12.328145938\\\\\n",
       "\tARR & ARR          & 11.856071053\\\\\n",
       "\tATD & ATD          &  7.966751052\\\\\n",
       "\tFMI & FMI          &  6.669903157\\\\\n",
       "\tNF & NF           &  5.684601116\\\\\n",
       "\tFQ & FQ           &  5.318228347\\\\\n",
       "\tCST & CST          &  5.102181729\\\\\n",
       "\tFO & FO           &  3.696716990\\\\\n",
       "\tSH & SH           &  3.683881853\\\\\n",
       "\tMQ & MQ           &  3.048887743\\\\\n",
       "\tTT & TT           &  1.736409443\\\\\n",
       "\tFS & FS           &  1.030104825\\\\\n",
       "\tGE & GE           &  0.765836217\\\\\n",
       "\tAS & AS           &  0.757699409\\\\\n",
       "\tSS & SS           &  0.641604364\\\\\n",
       "\tME & ME           &  0.567881448\\\\\n",
       "\tMO & MO           &  0.010954441\\\\\n",
       "\tLS & LS           &  0.001396084\\\\\n",
       "\tMS & MS           &  0.000000000\\\\\n",
       "\\end{tabular}\n"
      ],
      "text/markdown": [
       "\n",
       "| <!--/--> | var | rel.inf |\n",
       "|---|---|---|\n",
       "| TWP | TWP          | 15.126605677 |\n",
       "| TNP | TNP          | 14.006139111 |\n",
       "| IAP | IAP          | 12.328145938 |\n",
       "| ARR | ARR          | 11.856071053 |\n",
       "| ATD | ATD          |  7.966751052 |\n",
       "| FMI | FMI          |  6.669903157 |\n",
       "| NF | NF           |  5.684601116 |\n",
       "| FQ | FQ           |  5.318228347 |\n",
       "| CST | CST          |  5.102181729 |\n",
       "| FO | FO           |  3.696716990 |\n",
       "| SH | SH           |  3.683881853 |\n",
       "| MQ | MQ           |  3.048887743 |\n",
       "| TT | TT           |  1.736409443 |\n",
       "| FS | FS           |  1.030104825 |\n",
       "| GE | GE           |  0.765836217 |\n",
       "| AS | AS           |  0.757699409 |\n",
       "| SS | SS           |  0.641604364 |\n",
       "| ME | ME           |  0.567881448 |\n",
       "| MO | MO           |  0.010954441 |\n",
       "| LS | LS           |  0.001396084 |\n",
       "| MS | MS           |  0.000000000 |\n",
       "\n"
      ],
      "text/plain": [
       "    var rel.inf     \n",
       "TWP TWP 15.126605677\n",
       "TNP TNP 14.006139111\n",
       "IAP IAP 12.328145938\n",
       "ARR ARR 11.856071053\n",
       "ATD ATD  7.966751052\n",
       "FMI FMI  6.669903157\n",
       "NF  NF   5.684601116\n",
       "FQ  FQ   5.318228347\n",
       "CST CST  5.102181729\n",
       "FO  FO   3.696716990\n",
       "SH  SH   3.683881853\n",
       "MQ  MQ   3.048887743\n",
       "TT  TT   1.736409443\n",
       "FS  FS   1.030104825\n",
       "GE  GE   0.765836217\n",
       "AS  AS   0.757699409\n",
       "SS  SS   0.641604364\n",
       "ME  ME   0.567881448\n",
       "MO  MO   0.010954441\n",
       "LS  LS   0.001396084\n",
       "MS  MS   0.000000000"
      ]
     },
     "metadata": {},
     "output_type": "display_data"
    },
    {
     "data": {
      "image/png": "[encoded data removed]",
      "text/plain": [
       "plot without title"
      ]
     },
     "metadata": {},
     "output_type": "display_data"
    }
   ],
   "source": [
    "summary(fit3.boost, n.trees = 5000)"
   ]
  },
  {
   "cell_type": "markdown",
   "metadata": {},
   "source": [
    "## Comparaison"
   ]
  },
  {
   "cell_type": "markdown",
   "metadata": {},
   "source": [
    "Dans cette dernière partie, on applique une autre méthode de classification à notre jeu de données à titre de comparaison avec les méthodes par arbres en général. On se tourne vers une méthode qui est également adaptée, c'est-à-dire qui est capable de traiter des variables quantitatives et qualitatives non-ordonnées. On choisit la régression logistique multinomiale `multinom` fournie par la librairie `nnet` de R. "
   ]
  },
  {
   "cell_type": "markdown",
   "metadata": {},
   "source": [
    "><u>Tâche 14</u> : Effectuer une régression logistique multinomiale sur le jeu de données et déterminer son taux d'erreur sur l'ensemble de test."
   ]
  },
  {
   "cell_type": "code",
   "execution_count": null,
   "metadata": {
    "vscode": {
     "languageId": "r"
    }
   },
   "outputs": [
    {
     "name": "stdout",
     "output_type": "stream",
     "text": [
      "# weights:  40 (39 variable)\n",
      "initial  value 155.958116 \n",
      "iter  10 value 84.299601\n",
      "iter  20 value 69.217007\n",
      "iter  30 value 67.585373\n",
      "iter  40 value 67.548972\n",
      "iter  50 value 67.535012\n",
      "iter  60 value 67.534324\n",
      "final  value 67.534262 \n",
      "converged\n",
      "[1] 0.2133333\n"
     ]
    },
    {
     "data": {
      "text/plain": [
       "Call:\n",
       "multinom(formula = ESP ~ ., data = Train)\n",
       "\n",
       "Coefficients:\n",
       "                   Values    Std. Err.\n",
       "(Intercept) -1.750987e+02 1.883954e-02\n",
       "GEM          2.287231e-01 1.054828e-02\n",
       "CSTMOBC      9.272503e-01 4.597993e-03\n",
       "CSTOBC       1.057380e+00 6.395380e-03\n",
       "CSTSC        1.092455e+00 1.626194e-03\n",
       "CSTST        1.512531e+00 2.257949e-03\n",
       "TNP          8.576651e+00 8.283566e-03\n",
       "TWP          7.744732e+00 9.713205e-03\n",
       "IAP          8.405076e+00 1.170233e-02\n",
       "ARRY        -2.695302e+00 1.585433e-02\n",
       "MSUnmarried  1.617570e+02 1.883954e-02\n",
       "LSV          1.734313e-01 1.960400e-02\n",
       "ASPaid       4.916285e-01 1.418752e-03\n",
       "FMI         -1.899105e-05 3.009895e-05\n",
       "FS           9.120762e-02 6.494524e-02\n",
       "FQ12         1.958665e+00 3.718318e-03\n",
       "FQDegree     2.396967e+00 5.113485e-04\n",
       "FQIl         6.560962e-01 2.904885e-03\n",
       "FQPg        -8.154531e-01 5.987380e-05\n",
       "FQUm         1.356272e-01 1.112195e-02\n",
       "MQ12        -1.379345e+00 1.935796e-03\n",
       "MQDegree     4.144674e+01 0.000000e+00\n",
       "MQIl        -4.572316e-01 3.578931e-03\n",
       "MQPg         6.676101e+00 4.286505e-09\n",
       "MQUm        -1.103290e+00 9.436066e-03\n",
       "FOFarmer    -1.076551e+00 1.332482e-02\n",
       "FOOthers     6.235225e-01 2.194339e-03\n",
       "FORetired    2.334901e+01 0.000000e+00\n",
       "FOService   -1.192937e+00 2.598297e-03\n",
       "MOOthers    -1.626558e+00 4.700440e-04\n",
       "MOService    1.512975e-01 5.777817e-04\n",
       "NF           7.003935e-02 3.810152e-02\n",
       "SH           1.453451e-01 1.172072e-01\n",
       "SSPrivate   -5.759957e-01 6.567138e-03\n",
       "MEBen        2.740115e+01 0.000000e+00\n",
       "MEEng        2.766323e-01 2.607601e-03\n",
       "MEHin        8.821730e+01 0.000000e+00\n",
       "TT           7.607006e-02 2.136338e-02\n",
       "ATD          1.755277e+00 1.488405e-02\n",
       "\n",
       "Residual Deviance: 135.0685 \n",
       "AIC: 213.0685 "
      ]
     },
     "metadata": {},
     "output_type": "display_data"
    }
   ],
   "source": [
    "fit.glm<-multinom(ESP~.,Train)\n",
    "pred<-predict(fit.glm,X_test,type='class')\n",
    "cm = table(y_test, pred)\n",
    "error_rate<-1-sum(diag(cm))/sum(cm)\n",
    "print(error_rate)\n",
    "summary(fit.glm)"
   ]
  },
  {
   "cell_type": "markdown",
   "metadata": {},
   "source": [
    "## Interprétation\n",
    "\n",
    "<b>Discuter la performance des méthodes testées.</b>\n",
    "<li>Au niveau de l'arbre de décision, l'utilisation de Gini donne un meilleur résultat que de l'enthropie dans ce jeu de données, afin d'identifier le critère d'impurité.\n",
    "<li>A la base, l'arbre de décision nécessite beaucoup de \"Pruning\" et de fine-tuning afin d'avoir un bon résultat. Pour ce fait, l'utilisation du forêt aléatoire est important comme méthode de bagging.\n",
    "<li>Enfin, une comparaison entre Bagging, Boosting, Forêt Aléatoire et Régression Logistique Multinomiale. Les variables importantes diffèrent selon le modèle utilisé, pour le boosting et forêt aléatoire, les variables sont plus ou moins les mêmes. Au niveau du boosting, c'est un peu plus différent.<br><br>\n",
    "<b>Identifier les facteurs de réussite d'un étudiant. En particulier, discuter l'impact des facteurs socio-économiques tels que le sexe, la classe sociale, le revenu et des facteurs éducatifs (école privée ou publique, langue d'enseignement).</b><br>\n",
    "<br><li><b>Arbre 3: </b>Dans les arbres bruts ci-dessous, on note que le facteur éducatif notamment lié à l'école (Privé ou Publique) affecte la réussite; 80% réusissent.\n",
    "<li><b>Arbre 1: </b>Par rapport au sexe, 55.5% des Females réusissent, alors que 55% des Males échouent, cela est assez équilibré. Au niveau de la langue, , et le type d'école (gratuit/payant), \n",
    "<li><b>Arbre 2: </b>Au niveau du revenu, sur la base d'un revenu qui s'approche de la moyenne (Seuil du revenu sur l'arbre: 9594 - Moyenne du revenu du jeu de test entier: 10683), au delà de ce seuil, 80% réusissent. Quant à un revenu entre 3130 et 3376, seulement 1/9 réusissent, par contre 71.5% réusissent avec un revenu entre 2645 et 3130."
   ]
  },
  {
   "cell_type": "code",
   "execution_count": 477,
   "metadata": {
    "vscode": {
     "languageId": "r"
    }
   },
   "outputs": [
    {
     "data": {
      "image/png": "[encoded data removed]",
      "text/plain": [
       "plot without title"
      ]
     },
     "metadata": {},
     "output_type": "display_data"
    },
    {
     "name": "stdout",
     "output_type": "stream",
     "text": [
      "\n",
      "Classification tree:\n",
      "rpart(formula = y_train1 ~ FMI + GE + ME + AS, data = X_train1)\n",
      "\n",
      "Variables actually used in tree construction:\n",
      "[1] AS  FMI ME \n",
      "\n",
      "Root node error: 108/300 = 0.36\n",
      "\n",
      "n= 300 \n",
      "\n",
      "        CP nsplit rel error  xerror     xstd\n",
      "1 0.055556      0   1.00000 1.00000 0.076980\n",
      "2 0.013889      3   0.83333 0.89815 0.075015\n",
      "3 0.010000      9   0.75000 0.95370 0.076150\n"
     ]
    },
    {
     "data": {
      "image/png": "[encoded data removed]",
      "text/plain": [
       "plot without title"
      ]
     },
     "metadata": {},
     "output_type": "display_data"
    },
    {
     "data": {
      "image/png": "[encoded data removed]",
      "text/plain": [
       "plot without title"
      ]
     },
     "metadata": {},
     "output_type": "display_data"
    }
   ],
   "source": [
    "# Main Data\n",
    "data <- rbind(Train, Test)\n",
    "\n",
    "X_train1 <- data[, -22]\n",
    "y_train1 <- data[, 22]\n",
    "\n",
    "# Tree 1 (All except income)\n",
    "# tree1 <- rpart(y_train1~ GE + ME + AS,data=X_train1, control = rpart.control(cp=0,minsplit=5))\n",
    "tree1 <- rpart(y_train1~ GE + ME + AS,data=X_train1, control = rpart.control(cp=0,minsplit=4))\n",
    "rpart.plot(tree1,extra=1)\n",
    "\n",
    "# Tree 2 (Only income)\n",
    "tree2 <- rpart(y_train1~ FMI,data=X_train1, control = rpart.control(cp=0.0184,minsplit=4))\n",
    "# prune(tree2, cp=0.01)\n",
    "rpart.plot(tree2,extra=1)\n",
    "\n",
    "# Tree 3 (All)\n",
    "tree3 <- rpart(y_train1~ FMI + GE + ME + AS,data=X_train1)\n",
    "printcp(tree3)\n",
    "tree3 <- prune(tree3, cp=0.013889)\n",
    "rpart.plot(tree3,extra=1)\n"
   ]
  },
  {
   "cell_type": "code",
   "execution_count": 400,
   "metadata": {
    "vscode": {
     "languageId": "r"
    }
   },
   "outputs": [
    {
     "data": {
      "text/plain": [
       "   Min. 1st Qu.  Median    Mean 3rd Qu.    Max. \n",
       "   2552    4664    7792   10683   12199   80292 "
      ]
     },
     "metadata": {},
     "output_type": "display_data"
    },
    {
     "data": {
      "text/html": [
       "108"
      ],
      "text/latex": [
       "108"
      ],
      "text/markdown": [
       "108"
      ],
      "text/plain": [
       "[1] 108"
      ]
     },
     "metadata": {},
     "output_type": "display_data"
    }
   ],
   "source": [
    "summary(X_train1$FMI)\n",
    "sum(data$ESP == 'Fail')"
   ]
  },
  {
   "cell_type": "markdown",
   "metadata": {},
   "source": [
    "## Références \n",
    "\n",
    "<a name=\"mcdaniel\"/> McDaniel, T. (2018) _Using Random Forests to Describe Equity in Higher Education: A Critical Quantitative Analysis of Utah’s Postsecondary Pipelines, Butler Journal of Undergraduate Research: Vol. 4 , Article 10_.\n",
    "\n",
    "<a name=\"hussain\"/> Hussain, S., Dahan, N. A., Ba-Alwib, F. M., & Ribata, N . (2018) _Educational data mining and analysis of students’ academic performance using WEKA. Indonesian Journal of Electrical Engineering and Computer Science, 9(2), 447-459._."
   ]
  }
 ],
 "metadata": {
  "kernelspec": {
   "display_name": "R",
   "language": "R",
   "name": "ir"
  },
  "language_info": {
   "codemirror_mode": "r",
   "file_extension": ".r",
   "mimetype": "text/x-r-source",
   "name": "R",
   "pygments_lexer": "r",
   "version": "3.6.1"
  }
 },
 "nbformat": 4,
 "nbformat_minor": 4
}
