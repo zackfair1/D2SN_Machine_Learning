{
 "cells": [
  {
   "cell_type": "markdown",
   "metadata": {
    "run_control": {
     "frozen": false,
     "read_only": false
    },
    "toc": "true"
   },
   "source": [
    "<h1>Table of Contents<span class=\"tocSkip\"></span></h1>\n",
    "<div class=\"toc\"><ul class=\"toc-item\"><li><span><a href=\"#Subset-Selection\" data-toc-modified-id=\"Subset-Selection-1\"><span class=\"toc-item-num\">1&nbsp;&nbsp;</span>Subset Selection</a></span><ul class=\"toc-item\"><li><span><a href=\"#Mise-en-oeuvre\" data-toc-modified-id=\"Mise-en-oeuvre-1.1\"><span class=\"toc-item-num\">1.1&nbsp;&nbsp;</span>Mise en oeuvre</a></span></li><li><span><a href=\"#Sélection-du-modèle-optimal-par-critère-sur-l'erreur-d'apprentissage\" data-toc-modified-id=\"Sélection-du-modèle-optimal-par-critère-sur-l'erreur-d'apprentissage-1.2\"><span class=\"toc-item-num\">1.2&nbsp;&nbsp;</span>Sélection du modèle optimal par critère sur l'erreur d'apprentissage</a></span></li><li><span><a href=\"#Stepwises-models\" data-toc-modified-id=\"Stepwises-models-1.3\"><span class=\"toc-item-num\">1.3&nbsp;&nbsp;</span>Stepwises models</a></span></li><li><span><a href=\"#Sélection-par-validation-et-validation-croisée\" data-toc-modified-id=\"Sélection-par-validation-et-validation-croisée-1.4\"><span class=\"toc-item-num\">1.4&nbsp;&nbsp;</span>Sélection par validation et validation croisée</a></span><ul class=\"toc-item\"><li><span><a href=\"#Validation\" data-toc-modified-id=\"Validation-1.4.1\"><span class=\"toc-item-num\">1.4.1&nbsp;&nbsp;</span>Validation</a></span></li><li><span><a href=\"#Validation-croisée\" data-toc-modified-id=\"Validation-croisée-1.4.2\"><span class=\"toc-item-num\">1.4.2&nbsp;&nbsp;</span>Validation croisée</a></span></li></ul></li></ul></li><li><span><a href=\"#Ridge-regression-et-Lasso\" data-toc-modified-id=\"Ridge-regression-et-Lasso-2\"><span class=\"toc-item-num\">2&nbsp;&nbsp;</span>Ridge regression et Lasso</a></span><ul class=\"toc-item\"><li><span><a href=\"#Position-du-problème---Package-utilisé\" data-toc-modified-id=\"Position-du-problème---Package-utilisé-2.1\"><span class=\"toc-item-num\">2.1&nbsp;&nbsp;</span>Position du problème - Package utilisé</a></span></li><li><span><a href=\"#Étude-du-Ridge\" data-toc-modified-id=\"Étude-du-Ridge-2.2\"><span class=\"toc-item-num\">2.2&nbsp;&nbsp;</span>Étude du Ridge</a></span></li><li><span><a href=\"#Étude-du-Lasso\" data-toc-modified-id=\"Étude-du-Lasso-2.3\"><span class=\"toc-item-num\">2.3&nbsp;&nbsp;</span>Étude du Lasso</a></span></li></ul></li></ul></div>"
   ]
  },
  {
   "cell_type": "markdown",
   "metadata": {
    "run_control": {
     "frozen": false,
     "read_only": false
    }
   },
   "source": [
    "Les exercices proposés dans cette séance de travaux pratiques sont adaptés de notre [livre de référence](http://www-bcf.usc.edu/~gareth/ISL/), chapitre 6, pp. 244-255 ainsi que des exercices plus avancés pp 258-263. "
   ]
  },
  {
   "cell_type": "markdown",
   "metadata": {
    "run_control": {
     "frozen": false,
     "read_only": false
    }
   },
   "source": [
    "Avant de vous lancer, vous installerez les packages utiles en lançant, sous R:\n",
    "```r\n",
    "install.packages(\"ISLR\") # Normalement déjà installé\n",
    "install.packages(\"leaps\")\n",
    "install.packages(\"glmnet\")\n",
    "```"
   ]
  },
  {
   "cell_type": "markdown",
   "metadata": {
    "run_control": {
     "frozen": false,
     "read_only": false
    }
   },
   "source": [
    "Nous considèrerons dans la suite le `Hitters dataset`. Ces données contiennent différentes statistiques sur des joueurs de Baseball, et la question est de prédire le salaire des différents joueurs. Ces données sont contenues dans la librairie ISLR que vous chargerez. Vous consulterez l'aide sur ce Dataset, ainsi que le résumé `summary` des principales statistiques."
   ]
  },
  {
   "cell_type": "code",
   "execution_count": 196,
   "metadata": {
    "collapsed": true,
    "run_control": {
     "frozen": false,
     "read_only": false
    },
    "vscode": {
     "languageId": "r"
    }
   },
   "outputs": [
    {
     "name": "stdout",
     "output_type": "stream",
     "text": [
      "Hitters                  package:ISLR                  R Documentation\n",
      "\n",
      "_\bB_\ba_\bs_\be_\bb_\ba_\bl_\bl _\bD_\ba_\bt_\ba\n",
      "\n",
      "_\bD_\be_\bs_\bc_\br_\bi_\bp_\bt_\bi_\bo_\bn:\n",
      "\n",
      "     Major League Baseball Data from the 1986 and 1987 seasons.\n",
      "\n",
      "_\bU_\bs_\ba_\bg_\be:\n",
      "\n",
      "     Hitters\n",
      "     \n",
      "_\bF_\bo_\br_\bm_\ba_\bt:\n",
      "\n",
      "     A data frame with 322 observations of major league players on the\n",
      "     following 20 variables.\n",
      "\n",
      "     'AtBat' Number of times at bat in 1986\n",
      "\n",
      "     'Hits' Number of hits in 1986\n",
      "\n",
      "     'HmRun' Number of home runs in 1986\n",
      "\n",
      "     'Runs' Number of runs in 1986\n",
      "\n",
      "     'RBI' Number of runs batted in in 1986\n",
      "\n",
      "     'Walks' Number of walks in 1986\n",
      "\n",
      "     'Years' Number of years in the major leagues\n",
      "\n",
      "     'CAtBat' Number of times at bat during his career\n",
      "\n",
      "     'CHits' Number of hits during his career\n",
      "\n",
      "     'CHmRun' Number of home runs during his career\n",
      "\n",
      "     'CRuns' Number of runs during his career\n",
      "\n",
      "     'CRBI' Number of runs batted in during his career\n",
      "\n",
      "     'CWalks' Number of walks during his career\n",
      "\n",
      "     'League' A factor with levels 'A' and 'N' indicating player's\n",
      "          league at the end of 1986\n",
      "\n",
      "     'Division' A factor with levels 'E' and 'W' indicating player's\n",
      "          division at the end of 1986\n",
      "\n",
      "     'PutOuts' Number of put outs in 1986\n",
      "\n",
      "     'Assists' Number of assists in 1986\n",
      "\n",
      "     'Errors' Number of errors in 1986\n",
      "\n",
      "     'Salary' 1987 annual salary on opening day in thousands of dollars\n",
      "\n",
      "     'NewLeague' A factor with levels 'A' and 'N' indicating player's\n",
      "          league at the beginning of 1987\n",
      "\n",
      "_\bS_\bo_\bu_\br_\bc_\be:\n",
      "\n",
      "     This dataset was taken from the StatLib library which is\n",
      "     maintained at Carnegie Mellon University. This is part of the data\n",
      "     that was used in the 1988 ASA Graphics Section Poster Session. The\n",
      "     salary data were originally from Sports Illustrated, April 20,\n",
      "     1987. The 1986 and career statistics were obtained from The 1987\n",
      "     Baseball Encyclopedia Update published by Collier Books, Macmillan\n",
      "     Publishing Company, New York.\n",
      "\n",
      "_\bR_\be_\bf_\be_\br_\be_\bn_\bc_\be_\bs:\n",
      "\n",
      "     James, G., Witten, D., Hastie, T., and Tibshirani, R. (2013) _An\n",
      "     Introduction to Statistical Learning with applications in R_,\n",
      "     <URL: https://www.statlearning.com>, Springer-Verlag, New York\n",
      "\n",
      "_\bE_\bx_\ba_\bm_\bp_\bl_\be_\bs:\n",
      "\n",
      "     summary(Hitters)\n",
      "     lm(Salary~AtBat+Hits,data=Hitters)\n",
      "     "
     ]
    }
   ],
   "source": [
    "# install.packages(\"ISLR\") # Normalement déjà installé\n",
    "# install.packages(\"leaps\")\n",
    "# install.packages(\"glmnet\")\n",
    "library(\"ISLR\")\n",
    "help(Hitters)"
   ]
  },
  {
   "cell_type": "code",
   "execution_count": 197,
   "metadata": {
    "vscode": {
     "languageId": "r"
    }
   },
   "outputs": [
    {
     "data": {
      "text/html": [
       "<table class=\"dataframe\">\n",
       "<caption>A data.frame: 3 × 20</caption>\n",
       "<thead>\n",
       "\t<tr><th></th><th scope=col>AtBat</th><th scope=col>Hits</th><th scope=col>HmRun</th><th scope=col>Runs</th><th scope=col>RBI</th><th scope=col>Walks</th><th scope=col>Years</th><th scope=col>CAtBat</th><th scope=col>CHits</th><th scope=col>CHmRun</th><th scope=col>CRuns</th><th scope=col>CRBI</th><th scope=col>CWalks</th><th scope=col>League</th><th scope=col>Division</th><th scope=col>PutOuts</th><th scope=col>Assists</th><th scope=col>Errors</th><th scope=col>Salary</th><th scope=col>NewLeague</th></tr>\n",
       "\t<tr><th></th><th scope=col>&lt;int&gt;</th><th scope=col>&lt;int&gt;</th><th scope=col>&lt;int&gt;</th><th scope=col>&lt;int&gt;</th><th scope=col>&lt;int&gt;</th><th scope=col>&lt;int&gt;</th><th scope=col>&lt;int&gt;</th><th scope=col>&lt;int&gt;</th><th scope=col>&lt;int&gt;</th><th scope=col>&lt;int&gt;</th><th scope=col>&lt;int&gt;</th><th scope=col>&lt;int&gt;</th><th scope=col>&lt;int&gt;</th><th scope=col>&lt;fct&gt;</th><th scope=col>&lt;fct&gt;</th><th scope=col>&lt;int&gt;</th><th scope=col>&lt;int&gt;</th><th scope=col>&lt;int&gt;</th><th scope=col>&lt;dbl&gt;</th><th scope=col>&lt;fct&gt;</th></tr>\n",
       "</thead>\n",
       "<tbody>\n",
       "\t<tr><th scope=row>-Andy Allanson</th><td>293</td><td> 66</td><td> 1</td><td>30</td><td>29</td><td>14</td><td> 1</td><td> 293</td><td> 66</td><td> 1</td><td> 30</td><td> 29</td><td> 14</td><td>A</td><td>E</td><td>446</td><td>33</td><td>20</td><td> NA</td><td>A</td></tr>\n",
       "\t<tr><th scope=row>-Alan Ashby</th><td>315</td><td> 81</td><td> 7</td><td>24</td><td>38</td><td>39</td><td>14</td><td>3449</td><td>835</td><td>69</td><td>321</td><td>414</td><td>375</td><td>N</td><td>W</td><td>632</td><td>43</td><td>10</td><td>475</td><td>N</td></tr>\n",
       "\t<tr><th scope=row>-Alvin Davis</th><td>479</td><td>130</td><td>18</td><td>66</td><td>72</td><td>76</td><td> 3</td><td>1624</td><td>457</td><td>63</td><td>224</td><td>266</td><td>263</td><td>A</td><td>W</td><td>880</td><td>82</td><td>14</td><td>480</td><td>A</td></tr>\n",
       "</tbody>\n",
       "</table>\n"
      ],
      "text/latex": [
       "A data.frame: 3 × 20\n",
       "\\begin{tabular}{r|llllllllllllllllllll}\n",
       "  & AtBat & Hits & HmRun & Runs & RBI & Walks & Years & CAtBat & CHits & CHmRun & CRuns & CRBI & CWalks & League & Division & PutOuts & Assists & Errors & Salary & NewLeague\\\\\n",
       "  & <int> & <int> & <int> & <int> & <int> & <int> & <int> & <int> & <int> & <int> & <int> & <int> & <int> & <fct> & <fct> & <int> & <int> & <int> & <dbl> & <fct>\\\\\n",
       "\\hline\n",
       "\t-Andy Allanson & 293 &  66 &  1 & 30 & 29 & 14 &  1 &  293 &  66 &  1 &  30 &  29 &  14 & A & E & 446 & 33 & 20 &  NA & A\\\\\n",
       "\t-Alan Ashby & 315 &  81 &  7 & 24 & 38 & 39 & 14 & 3449 & 835 & 69 & 321 & 414 & 375 & N & W & 632 & 43 & 10 & 475 & N\\\\\n",
       "\t-Alvin Davis & 479 & 130 & 18 & 66 & 72 & 76 &  3 & 1624 & 457 & 63 & 224 & 266 & 263 & A & W & 880 & 82 & 14 & 480 & A\\\\\n",
       "\\end{tabular}\n"
      ],
      "text/markdown": [
       "\n",
       "A data.frame: 3 × 20\n",
       "\n",
       "| <!--/--> | AtBat &lt;int&gt; | Hits &lt;int&gt; | HmRun &lt;int&gt; | Runs &lt;int&gt; | RBI &lt;int&gt; | Walks &lt;int&gt; | Years &lt;int&gt; | CAtBat &lt;int&gt; | CHits &lt;int&gt; | CHmRun &lt;int&gt; | CRuns &lt;int&gt; | CRBI &lt;int&gt; | CWalks &lt;int&gt; | League &lt;fct&gt; | Division &lt;fct&gt; | PutOuts &lt;int&gt; | Assists &lt;int&gt; | Errors &lt;int&gt; | Salary &lt;dbl&gt; | NewLeague &lt;fct&gt; |\n",
       "|---|---|---|---|---|---|---|---|---|---|---|---|---|---|---|---|---|---|---|---|---|\n",
       "| -Andy Allanson | 293 |  66 |  1 | 30 | 29 | 14 |  1 |  293 |  66 |  1 |  30 |  29 |  14 | A | E | 446 | 33 | 20 |  NA | A |\n",
       "| -Alan Ashby | 315 |  81 |  7 | 24 | 38 | 39 | 14 | 3449 | 835 | 69 | 321 | 414 | 375 | N | W | 632 | 43 | 10 | 475 | N |\n",
       "| -Alvin Davis | 479 | 130 | 18 | 66 | 72 | 76 |  3 | 1624 | 457 | 63 | 224 | 266 | 263 | A | W | 880 | 82 | 14 | 480 | A |\n",
       "\n"
      ],
      "text/plain": [
       "               AtBat Hits HmRun Runs RBI Walks Years CAtBat CHits CHmRun CRuns\n",
       "-Andy Allanson 293    66   1    30   29  14     1     293    66    1      30  \n",
       "-Alan Ashby    315    81   7    24   38  39    14    3449   835   69     321  \n",
       "-Alvin Davis   479   130  18    66   72  76     3    1624   457   63     224  \n",
       "               CRBI CWalks League Division PutOuts Assists Errors Salary\n",
       "-Andy Allanson  29   14    A      E        446     33      20      NA   \n",
       "-Alan Ashby    414  375    N      W        632     43      10     475   \n",
       "-Alvin Davis   266  263    A      W        880     82      14     480   \n",
       "               NewLeague\n",
       "-Andy Allanson A        \n",
       "-Alan Ashby    N        \n",
       "-Alvin Davis   A        "
      ]
     },
     "metadata": {},
     "output_type": "display_data"
    }
   ],
   "source": [
    "head(Hitters, 3)"
   ]
  },
  {
   "cell_type": "code",
   "execution_count": 198,
   "metadata": {
    "collapsed": true,
    "run_control": {
     "frozen": false,
     "read_only": false
    },
    "vscode": {
     "languageId": "r"
    }
   },
   "outputs": [
    {
     "data": {
      "text/plain": [
       "     AtBat            Hits         HmRun            Runs       \n",
       " Min.   : 16.0   Min.   :  1   Min.   : 0.00   Min.   :  0.00  \n",
       " 1st Qu.:255.2   1st Qu.: 64   1st Qu.: 4.00   1st Qu.: 30.25  \n",
       " Median :379.5   Median : 96   Median : 8.00   Median : 48.00  \n",
       " Mean   :380.9   Mean   :101   Mean   :10.77   Mean   : 50.91  \n",
       " 3rd Qu.:512.0   3rd Qu.:137   3rd Qu.:16.00   3rd Qu.: 69.00  \n",
       " Max.   :687.0   Max.   :238   Max.   :40.00   Max.   :130.00  \n",
       "                                                               \n",
       "      RBI             Walks            Years            CAtBat       \n",
       " Min.   :  0.00   Min.   :  0.00   Min.   : 1.000   Min.   :   19.0  \n",
       " 1st Qu.: 28.00   1st Qu.: 22.00   1st Qu.: 4.000   1st Qu.:  816.8  \n",
       " Median : 44.00   Median : 35.00   Median : 6.000   Median : 1928.0  \n",
       " Mean   : 48.03   Mean   : 38.74   Mean   : 7.444   Mean   : 2648.7  \n",
       " 3rd Qu.: 64.75   3rd Qu.: 53.00   3rd Qu.:11.000   3rd Qu.: 3924.2  \n",
       " Max.   :121.00   Max.   :105.00   Max.   :24.000   Max.   :14053.0  \n",
       "                                                                     \n",
       "     CHits            CHmRun           CRuns             CRBI        \n",
       " Min.   :   4.0   Min.   :  0.00   Min.   :   1.0   Min.   :   0.00  \n",
       " 1st Qu.: 209.0   1st Qu.: 14.00   1st Qu.: 100.2   1st Qu.:  88.75  \n",
       " Median : 508.0   Median : 37.50   Median : 247.0   Median : 220.50  \n",
       " Mean   : 717.6   Mean   : 69.49   Mean   : 358.8   Mean   : 330.12  \n",
       " 3rd Qu.:1059.2   3rd Qu.: 90.00   3rd Qu.: 526.2   3rd Qu.: 426.25  \n",
       " Max.   :4256.0   Max.   :548.00   Max.   :2165.0   Max.   :1659.00  \n",
       "                                                                     \n",
       "     CWalks        League  Division    PutOuts          Assists     \n",
       " Min.   :   0.00   A:175   E:157    Min.   :   0.0   Min.   :  0.0  \n",
       " 1st Qu.:  67.25   N:147   W:165    1st Qu.: 109.2   1st Qu.:  7.0  \n",
       " Median : 170.50                    Median : 212.0   Median : 39.5  \n",
       " Mean   : 260.24                    Mean   : 288.9   Mean   :106.9  \n",
       " 3rd Qu.: 339.25                    3rd Qu.: 325.0   3rd Qu.:166.0  \n",
       " Max.   :1566.00                    Max.   :1378.0   Max.   :492.0  \n",
       "                                                                    \n",
       "     Errors          Salary       NewLeague\n",
       " Min.   : 0.00   Min.   :  67.5   A:176    \n",
       " 1st Qu.: 3.00   1st Qu.: 190.0   N:146    \n",
       " Median : 6.00   Median : 425.0            \n",
       " Mean   : 8.04   Mean   : 535.9            \n",
       " 3rd Qu.:11.00   3rd Qu.: 750.0            \n",
       " Max.   :32.00   Max.   :2460.0            \n",
       "                 NA's   :59                "
      ]
     },
     "metadata": {},
     "output_type": "display_data"
    }
   ],
   "source": [
    "summary(Hitters)"
   ]
  },
  {
   "cell_type": "markdown",
   "metadata": {
    "run_control": {
     "frozen": false,
     "read_only": false
    }
   },
   "source": [
    "Vous noterez que certaines des observations du salaire sont manquantes.  La fonction `is.na()` peut être utilisée pour identifier ces observations (combien en trouvez vous ?). La fonction `na.omit()` peut ensuite être utilisée pour supprimer toutes les lignes présentant des données manquantes. Vous noterez `Hitters` le tableau résultant. "
   ]
  },
  {
   "cell_type": "code",
   "execution_count": 199,
   "metadata": {
    "collapsed": true,
    "run_control": {
     "frozen": false,
     "read_only": false
    },
    "vscode": {
     "languageId": "r"
    }
   },
   "outputs": [
    {
     "data": {
      "text/plain": [
       "     AtBat            Hits           HmRun            Runs       \n",
       " Min.   : 19.0   Min.   :  1.0   Min.   : 0.00   Min.   :  0.00  \n",
       " 1st Qu.:282.5   1st Qu.: 71.5   1st Qu.: 5.00   1st Qu.: 33.50  \n",
       " Median :413.0   Median :103.0   Median : 9.00   Median : 52.00  \n",
       " Mean   :403.6   Mean   :107.8   Mean   :11.62   Mean   : 54.75  \n",
       " 3rd Qu.:526.0   3rd Qu.:141.5   3rd Qu.:18.00   3rd Qu.: 73.00  \n",
       " Max.   :687.0   Max.   :238.0   Max.   :40.00   Max.   :130.00  \n",
       "      RBI             Walks            Years            CAtBat       \n",
       " Min.   :  0.00   Min.   :  0.00   Min.   : 1.000   Min.   :   19.0  \n",
       " 1st Qu.: 30.00   1st Qu.: 23.00   1st Qu.: 4.000   1st Qu.:  842.5  \n",
       " Median : 47.00   Median : 37.00   Median : 6.000   Median : 1931.0  \n",
       " Mean   : 51.49   Mean   : 41.11   Mean   : 7.312   Mean   : 2657.5  \n",
       " 3rd Qu.: 71.00   3rd Qu.: 57.00   3rd Qu.:10.000   3rd Qu.: 3890.5  \n",
       " Max.   :121.00   Max.   :105.00   Max.   :24.000   Max.   :14053.0  \n",
       "     CHits            CHmRun           CRuns             CRBI       \n",
       " Min.   :   4.0   Min.   :  0.00   Min.   :   2.0   Min.   :   3.0  \n",
       " 1st Qu.: 212.0   1st Qu.: 15.00   1st Qu.: 105.5   1st Qu.:  95.0  \n",
       " Median : 516.0   Median : 40.00   Median : 250.0   Median : 230.0  \n",
       " Mean   : 722.2   Mean   : 69.24   Mean   : 361.2   Mean   : 330.4  \n",
       " 3rd Qu.:1054.0   3rd Qu.: 92.50   3rd Qu.: 497.5   3rd Qu.: 424.5  \n",
       " Max.   :4256.0   Max.   :548.00   Max.   :2165.0   Max.   :1659.0  \n",
       "     CWalks       League  Division    PutOuts          Assists     \n",
       " Min.   :   1.0   A:139   E:129    Min.   :   0.0   Min.   :  0.0  \n",
       " 1st Qu.:  71.0   N:124   W:134    1st Qu.: 113.5   1st Qu.:  8.0  \n",
       " Median : 174.0                    Median : 224.0   Median : 45.0  \n",
       " Mean   : 260.3                    Mean   : 290.7   Mean   :118.8  \n",
       " 3rd Qu.: 328.5                    3rd Qu.: 322.5   3rd Qu.:192.0  \n",
       " Max.   :1566.0                    Max.   :1377.0   Max.   :492.0  \n",
       "     Errors           Salary       NewLeague\n",
       " Min.   : 0.000   Min.   :  67.5   A:141    \n",
       " 1st Qu.: 3.000   1st Qu.: 190.0   N:122    \n",
       " Median : 7.000   Median : 425.0            \n",
       " Mean   : 8.593   Mean   : 535.9            \n",
       " 3rd Qu.:13.000   3rd Qu.: 750.0            \n",
       " Max.   :32.000   Max.   :2460.0            "
      ]
     },
     "metadata": {},
     "output_type": "display_data"
    }
   ],
   "source": [
    "Hitters = na.omit(Hitters)\n",
    "summary(Hitters)"
   ]
  },
  {
   "cell_type": "markdown",
   "metadata": {
    "run_control": {
     "frozen": false,
     "read_only": false
    }
   },
   "source": [
    "# Subset Selection\n",
    "\n",
    "## Mise en oeuvre \n",
    "\n",
    "La fonction `regsubsets()` appartenant à la librairie `leaps` réalise une sélection BSS en effectuant l'identification du meilleur modèle à chaque ordre, où le \"meilleur\" est quantifié par le RSS le plus faible. La syntaxe est similaire à `lm()`. La fonction `summary()` rend le meilleur modèle pour chaque ordre. \n",
    "\n",
    "- Consultez l'aide de `regsubsets()`\n",
    "- Mettez en oeuvre la fonction pour estimer `Salary` en fonction de toutes les autres variables. Vous noterez `model` l'objet retourné. \n",
    "- Vous noterez `reg.summary` l'objet retourné par la fonction `summary` appliquée  `model`. Quelles sont les variables sélectionnées pour un modèle à 4 variables ? à 8 variables ? le meilleur modèle à 4 variables est-il inclu dans celui à 8 variables ? Vous pouvez également obtenir les coefficients pour chacun des modèles via la fonction `coef()`, cf l'aide de `regsubsets()`"
   ]
  },
  {
   "cell_type": "code",
   "execution_count": 200,
   "metadata": {
    "collapsed": true,
    "run_control": {
     "frozen": false,
     "read_only": false
    },
    "vscode": {
     "languageId": "r"
    }
   },
   "outputs": [],
   "source": [
    "# install.packages(\"leaps\")\n"
   ]
  },
  {
   "cell_type": "code",
   "execution_count": 201,
   "metadata": {
    "run_control": {
     "frozen": false,
     "read_only": false
    },
    "vscode": {
     "languageId": "r"
    }
   },
   "outputs": [
    {
     "name": "stdout",
     "output_type": "stream",
     "text": [
      "regsubsets                package:leaps                R Documentation\n",
      "\n",
      "_\bf_\bu_\bn_\bc_\bt_\bi_\bo_\bn_\bs _\bf_\bo_\br _\bm_\bo_\bd_\be_\bl _\bs_\be_\bl_\be_\bc_\bt_\bi_\bo_\bn\n",
      "\n",
      "_\bD_\be_\bs_\bc_\br_\bi_\bp_\bt_\bi_\bo_\bn:\n",
      "\n",
      "     Model selection by exhaustive search, forward or backward\n",
      "     stepwise, or sequential replacement\n",
      "\n",
      "_\bU_\bs_\ba_\bg_\be:\n",
      "\n",
      "     regsubsets(x=, ...)\n",
      "     \n",
      "     ## S3 method for class 'formula'\n",
      "     regsubsets(x=, data=, weights=NULL, nbest=1, nvmax=8,\n",
      "      force.in=NULL, force.out=NULL, intercept=TRUE,\n",
      "      method=c(\"exhaustive\", \"backward\", \"forward\", \"seqrep\"),\n",
      "      really.big=FALSE,\n",
      "      nested=(nbest==1),...)\n",
      "     \n",
      "     ## Default S3 method:\n",
      "     regsubsets(x=, y=, weights=rep(1, length(y)), nbest=1, nvmax=8,\n",
      "     force.in=NULL, force.out=NULL, intercept=TRUE,\n",
      "      method=c(\"exhaustive\",\"backward\", \"forward\", \"seqrep\"),\n",
      "     really.big=FALSE,nested=(nbest==1),...)\n",
      "     \n",
      "     ## S3 method for class 'biglm'\n",
      "     regsubsets(x,nbest=1,nvmax=8,force.in=NULL,\n",
      "     method=c(\"exhaustive\",\"backward\", \"forward\", \"seqrep\"),\n",
      "     really.big=FALSE,nested=(nbest==1),...)\n",
      "     \n",
      "     ## S3 method for class 'regsubsets'\n",
      "     summary(object,all.best=TRUE,matrix=TRUE,matrix.logical=FALSE,df=NULL,...)\n",
      "     \n",
      "     ## S3 method for class 'regsubsets'\n",
      "     coef(object,id,vcov=FALSE,...)\n",
      "     ## S3 method for class 'regsubsets'\n",
      "     vcov(object,id,...)\n",
      "     \n",
      "_\bA_\br_\bg_\bu_\bm_\be_\bn_\bt_\bs:\n",
      "\n",
      "       x: design matrix or model formula for full model, or 'biglm'\n",
      "          object\n",
      "\n",
      "    data: Optional data frame\n",
      "\n",
      "       y: response vector\n",
      "\n",
      " weights: weight vector\n",
      "\n",
      "   nbest: number of subsets of each size to record\n",
      "\n",
      "   nvmax: maximum size of subsets to examine\n",
      "\n",
      "force.in: index to columns of design matrix that should be in all\n",
      "          models\n",
      "\n",
      "force.out: index to columns of design matrix that should be in no\n",
      "          models\n",
      "\n",
      "intercept: Add an intercept?\n",
      "\n",
      "  method: Use exhaustive search, forward selection, backward selection\n",
      "          or sequential replacement to search.\n",
      "\n",
      "really.big: Must be TRUE to perform exhaustive search on more than 50\n",
      "          variables.\n",
      "\n",
      "  nested: See the Note below: if 'nested=FALSE', models with columns 1,\n",
      "          1 and 2, 1-3, and so on, will also be considered\n",
      "\n",
      "  object: regsubsets object\n",
      "\n",
      "all.best: Show all the best subsets or just one of each size\n",
      "\n",
      "  matrix: Show a matrix of the variables in each model or just summary\n",
      "          statistics\n",
      "\n",
      "matrix.logical: With 'matrix=TRUE', the matrix is logical\n",
      "          'TRUE'/'FALSE' or string '\"*\"'/'\" \"'\n",
      "\n",
      "      df: Specify a number of degrees of freedom for the summary\n",
      "          statistics. The default is 'n-1'\n",
      "\n",
      "      id: Which model or models (ordered as in the summary output) to\n",
      "          return coefficients and variance matrix for\n",
      "\n",
      "    vcov: If 'TRUE', return the variance-covariance matrix as an\n",
      "          attribute\n",
      "\n",
      "     ...: Other arguments for future methods\n",
      "\n",
      "_\bD_\be_\bt_\ba_\bi_\bl_\bs:\n",
      "\n",
      "     Since this function returns separate best models of all sizes up\n",
      "     to 'nvmax' and since different model selection criteria such as\n",
      "     AIC, BIC, CIC, DIC, ... differ only in how models of different\n",
      "     sizes are compared, the results do not depend on the choice of\n",
      "     cost-complexity tradeoff.\n",
      "\n",
      "     When 'x' is a 'biglm' object it is assumed to be the full model,\n",
      "     so 'force.out' is not relevant. If there is an intercept it is\n",
      "     forced in by default; specify a 'force.in' as a logical vector\n",
      "     with 'FALSE' as the first element to allow the intercept to be\n",
      "     dropped.\n",
      "\n",
      "     The model search does not actually fit each model, so the returned\n",
      "     object does not contain coefficients or standard errors.\n",
      "     Coefficients and the variance-covariance matrix for one or model\n",
      "     models can be obtained with the 'coef' and 'vcov' methods.\n",
      "\n",
      "_\bV_\ba_\bl_\bu_\be:\n",
      "\n",
      "     'regsubsets' returns an object of class \"regsubsets\" containing no\n",
      "     user-serviceable parts. It is designed to be processed by\n",
      "     'summary.regsubsets'.\n",
      "\n",
      "     'summary.regsubsets' returns an object with elements\n",
      "\n",
      "   which: A logical matrix indicating which elements are in each model\n",
      "\n",
      "     rsq: The r-squared for each model\n",
      "\n",
      "     rss: Residual sum of squares for each model\n",
      "\n",
      "   adjr2: Adjusted r-squared\n",
      "\n",
      "      cp: Mallows' Cp\n",
      "\n",
      "     bic: Schwartz's information criterion, BIC\n",
      "\n",
      "  outmat: A version of the 'which' component that is formatted for\n",
      "          printing\n",
      "\n",
      "     obj: A copy of the 'regsubsets' object\n",
      "     The 'coef' method returns a coefficient vector or list of vectors,\n",
      "     the 'vcov' method returns a matrix or list of matrices.\n",
      "\n",
      "_\bN_\bo_\bt_\be:\n",
      "\n",
      "     As part of the setup process, the code initially fits models with\n",
      "     the first variable in 'x', the first two, the first three, and so\n",
      "     on. For forward and backward selection it is possible that the\n",
      "     model with the 'k' first variables will be better than the model\n",
      "     with 'k' variables from the selection algorithm. If it is, the\n",
      "     model with the first 'k' variables will be returned, with a\n",
      "     warning. This can happen for forward and backward selection. It\n",
      "     (obviously) can't for exhaustive search.\n",
      "\n",
      "     With 'nbest=1' you can avoid these extra models with\n",
      "     'nested=TRUE', which is the default.\n",
      "\n",
      "_\bS_\be_\be _\bA_\bl_\bs_\bo:\n",
      "\n",
      "     'leaps'\n",
      "\n",
      "_\bE_\bx_\ba_\bm_\bp_\bl_\be_\bs:\n",
      "\n",
      "     data(swiss)\n",
      "     a<-regsubsets(as.matrix(swiss[,-1]),swiss[,1])\n",
      "     summary(a)\n",
      "     b<-regsubsets(Fertility~.,data=swiss,nbest=2)\n",
      "     summary(b)\n",
      "     \n",
      "     coef(a, 1:3)\n",
      "     vcov(a, 3)\n",
      "     "
     ]
    }
   ],
   "source": [
    "library(\"leaps\")\n",
    "help(regsubsets)"
   ]
  },
  {
   "cell_type": "code",
   "execution_count": 202,
   "metadata": {
    "collapsed": true,
    "run_control": {
     "frozen": false,
     "read_only": false
    },
    "vscode": {
     "languageId": "r"
    }
   },
   "outputs": [
    {
     "data": {
      "text/html": [
       "<style>\n",
       ".list-inline {list-style: none; margin:0; padding: 0}\n",
       ".list-inline>li {display: inline-block}\n",
       ".list-inline>li:not(:last-child)::after {content: \"\\00b7\"; padding: 0 .5ex}\n",
       "</style>\n",
       "<ol class=list-inline><li>'which'</li><li>'rsq'</li><li>'rss'</li><li>'adjr2'</li><li>'cp'</li><li>'bic'</li><li>'outmat'</li><li>'obj'</li></ol>\n"
      ],
      "text/latex": [
       "\\begin{enumerate*}\n",
       "\\item 'which'\n",
       "\\item 'rsq'\n",
       "\\item 'rss'\n",
       "\\item 'adjr2'\n",
       "\\item 'cp'\n",
       "\\item 'bic'\n",
       "\\item 'outmat'\n",
       "\\item 'obj'\n",
       "\\end{enumerate*}\n"
      ],
      "text/markdown": [
       "1. 'which'\n",
       "2. 'rsq'\n",
       "3. 'rss'\n",
       "4. 'adjr2'\n",
       "5. 'cp'\n",
       "6. 'bic'\n",
       "7. 'outmat'\n",
       "8. 'obj'\n",
       "\n",
       "\n"
      ],
      "text/plain": [
       "[1] \"which\"  \"rsq\"    \"rss\"    \"adjr2\"  \"cp\"     \"bic\"    \"outmat\" \"obj\"   "
      ]
     },
     "metadata": {},
     "output_type": "display_data"
    },
    {
     "data": {
      "text/plain": [
       "Subset selection object\n",
       "Call: regsubsets.formula(Salary ~ ., data = Hitters, method = \"exhaustive\", \n",
       "    nvmax = 19)\n",
       "19 Variables  (and intercept)\n",
       "           Forced in Forced out\n",
       "AtBat          FALSE      FALSE\n",
       "Hits           FALSE      FALSE\n",
       "HmRun          FALSE      FALSE\n",
       "Runs           FALSE      FALSE\n",
       "RBI            FALSE      FALSE\n",
       "Walks          FALSE      FALSE\n",
       "Years          FALSE      FALSE\n",
       "CAtBat         FALSE      FALSE\n",
       "CHits          FALSE      FALSE\n",
       "CHmRun         FALSE      FALSE\n",
       "CRuns          FALSE      FALSE\n",
       "CRBI           FALSE      FALSE\n",
       "CWalks         FALSE      FALSE\n",
       "LeagueN        FALSE      FALSE\n",
       "DivisionW      FALSE      FALSE\n",
       "PutOuts        FALSE      FALSE\n",
       "Assists        FALSE      FALSE\n",
       "Errors         FALSE      FALSE\n",
       "NewLeagueN     FALSE      FALSE\n",
       "1 subsets of each size up to 19\n",
       "Selection Algorithm: exhaustive\n",
       "          AtBat Hits HmRun Runs RBI Walks Years CAtBat CHits CHmRun CRuns CRBI\n",
       "1  ( 1 )  \" \"   \" \"  \" \"   \" \"  \" \" \" \"   \" \"   \" \"    \" \"   \" \"    \" \"   \"*\" \n",
       "2  ( 1 )  \" \"   \"*\"  \" \"   \" \"  \" \" \" \"   \" \"   \" \"    \" \"   \" \"    \" \"   \"*\" \n",
       "3  ( 1 )  \" \"   \"*\"  \" \"   \" \"  \" \" \" \"   \" \"   \" \"    \" \"   \" \"    \" \"   \"*\" \n",
       "4  ( 1 )  \" \"   \"*\"  \" \"   \" \"  \" \" \" \"   \" \"   \" \"    \" \"   \" \"    \" \"   \"*\" \n",
       "5  ( 1 )  \"*\"   \"*\"  \" \"   \" \"  \" \" \" \"   \" \"   \" \"    \" \"   \" \"    \" \"   \"*\" \n",
       "6  ( 1 )  \"*\"   \"*\"  \" \"   \" \"  \" \" \"*\"   \" \"   \" \"    \" \"   \" \"    \" \"   \"*\" \n",
       "7  ( 1 )  \" \"   \"*\"  \" \"   \" \"  \" \" \"*\"   \" \"   \"*\"    \"*\"   \"*\"    \" \"   \" \" \n",
       "8  ( 1 )  \"*\"   \"*\"  \" \"   \" \"  \" \" \"*\"   \" \"   \" \"    \" \"   \"*\"    \"*\"   \" \" \n",
       "9  ( 1 )  \"*\"   \"*\"  \" \"   \" \"  \" \" \"*\"   \" \"   \"*\"    \" \"   \" \"    \"*\"   \"*\" \n",
       "10  ( 1 ) \"*\"   \"*\"  \" \"   \" \"  \" \" \"*\"   \" \"   \"*\"    \" \"   \" \"    \"*\"   \"*\" \n",
       "11  ( 1 ) \"*\"   \"*\"  \" \"   \" \"  \" \" \"*\"   \" \"   \"*\"    \" \"   \" \"    \"*\"   \"*\" \n",
       "12  ( 1 ) \"*\"   \"*\"  \" \"   \"*\"  \" \" \"*\"   \" \"   \"*\"    \" \"   \" \"    \"*\"   \"*\" \n",
       "13  ( 1 ) \"*\"   \"*\"  \" \"   \"*\"  \" \" \"*\"   \" \"   \"*\"    \" \"   \" \"    \"*\"   \"*\" \n",
       "14  ( 1 ) \"*\"   \"*\"  \"*\"   \"*\"  \" \" \"*\"   \" \"   \"*\"    \" \"   \" \"    \"*\"   \"*\" \n",
       "15  ( 1 ) \"*\"   \"*\"  \"*\"   \"*\"  \" \" \"*\"   \" \"   \"*\"    \"*\"   \" \"    \"*\"   \"*\" \n",
       "16  ( 1 ) \"*\"   \"*\"  \"*\"   \"*\"  \"*\" \"*\"   \" \"   \"*\"    \"*\"   \" \"    \"*\"   \"*\" \n",
       "17  ( 1 ) \"*\"   \"*\"  \"*\"   \"*\"  \"*\" \"*\"   \" \"   \"*\"    \"*\"   \" \"    \"*\"   \"*\" \n",
       "18  ( 1 ) \"*\"   \"*\"  \"*\"   \"*\"  \"*\" \"*\"   \"*\"   \"*\"    \"*\"   \" \"    \"*\"   \"*\" \n",
       "19  ( 1 ) \"*\"   \"*\"  \"*\"   \"*\"  \"*\" \"*\"   \"*\"   \"*\"    \"*\"   \"*\"    \"*\"   \"*\" \n",
       "          CWalks LeagueN DivisionW PutOuts Assists Errors NewLeagueN\n",
       "1  ( 1 )  \" \"    \" \"     \" \"       \" \"     \" \"     \" \"    \" \"       \n",
       "2  ( 1 )  \" \"    \" \"     \" \"       \" \"     \" \"     \" \"    \" \"       \n",
       "3  ( 1 )  \" \"    \" \"     \" \"       \"*\"     \" \"     \" \"    \" \"       \n",
       "4  ( 1 )  \" \"    \" \"     \"*\"       \"*\"     \" \"     \" \"    \" \"       \n",
       "5  ( 1 )  \" \"    \" \"     \"*\"       \"*\"     \" \"     \" \"    \" \"       \n",
       "6  ( 1 )  \" \"    \" \"     \"*\"       \"*\"     \" \"     \" \"    \" \"       \n",
       "7  ( 1 )  \" \"    \" \"     \"*\"       \"*\"     \" \"     \" \"    \" \"       \n",
       "8  ( 1 )  \"*\"    \" \"     \"*\"       \"*\"     \" \"     \" \"    \" \"       \n",
       "9  ( 1 )  \"*\"    \" \"     \"*\"       \"*\"     \" \"     \" \"    \" \"       \n",
       "10  ( 1 ) \"*\"    \" \"     \"*\"       \"*\"     \"*\"     \" \"    \" \"       \n",
       "11  ( 1 ) \"*\"    \"*\"     \"*\"       \"*\"     \"*\"     \" \"    \" \"       \n",
       "12  ( 1 ) \"*\"    \"*\"     \"*\"       \"*\"     \"*\"     \" \"    \" \"       \n",
       "13  ( 1 ) \"*\"    \"*\"     \"*\"       \"*\"     \"*\"     \"*\"    \" \"       \n",
       "14  ( 1 ) \"*\"    \"*\"     \"*\"       \"*\"     \"*\"     \"*\"    \" \"       \n",
       "15  ( 1 ) \"*\"    \"*\"     \"*\"       \"*\"     \"*\"     \"*\"    \" \"       \n",
       "16  ( 1 ) \"*\"    \"*\"     \"*\"       \"*\"     \"*\"     \"*\"    \" \"       \n",
       "17  ( 1 ) \"*\"    \"*\"     \"*\"       \"*\"     \"*\"     \"*\"    \"*\"       \n",
       "18  ( 1 ) \"*\"    \"*\"     \"*\"       \"*\"     \"*\"     \"*\"    \"*\"       \n",
       "19  ( 1 ) \"*\"    \"*\"     \"*\"       \"*\"     \"*\"     \"*\"    \"*\"       "
      ]
     },
     "metadata": {},
     "output_type": "display_data"
    }
   ],
   "source": [
    "model = regsubsets(Salary ~ ., data = Hitters, method = \"exhaustive\", nvmax = 19)\n",
    "reg.summary = summary(model)\n",
    "names(reg.summary)\n",
    "reg.summary"
   ]
  },
  {
   "cell_type": "code",
   "execution_count": 203,
   "metadata": {
    "vscode": {
     "languageId": "r"
    }
   },
   "outputs": [
    {
     "data": {
      "text/html": [
       "<ol>\n",
       "\t<li><style>\n",
       ".dl-inline {width: auto; margin:0; padding: 0}\n",
       ".dl-inline>dt, .dl-inline>dd {float: none; width: auto; display: inline-block}\n",
       ".dl-inline>dt::after {content: \":\\0020\"; padding-right: .5ex}\n",
       ".dl-inline>dt:not(:first-of-type) {padding-left: .5ex}\n",
       "</style><dl class=dl-inline><dt>(Intercept)</dt><dd>274.580386407522</dd><dt>CRBI</dt><dd>0.790953571632009</dd></dl>\n",
       "</li>\n",
       "\t<li><style>\n",
       ".dl-inline {width: auto; margin:0; padding: 0}\n",
       ".dl-inline>dt, .dl-inline>dd {float: none; width: auto; display: inline-block}\n",
       ".dl-inline>dt::after {content: \":\\0020\"; padding-right: .5ex}\n",
       ".dl-inline>dt:not(:first-of-type) {padding-left: .5ex}\n",
       "</style><dl class=dl-inline><dt>(Intercept)</dt><dd>-47.9559022422735</dd><dt>Hits</dt><dd>3.30084456893721</dd><dt>CRBI</dt><dd>0.689899403443354</dd></dl>\n",
       "</li>\n",
       "\t<li><style>\n",
       ".dl-inline {width: auto; margin:0; padding: 0}\n",
       ".dl-inline>dt, .dl-inline>dd {float: none; width: auto; display: inline-block}\n",
       ".dl-inline>dt::after {content: \":\\0020\"; padding-right: .5ex}\n",
       ".dl-inline>dt:not(:first-of-type) {padding-left: .5ex}\n",
       "</style><dl class=dl-inline><dt>(Intercept)</dt><dd>-71.4592203852438</dd><dt>Hits</dt><dd>2.80381618070941</dd><dt>CRBI</dt><dd>0.682527538316071</dd><dt>PutOuts</dt><dd>0.273581435485491</dd></dl>\n",
       "</li>\n",
       "\t<li><style>\n",
       ".dl-inline {width: auto; margin:0; padding: 0}\n",
       ".dl-inline>dt, .dl-inline>dd {float: none; width: auto; display: inline-block}\n",
       ".dl-inline>dt::after {content: \":\\0020\"; padding-right: .5ex}\n",
       ".dl-inline>dt:not(:first-of-type) {padding-left: .5ex}\n",
       "</style><dl class=dl-inline><dt>(Intercept)</dt><dd>13.9231044287756</dd><dt>Hits</dt><dd>2.67579779263997</dd><dt>CRBI</dt><dd>0.681779001512444</dd><dt>DivisionW</dt><dd>-139.953885495377</dd><dt>PutOuts</dt><dd>0.27350022049916</dd></dl>\n",
       "</li>\n",
       "\t<li><style>\n",
       ".dl-inline {width: auto; margin:0; padding: 0}\n",
       ".dl-inline>dt, .dl-inline>dd {float: none; width: auto; display: inline-block}\n",
       ".dl-inline>dt::after {content: \":\\0020\"; padding-right: .5ex}\n",
       ".dl-inline>dt:not(:first-of-type) {padding-left: .5ex}\n",
       "</style><dl class=dl-inline><dt>(Intercept)</dt><dd>97.7684115940899</dd><dt>AtBat</dt><dd>-1.44014278260714</dd><dt>Hits</dt><dd>7.17531968547615</dd><dt>CRBI</dt><dd>0.688207894642748</dd><dt>DivisionW</dt><dd>-129.731938632763</dd><dt>PutOuts</dt><dd>0.290516434579962</dd></dl>\n",
       "</li>\n",
       "\t<li><style>\n",
       ".dl-inline {width: auto; margin:0; padding: 0}\n",
       ".dl-inline>dt, .dl-inline>dd {float: none; width: auto; display: inline-block}\n",
       ".dl-inline>dt::after {content: \":\\0020\"; padding-right: .5ex}\n",
       ".dl-inline>dt:not(:first-of-type) {padding-left: .5ex}\n",
       "</style><dl class=dl-inline><dt>(Intercept)</dt><dd>91.5117981171539</dd><dt>AtBat</dt><dd>-1.86858923135561</dd><dt>Hits</dt><dd>7.60439763117204</dd><dt>Walks</dt><dd>3.69764677424139</dd><dt>CRBI</dt><dd>0.643016935097332</dd><dt>DivisionW</dt><dd>-122.95153377292</dd><dt>PutOuts</dt><dd>0.264307605461511</dd></dl>\n",
       "</li>\n",
       "\t<li><style>\n",
       ".dl-inline {width: auto; margin:0; padding: 0}\n",
       ".dl-inline>dt, .dl-inline>dd {float: none; width: auto; display: inline-block}\n",
       ".dl-inline>dt::after {content: \":\\0020\"; padding-right: .5ex}\n",
       ".dl-inline>dt:not(:first-of-type) {padding-left: .5ex}\n",
       "</style><dl class=dl-inline><dt>(Intercept)</dt><dd>79.4509472435319</dd><dt>Hits</dt><dd>1.28335125463328</dd><dt>Walks</dt><dd>3.22742638972714</dd><dt>CAtBat</dt><dd>-0.375235019565453</dd><dt>CHits</dt><dd>1.49570730989869</dd><dt>CHmRun</dt><dd>1.44205381889666</dd><dt>DivisionW</dt><dd>-129.986643165116</dd><dt>PutOuts</dt><dd>0.236681317525621</dd></dl>\n",
       "</li>\n",
       "\t<li><style>\n",
       ".dl-inline {width: auto; margin:0; padding: 0}\n",
       ".dl-inline>dt, .dl-inline>dd {float: none; width: auto; display: inline-block}\n",
       ".dl-inline>dt::after {content: \":\\0020\"; padding-right: .5ex}\n",
       ".dl-inline>dt:not(:first-of-type) {padding-left: .5ex}\n",
       "</style><dl class=dl-inline><dt>(Intercept)</dt><dd>130.969157742029</dd><dt>AtBat</dt><dd>-2.17319026803739</dd><dt>Hits</dt><dd>7.35829347288597</dd><dt>Walks</dt><dd>6.00375969670247</dd><dt>CHmRun</dt><dd>1.23397183131984</dd><dt>CRuns</dt><dd>0.965134866159285</dd><dt>CWalks</dt><dd>-0.832378780774362</dd><dt>DivisionW</dt><dd>-117.965779504667</dd><dt>PutOuts</dt><dd>0.290843092449882</dd></dl>\n",
       "</li>\n",
       "</ol>\n"
      ],
      "text/latex": [
       "\\begin{enumerate}\n",
       "\\item \\begin{description*}\n",
       "\\item[(Intercept)] 274.580386407522\n",
       "\\item[CRBI] 0.790953571632009\n",
       "\\end{description*}\n",
       "\n",
       "\\item \\begin{description*}\n",
       "\\item[(Intercept)] -47.9559022422735\n",
       "\\item[Hits] 3.30084456893721\n",
       "\\item[CRBI] 0.689899403443354\n",
       "\\end{description*}\n",
       "\n",
       "\\item \\begin{description*}\n",
       "\\item[(Intercept)] -71.4592203852438\n",
       "\\item[Hits] 2.80381618070941\n",
       "\\item[CRBI] 0.682527538316071\n",
       "\\item[PutOuts] 0.273581435485491\n",
       "\\end{description*}\n",
       "\n",
       "\\item \\begin{description*}\n",
       "\\item[(Intercept)] 13.9231044287756\n",
       "\\item[Hits] 2.67579779263997\n",
       "\\item[CRBI] 0.681779001512444\n",
       "\\item[DivisionW] -139.953885495377\n",
       "\\item[PutOuts] 0.27350022049916\n",
       "\\end{description*}\n",
       "\n",
       "\\item \\begin{description*}\n",
       "\\item[(Intercept)] 97.7684115940899\n",
       "\\item[AtBat] -1.44014278260714\n",
       "\\item[Hits] 7.17531968547615\n",
       "\\item[CRBI] 0.688207894642748\n",
       "\\item[DivisionW] -129.731938632763\n",
       "\\item[PutOuts] 0.290516434579962\n",
       "\\end{description*}\n",
       "\n",
       "\\item \\begin{description*}\n",
       "\\item[(Intercept)] 91.5117981171539\n",
       "\\item[AtBat] -1.86858923135561\n",
       "\\item[Hits] 7.60439763117204\n",
       "\\item[Walks] 3.69764677424139\n",
       "\\item[CRBI] 0.643016935097332\n",
       "\\item[DivisionW] -122.95153377292\n",
       "\\item[PutOuts] 0.264307605461511\n",
       "\\end{description*}\n",
       "\n",
       "\\item \\begin{description*}\n",
       "\\item[(Intercept)] 79.4509472435319\n",
       "\\item[Hits] 1.28335125463328\n",
       "\\item[Walks] 3.22742638972714\n",
       "\\item[CAtBat] -0.375235019565453\n",
       "\\item[CHits] 1.49570730989869\n",
       "\\item[CHmRun] 1.44205381889666\n",
       "\\item[DivisionW] -129.986643165116\n",
       "\\item[PutOuts] 0.236681317525621\n",
       "\\end{description*}\n",
       "\n",
       "\\item \\begin{description*}\n",
       "\\item[(Intercept)] 130.969157742029\n",
       "\\item[AtBat] -2.17319026803739\n",
       "\\item[Hits] 7.35829347288597\n",
       "\\item[Walks] 6.00375969670247\n",
       "\\item[CHmRun] 1.23397183131984\n",
       "\\item[CRuns] 0.965134866159285\n",
       "\\item[CWalks] -0.832378780774362\n",
       "\\item[DivisionW] -117.965779504667\n",
       "\\item[PutOuts] 0.290843092449882\n",
       "\\end{description*}\n",
       "\n",
       "\\end{enumerate}\n"
      ],
      "text/markdown": [
       "1. (Intercept)\n",
       ":   274.580386407522CRBI\n",
       ":   0.790953571632009\n",
       "\n",
       "\n",
       "2. (Intercept)\n",
       ":   -47.9559022422735Hits\n",
       ":   3.30084456893721CRBI\n",
       ":   0.689899403443354\n",
       "\n",
       "\n",
       "3. (Intercept)\n",
       ":   -71.4592203852438Hits\n",
       ":   2.80381618070941CRBI\n",
       ":   0.682527538316071PutOuts\n",
       ":   0.273581435485491\n",
       "\n",
       "\n",
       "4. (Intercept)\n",
       ":   13.9231044287756Hits\n",
       ":   2.67579779263997CRBI\n",
       ":   0.681779001512444DivisionW\n",
       ":   -139.953885495377PutOuts\n",
       ":   0.27350022049916\n",
       "\n",
       "\n",
       "5. (Intercept)\n",
       ":   97.7684115940899AtBat\n",
       ":   -1.44014278260714Hits\n",
       ":   7.17531968547615CRBI\n",
       ":   0.688207894642748DivisionW\n",
       ":   -129.731938632763PutOuts\n",
       ":   0.290516434579962\n",
       "\n",
       "\n",
       "6. (Intercept)\n",
       ":   91.5117981171539AtBat\n",
       ":   -1.86858923135561Hits\n",
       ":   7.60439763117204Walks\n",
       ":   3.69764677424139CRBI\n",
       ":   0.643016935097332DivisionW\n",
       ":   -122.95153377292PutOuts\n",
       ":   0.264307605461511\n",
       "\n",
       "\n",
       "7. (Intercept)\n",
       ":   79.4509472435319Hits\n",
       ":   1.28335125463328Walks\n",
       ":   3.22742638972714CAtBat\n",
       ":   -0.375235019565453CHits\n",
       ":   1.49570730989869CHmRun\n",
       ":   1.44205381889666DivisionW\n",
       ":   -129.986643165116PutOuts\n",
       ":   0.236681317525621\n",
       "\n",
       "\n",
       "8. (Intercept)\n",
       ":   130.969157742029AtBat\n",
       ":   -2.17319026803739Hits\n",
       ":   7.35829347288597Walks\n",
       ":   6.00375969670247CHmRun\n",
       ":   1.23397183131984CRuns\n",
       ":   0.965134866159285CWalks\n",
       ":   -0.832378780774362DivisionW\n",
       ":   -117.965779504667PutOuts\n",
       ":   0.290843092449882\n",
       "\n",
       "\n",
       "\n",
       "\n"
      ],
      "text/plain": [
       "[[1]]\n",
       "(Intercept)        CRBI \n",
       "274.5803864   0.7909536 \n",
       "\n",
       "[[2]]\n",
       "(Intercept)        Hits        CRBI \n",
       "-47.9559022   3.3008446   0.6898994 \n",
       "\n",
       "[[3]]\n",
       "(Intercept)        Hits        CRBI     PutOuts \n",
       "-71.4592204   2.8038162   0.6825275   0.2735814 \n",
       "\n",
       "[[4]]\n",
       " (Intercept)         Hits         CRBI    DivisionW      PutOuts \n",
       "  13.9231044    2.6757978    0.6817790 -139.9538855    0.2735002 \n",
       "\n",
       "[[5]]\n",
       " (Intercept)        AtBat         Hits         CRBI    DivisionW      PutOuts \n",
       "  97.7684116   -1.4401428    7.1753197    0.6882079 -129.7319386    0.2905164 \n",
       "\n",
       "[[6]]\n",
       " (Intercept)        AtBat         Hits        Walks         CRBI    DivisionW \n",
       "  91.5117981   -1.8685892    7.6043976    3.6976468    0.6430169 -122.9515338 \n",
       "     PutOuts \n",
       "   0.2643076 \n",
       "\n",
       "[[7]]\n",
       " (Intercept)         Hits        Walks       CAtBat        CHits       CHmRun \n",
       "  79.4509472    1.2833513    3.2274264   -0.3752350    1.4957073    1.4420538 \n",
       "   DivisionW      PutOuts \n",
       "-129.9866432    0.2366813 \n",
       "\n",
       "[[8]]\n",
       " (Intercept)        AtBat         Hits        Walks       CHmRun        CRuns \n",
       " 130.9691577   -2.1731903    7.3582935    6.0037597    1.2339718    0.9651349 \n",
       "      CWalks    DivisionW      PutOuts \n",
       "  -0.8323788 -117.9657795    0.2908431 \n"
      ]
     },
     "metadata": {},
     "output_type": "display_data"
    }
   ],
   "source": [
    "coef(model,1:8)"
   ]
  },
  {
   "cell_type": "markdown",
   "metadata": {},
   "source": [
    "<p><b>Réponse à la question 3</b></p>\n",
    "<ul><li>Pour un modèle de 4 variables, les variables séléctionnées sont : Hits, CRBI, DivisionW et PutOuts</li>\n",
    "<li>Pour un modèle de 8 variables, les variables séléctionnées sont : AtBat, Hits, Walks, CHmRun, CRuns, CWalks, DivisionW et PutOuts</li>\n",
    "<li>Le meilleur modèle à 4 variables n'est pas inclus dans celui de 8 variables car il manque les variables [\"CRBI\"]</li></ul>\n"
   ]
  },
  {
   "cell_type": "code",
   "execution_count": null,
   "metadata": {
    "vscode": {
     "languageId": "r"
    }
   },
   "outputs": [],
   "source": []
  },
  {
   "cell_type": "markdown",
   "metadata": {
    "run_control": {
     "frozen": false,
     "read_only": false
    }
   },
   "source": [
    "## Sélection du modèle optimal par critère sur l'erreur d'apprentissage\n",
    "\n",
    "La fonction `summary()` retourne également les R2 , RSS, adjusted R2 , Cp , et BIC.\n",
    "On peut examiner ces différents critères afin de sélectionner le meilleur des meilleurs modèles. Vous pouvez avoir accès au nom de ces différentes variables via `names(reg.summary)`.  Tracez ces différents critères (fonctions `plot` et `points`). Trouvez l'optimum de chacun des critères, par exemple en utilisant les fonctions `which.min()` ou `which.max()`. "
   ]
  },
  {
   "cell_type": "code",
   "execution_count": 204,
   "metadata": {
    "run_control": {
     "frozen": false,
     "read_only": false
    },
    "vscode": {
     "languageId": "r"
    }
   },
   "outputs": [
    {
     "data": {
      "text/html": [
       "<style>\n",
       ".list-inline {list-style: none; margin:0; padding: 0}\n",
       ".list-inline>li {display: inline-block}\n",
       ".list-inline>li:not(:last-child)::after {content: \"\\00b7\"; padding: 0 .5ex}\n",
       "</style>\n",
       "<ol class=list-inline><li>'which'</li><li>'rsq'</li><li>'rss'</li><li>'adjr2'</li><li>'cp'</li><li>'bic'</li><li>'outmat'</li><li>'obj'</li></ol>\n"
      ],
      "text/latex": [
       "\\begin{enumerate*}\n",
       "\\item 'which'\n",
       "\\item 'rsq'\n",
       "\\item 'rss'\n",
       "\\item 'adjr2'\n",
       "\\item 'cp'\n",
       "\\item 'bic'\n",
       "\\item 'outmat'\n",
       "\\item 'obj'\n",
       "\\end{enumerate*}\n"
      ],
      "text/markdown": [
       "1. 'which'\n",
       "2. 'rsq'\n",
       "3. 'rss'\n",
       "4. 'adjr2'\n",
       "5. 'cp'\n",
       "6. 'bic'\n",
       "7. 'outmat'\n",
       "8. 'obj'\n",
       "\n",
       "\n"
      ],
      "text/plain": [
       "[1] \"which\"  \"rsq\"    \"rss\"    \"adjr2\"  \"cp\"     \"bic\"    \"outmat\" \"obj\"   "
      ]
     },
     "metadata": {},
     "output_type": "display_data"
    }
   ],
   "source": [
    "names(reg.summary)"
   ]
  },
  {
   "cell_type": "code",
   "execution_count": 205,
   "metadata": {
    "vscode": {
     "languageId": "r"
    }
   },
   "outputs": [
    {
     "data": {
      "image/png": "[encoded data removed]",
      "text/plain": [
       "plot without title"
      ]
     },
     "metadata": {
      "image/png": {
       "height": 420,
       "width": 420
      }
     },
     "output_type": "display_data"
    }
   ],
   "source": [
    "plot(reg.summary$rss, xlab='n variables',ylab='Residual',type='l')\n",
    "z = which.min(reg.summary$rss)\n",
    "points(z, reg.summary$rss[z], col='red', cex=2, pch=20)"
   ]
  },
  {
   "cell_type": "code",
   "execution_count": 206,
   "metadata": {
    "vscode": {
     "languageId": "r"
    }
   },
   "outputs": [
    {
     "data": {
      "image/png": "[encoded data removed]",
      "text/plain": [
       "plot without title"
      ]
     },
     "metadata": {
      "image/png": {
       "height": 420,
       "width": 420
      }
     },
     "output_type": "display_data"
    }
   ],
   "source": [
    "par(mfrow = c(2, 2))\n",
    "plot(reg.summary$rss, xlab='n variables',ylab='Residual',type='l')\n",
    "z = which.min(reg.summary$rss)\n",
    "points(z, reg.summary$rss[z], col='red', cex=2, pch=20)\n",
    "\n",
    "plot(reg.summary$adjr2, xlab = \" Number of Variables \", ylab = \" Adjusted RSq \", \n",
    "    type = \"l\")\n",
    "z = which.max(reg.summary$adjr2)\n",
    "points(z, reg.summary$adjr2[z], col = \" red \", cex = 2, pch = 20)\n",
    "\n",
    "plot(reg.summary$cp, xlab = \" Number of Variables \", ylab = \" Cp \", type = \"l\")\n",
    "z = which.min(reg.summary$cp)\n",
    "points(z, reg.summary$cp[z], col = \" red \", cex = 2, pch = 20)\n",
    "plot(reg.summary$bic, xlab = \" Number of Variables \", ylab = \" BIC \", type = \"l\")\n",
    "z = which.min(reg.summary$bic)\n",
    "points(z, reg.summary$bic[z], col = \" red \", cex = 2, pch = 20)"
   ]
  },
  {
   "cell_type": "markdown",
   "metadata": {
    "run_control": {
     "frozen": false,
     "read_only": false
    }
   },
   "source": [
    "La fonction `regsubsets()` dispose d'une méthode `plot` adaptée. Vous consulterez l'aide par exemple par `?plot.regsubsets`. Utilisez cette méthode pour tacer les différents critères. "
   ]
  },
  {
   "cell_type": "code",
   "execution_count": 207,
   "metadata": {
    "run_control": {
     "frozen": false,
     "read_only": false
    },
    "vscode": {
     "languageId": "r"
    }
   },
   "outputs": [
    {
     "name": "stdout",
     "output_type": "stream",
     "text": [
      "plot.regsubsets             package:leaps              R Documentation\n",
      "\n",
      "_\bG_\br_\ba_\bp_\bh_\bi_\bc_\ba_\bl _\bt_\ba_\bb_\bl_\be _\bo_\bf _\bb_\be_\bs_\bt _\bs_\bu_\bb_\bs_\be_\bt_\bs\n",
      "\n",
      "_\bD_\be_\bs_\bc_\br_\bi_\bp_\bt_\bi_\bo_\bn:\n",
      "\n",
      "     Plots a table of models showing which variables are in each model.\n",
      "     The models are ordered by the specified model selection statistic.\n",
      "     This plot is particularly useful when there are more than ten or\n",
      "     so models and the simple table produced by 'summary.regsubsets' is\n",
      "     too big to read.\n",
      "\n",
      "_\bU_\bs_\ba_\bg_\be:\n",
      "\n",
      "     ## S3 method for class 'regsubsets'\n",
      "     plot(x, labels=obj$xnames, main=NULL, scale=c(\"bic\", \"Cp\", \"adjr2\", \"r2\"),\n",
      "     col=gray(seq(0, 0.9, length = 10)),...)\n",
      "     \n",
      "_\bA_\br_\bg_\bu_\bm_\be_\bn_\bt_\bs:\n",
      "\n",
      "       x: 'regsubsets' object\n",
      "\n",
      "  labels: variable names\n",
      "\n",
      "    main: title for plot\n",
      "\n",
      "   scale: which summary statistic to use for ordering plots\n",
      "\n",
      "     col: Colors: the last color should be close to but distinct from\n",
      "          white\n",
      "\n",
      "     ...: other arguments\n",
      "\n",
      "_\bV_\ba_\bl_\bu_\be:\n",
      "\n",
      "     None\n",
      "\n",
      "_\bA_\bu_\bt_\bh_\bo_\br(_\bs):\n",
      "\n",
      "     Thomas Lumley, based on a concept by Merlise Clyde\n",
      "\n",
      "_\bS_\be_\be _\bA_\bl_\bs_\bo:\n",
      "\n",
      "     'regsubsets','summary.regsubsets'\n",
      "\n",
      "_\bE_\bx_\ba_\bm_\bp_\bl_\be_\bs:\n",
      "\n",
      "     data(swiss)\n",
      "     a<-regsubsets(Fertility~.,nbest=3,data=swiss)\n",
      "     par(mfrow=c(1,2))\n",
      "     plot(a)\n",
      "     plot(a,scale=\"r2\")\n",
      "     "
     ]
    }
   ],
   "source": [
    "?plot.regsubsets"
   ]
  },
  {
   "cell_type": "code",
   "execution_count": 208,
   "metadata": {
    "run_control": {
     "frozen": false,
     "read_only": false
    },
    "vscode": {
     "languageId": "r"
    }
   },
   "outputs": [
    {
     "data": {
      "image/png": "[encoded data removed]",
      "text/plain": [
       "plot without title"
      ]
     },
     "metadata": {
      "image/png": {
       "height": 420,
       "width": 420
      }
     },
     "output_type": "display_data"
    },
    {
     "data": {
      "image/png": "[encoded data removed]",
      "text/plain": [
       "plot without title"
      ]
     },
     "metadata": {
      "image/png": {
       "height": 420,
       "width": 420
      }
     },
     "output_type": "display_data"
    },
    {
     "data": {
      "image/png": "[encoded data removed]",
      "text/plain": [
       "plot without title"
      ]
     },
     "metadata": {
      "image/png": {
       "height": 420,
       "width": 420
      }
     },
     "output_type": "display_data"
    },
    {
     "data": {
      "image/png": "[encoded data removed]",
      "text/plain": [
       "plot without title"
      ]
     },
     "metadata": {
      "image/png": {
       "height": 420,
       "width": 420
      }
     },
     "output_type": "display_data"
    }
   ],
   "source": [
    "plot ( model , scale =\"r2\")\n",
    "plot ( model , scale =\"adjr2\")\n",
    "plot ( model , scale =\"Cp\")\n",
    "plot ( model , scale =\"bic\")"
   ]
  },
  {
   "cell_type": "markdown",
   "metadata": {
    "run_control": {
     "frozen": false,
     "read_only": false
    }
   },
   "source": [
    "Sélectionnez le meilleur modèle au sens du critère BIC; Quelles variables contient il ? Quels sont les coefficients du modèle ?"
   ]
  },
  {
   "cell_type": "code",
   "execution_count": 209,
   "metadata": {
    "vscode": {
     "languageId": "r"
    }
   },
   "outputs": [
    {
     "data": {
      "image/png": "[encoded data removed]",
      "text/plain": [
       "plot without title"
      ]
     },
     "metadata": {
      "image/png": {
       "height": 420,
       "width": 420
      }
     },
     "output_type": "display_data"
    }
   ],
   "source": [
    "plot ( model , scale =\"bic\" )\n"
   ]
  },
  {
   "cell_type": "markdown",
   "metadata": {},
   "source": [
    "<b>Réponse</b><br><br>\n",
    "Selon la figure ci-dessus, on constate que les variables concernées sont : ['AtBat', 'Hits', 'Walks', 'CRBI', 'DivisionW', 'PutOuts'].<br> Les coefficients sont ci-dessous :"
   ]
  },
  {
   "cell_type": "code",
   "execution_count": 210,
   "metadata": {
    "vscode": {
     "languageId": "r"
    }
   },
   "outputs": [
    {
     "data": {
      "text/html": [
       "<style>\n",
       ".dl-inline {width: auto; margin:0; padding: 0}\n",
       ".dl-inline>dt, .dl-inline>dd {float: none; width: auto; display: inline-block}\n",
       ".dl-inline>dt::after {content: \":\\0020\"; padding-right: .5ex}\n",
       ".dl-inline>dt:not(:first-of-type) {padding-left: .5ex}\n",
       "</style><dl class=dl-inline><dt>(Intercept)</dt><dd>91.5117981171539</dd><dt>AtBat</dt><dd>-1.86858923135561</dd><dt>Hits</dt><dd>7.60439763117204</dd><dt>Walks</dt><dd>3.69764677424139</dd><dt>CRBI</dt><dd>0.643016935097332</dd><dt>DivisionW</dt><dd>-122.95153377292</dd><dt>PutOuts</dt><dd>0.264307605461511</dd></dl>\n"
      ],
      "text/latex": [
       "\\begin{description*}\n",
       "\\item[(Intercept)] 91.5117981171539\n",
       "\\item[AtBat] -1.86858923135561\n",
       "\\item[Hits] 7.60439763117204\n",
       "\\item[Walks] 3.69764677424139\n",
       "\\item[CRBI] 0.643016935097332\n",
       "\\item[DivisionW] -122.95153377292\n",
       "\\item[PutOuts] 0.264307605461511\n",
       "\\end{description*}\n"
      ],
      "text/markdown": [
       "(Intercept)\n",
       ":   91.5117981171539AtBat\n",
       ":   -1.86858923135561Hits\n",
       ":   7.60439763117204Walks\n",
       ":   3.69764677424139CRBI\n",
       ":   0.643016935097332DivisionW\n",
       ":   -122.95153377292PutOuts\n",
       ":   0.264307605461511\n",
       "\n"
      ],
      "text/plain": [
       " (Intercept)        AtBat         Hits        Walks         CRBI    DivisionW \n",
       "  91.5117981   -1.8685892    7.6043976    3.6976468    0.6430169 -122.9515338 \n",
       "     PutOuts \n",
       "   0.2643076 "
      ]
     },
     "metadata": {},
     "output_type": "display_data"
    }
   ],
   "source": [
    "coef(model,6)"
   ]
  },
  {
   "cell_type": "code",
   "execution_count": null,
   "metadata": {
    "vscode": {
     "languageId": "r"
    }
   },
   "outputs": [],
   "source": []
  },
  {
   "cell_type": "markdown",
   "metadata": {
    "run_control": {
     "frozen": false,
     "read_only": false
    }
   },
   "source": [
    "## Stepwises models\n",
    "\n",
    "On considère maintenant le sméthodes sous-optimales, mais plus utilisables (moins lourdes en charge calculatoire), que sont les *forward* et *backward subset selection*. Il suffit ici de spécifier le paramètre `method` lors de l'appel à `regsubsets()`. Créez les modèles `regfit.full`, `regfit.fwd` et `regfit.bwd` correspondants aux modèles complets, *forward* et *backward*. Comparez les modèles obtenus à l'ordre 6, puis à l'ordre 7. Conclure. "
   ]
  },
  {
   "cell_type": "code",
   "execution_count": 211,
   "metadata": {
    "run_control": {
     "frozen": false,
     "read_only": false
    },
    "vscode": {
     "languageId": "r"
    }
   },
   "outputs": [
    {
     "name": "stdout",
     "output_type": "stream",
     "text": [
      "[1] \"Modèle full, ordre= 6\"\n"
     ]
    },
    {
     "data": {
      "text/html": [
       "<style>\n",
       ".dl-inline {width: auto; margin:0; padding: 0}\n",
       ".dl-inline>dt, .dl-inline>dd {float: none; width: auto; display: inline-block}\n",
       ".dl-inline>dt::after {content: \":\\0020\"; padding-right: .5ex}\n",
       ".dl-inline>dt:not(:first-of-type) {padding-left: .5ex}\n",
       "</style><dl class=dl-inline><dt>(Intercept)</dt><dd>91.5117981171539</dd><dt>AtBat</dt><dd>-1.86858923135561</dd><dt>Hits</dt><dd>7.60439763117204</dd><dt>Walks</dt><dd>3.69764677424139</dd><dt>CRBI</dt><dd>0.643016935097332</dd><dt>DivisionW</dt><dd>-122.95153377292</dd><dt>PutOuts</dt><dd>0.264307605461511</dd></dl>\n"
      ],
      "text/latex": [
       "\\begin{description*}\n",
       "\\item[(Intercept)] 91.5117981171539\n",
       "\\item[AtBat] -1.86858923135561\n",
       "\\item[Hits] 7.60439763117204\n",
       "\\item[Walks] 3.69764677424139\n",
       "\\item[CRBI] 0.643016935097332\n",
       "\\item[DivisionW] -122.95153377292\n",
       "\\item[PutOuts] 0.264307605461511\n",
       "\\end{description*}\n"
      ],
      "text/markdown": [
       "(Intercept)\n",
       ":   91.5117981171539AtBat\n",
       ":   -1.86858923135561Hits\n",
       ":   7.60439763117204Walks\n",
       ":   3.69764677424139CRBI\n",
       ":   0.643016935097332DivisionW\n",
       ":   -122.95153377292PutOuts\n",
       ":   0.264307605461511\n",
       "\n"
      ],
      "text/plain": [
       " (Intercept)        AtBat         Hits        Walks         CRBI    DivisionW \n",
       "  91.5117981   -1.8685892    7.6043976    3.6976468    0.6430169 -122.9515338 \n",
       "     PutOuts \n",
       "   0.2643076 "
      ]
     },
     "metadata": {},
     "output_type": "display_data"
    },
    {
     "name": "stdout",
     "output_type": "stream",
     "text": [
      "[1] \"Modèle forward, ordre= 6\"\n"
     ]
    },
    {
     "data": {
      "text/html": [
       "<style>\n",
       ".dl-inline {width: auto; margin:0; padding: 0}\n",
       ".dl-inline>dt, .dl-inline>dd {float: none; width: auto; display: inline-block}\n",
       ".dl-inline>dt::after {content: \":\\0020\"; padding-right: .5ex}\n",
       ".dl-inline>dt:not(:first-of-type) {padding-left: .5ex}\n",
       "</style><dl class=dl-inline><dt>(Intercept)</dt><dd>91.5117981171524</dd><dt>AtBat</dt><dd>-1.86858923135561</dd><dt>Hits</dt><dd>7.60439763117205</dd><dt>Walks</dt><dd>3.69764677424138</dd><dt>CRBI</dt><dd>0.643016935097332</dd><dt>DivisionW</dt><dd>-122.95153377292</dd><dt>PutOuts</dt><dd>0.264307605461512</dd></dl>\n"
      ],
      "text/latex": [
       "\\begin{description*}\n",
       "\\item[(Intercept)] 91.5117981171524\n",
       "\\item[AtBat] -1.86858923135561\n",
       "\\item[Hits] 7.60439763117205\n",
       "\\item[Walks] 3.69764677424138\n",
       "\\item[CRBI] 0.643016935097332\n",
       "\\item[DivisionW] -122.95153377292\n",
       "\\item[PutOuts] 0.264307605461512\n",
       "\\end{description*}\n"
      ],
      "text/markdown": [
       "(Intercept)\n",
       ":   91.5117981171524AtBat\n",
       ":   -1.86858923135561Hits\n",
       ":   7.60439763117205Walks\n",
       ":   3.69764677424138CRBI\n",
       ":   0.643016935097332DivisionW\n",
       ":   -122.95153377292PutOuts\n",
       ":   0.264307605461512\n",
       "\n"
      ],
      "text/plain": [
       " (Intercept)        AtBat         Hits        Walks         CRBI    DivisionW \n",
       "  91.5117981   -1.8685892    7.6043976    3.6976468    0.6430169 -122.9515338 \n",
       "     PutOuts \n",
       "   0.2643076 "
      ]
     },
     "metadata": {},
     "output_type": "display_data"
    },
    {
     "name": "stdout",
     "output_type": "stream",
     "text": [
      "[1] \"Modèle backward, ordre= 6\"\n"
     ]
    },
    {
     "data": {
      "text/html": [
       "<style>\n",
       ".dl-inline {width: auto; margin:0; padding: 0}\n",
       ".dl-inline>dt, .dl-inline>dd {float: none; width: auto; display: inline-block}\n",
       ".dl-inline>dt::after {content: \":\\0020\"; padding-right: .5ex}\n",
       ".dl-inline>dt:not(:first-of-type) {padding-left: .5ex}\n",
       "</style><dl class=dl-inline><dt>(Intercept)</dt><dd>78.2664070224574</dd><dt>AtBat</dt><dd>-1.81589310652677</dd><dt>Hits</dt><dd>7.35976439595595</dd><dt>Walks</dt><dd>3.5123247552556</dd><dt>CRuns</dt><dd>0.61878762477793</dd><dt>DivisionW</dt><dd>-113.795859986848</dd><dt>PutOuts</dt><dd>0.29957882690896</dd></dl>\n"
      ],
      "text/latex": [
       "\\begin{description*}\n",
       "\\item[(Intercept)] 78.2664070224574\n",
       "\\item[AtBat] -1.81589310652677\n",
       "\\item[Hits] 7.35976439595595\n",
       "\\item[Walks] 3.5123247552556\n",
       "\\item[CRuns] 0.61878762477793\n",
       "\\item[DivisionW] -113.795859986848\n",
       "\\item[PutOuts] 0.29957882690896\n",
       "\\end{description*}\n"
      ],
      "text/markdown": [
       "(Intercept)\n",
       ":   78.2664070224574AtBat\n",
       ":   -1.81589310652677Hits\n",
       ":   7.35976439595595Walks\n",
       ":   3.5123247552556CRuns\n",
       ":   0.61878762477793DivisionW\n",
       ":   -113.795859986848PutOuts\n",
       ":   0.29957882690896\n",
       "\n"
      ],
      "text/plain": [
       " (Intercept)        AtBat         Hits        Walks        CRuns    DivisionW \n",
       "  78.2664070   -1.8158931    7.3597644    3.5123248    0.6187876 -113.7958600 \n",
       "     PutOuts \n",
       "   0.2995788 "
      ]
     },
     "metadata": {},
     "output_type": "display_data"
    }
   ],
   "source": [
    "regfit.full = regsubsets(Salary ~ ., data = Hitters, nvmax = 19, method = \"exhaustive\")\n",
    "# summary(regfit.full)\n",
    "regfit.fwd = regsubsets(Salary ~ ., data = Hitters, nvmax = 19, method = \"forward\")\n",
    "# summary(regfit.fwd)\n",
    "regfit.bwd = regsubsets(Salary ~ ., data = Hitters, nvmax = 19, method = \"backward\")\n",
    "# summary(regfit.bwd)\n",
    "ordre = 6\n",
    "print(paste(\"Modèle full, ordre=\", ordre))\n",
    "coef(regfit.full, ordre)\n",
    "print(paste(\"Modèle forward, ordre=\", ordre))\n",
    "coef(regfit.fwd, ordre)\n",
    "print(paste(\"Modèle backward, ordre=\", ordre))\n",
    "coef(regfit.bwd, ordre)"
   ]
  },
  {
   "cell_type": "code",
   "execution_count": 212,
   "metadata": {
    "vscode": {
     "languageId": "r"
    }
   },
   "outputs": [
    {
     "name": "stdout",
     "output_type": "stream",
     "text": [
      "[1] \"Modèle full, ordre= 7\"\n"
     ]
    },
    {
     "data": {
      "text/html": [
       "<style>\n",
       ".dl-inline {width: auto; margin:0; padding: 0}\n",
       ".dl-inline>dt, .dl-inline>dd {float: none; width: auto; display: inline-block}\n",
       ".dl-inline>dt::after {content: \":\\0020\"; padding-right: .5ex}\n",
       ".dl-inline>dt:not(:first-of-type) {padding-left: .5ex}\n",
       "</style><dl class=dl-inline><dt>(Intercept)</dt><dd>79.4509472435319</dd><dt>Hits</dt><dd>1.28335125463328</dd><dt>Walks</dt><dd>3.22742638972714</dd><dt>CAtBat</dt><dd>-0.375235019565453</dd><dt>CHits</dt><dd>1.49570730989869</dd><dt>CHmRun</dt><dd>1.44205381889666</dd><dt>DivisionW</dt><dd>-129.986643165116</dd><dt>PutOuts</dt><dd>0.236681317525621</dd></dl>\n"
      ],
      "text/latex": [
       "\\begin{description*}\n",
       "\\item[(Intercept)] 79.4509472435319\n",
       "\\item[Hits] 1.28335125463328\n",
       "\\item[Walks] 3.22742638972714\n",
       "\\item[CAtBat] -0.375235019565453\n",
       "\\item[CHits] 1.49570730989869\n",
       "\\item[CHmRun] 1.44205381889666\n",
       "\\item[DivisionW] -129.986643165116\n",
       "\\item[PutOuts] 0.236681317525621\n",
       "\\end{description*}\n"
      ],
      "text/markdown": [
       "(Intercept)\n",
       ":   79.4509472435319Hits\n",
       ":   1.28335125463328Walks\n",
       ":   3.22742638972714CAtBat\n",
       ":   -0.375235019565453CHits\n",
       ":   1.49570730989869CHmRun\n",
       ":   1.44205381889666DivisionW\n",
       ":   -129.986643165116PutOuts\n",
       ":   0.236681317525621\n",
       "\n"
      ],
      "text/plain": [
       " (Intercept)         Hits        Walks       CAtBat        CHits       CHmRun \n",
       "  79.4509472    1.2833513    3.2274264   -0.3752350    1.4957073    1.4420538 \n",
       "   DivisionW      PutOuts \n",
       "-129.9866432    0.2366813 "
      ]
     },
     "metadata": {},
     "output_type": "display_data"
    },
    {
     "name": "stdout",
     "output_type": "stream",
     "text": [
      "[1] \"Modèle forward, ordre= 7\"\n"
     ]
    },
    {
     "data": {
      "text/html": [
       "<style>\n",
       ".dl-inline {width: auto; margin:0; padding: 0}\n",
       ".dl-inline>dt, .dl-inline>dd {float: none; width: auto; display: inline-block}\n",
       ".dl-inline>dt::after {content: \":\\0020\"; padding-right: .5ex}\n",
       ".dl-inline>dt:not(:first-of-type) {padding-left: .5ex}\n",
       "</style><dl class=dl-inline><dt>(Intercept)</dt><dd>109.787306240078</dd><dt>AtBat</dt><dd>-1.95888512315655</dd><dt>Hits</dt><dd>7.44987721841218</dd><dt>Walks</dt><dd>4.91314009272066</dd><dt>CRBI</dt><dd>0.853762209061578</dd><dt>CWalks</dt><dd>-0.305307000381738</dd><dt>DivisionW</dt><dd>-127.122392777488</dd><dt>PutOuts</dt><dd>0.253340431147386</dd></dl>\n"
      ],
      "text/latex": [
       "\\begin{description*}\n",
       "\\item[(Intercept)] 109.787306240078\n",
       "\\item[AtBat] -1.95888512315655\n",
       "\\item[Hits] 7.44987721841218\n",
       "\\item[Walks] 4.91314009272066\n",
       "\\item[CRBI] 0.853762209061578\n",
       "\\item[CWalks] -0.305307000381738\n",
       "\\item[DivisionW] -127.122392777488\n",
       "\\item[PutOuts] 0.253340431147386\n",
       "\\end{description*}\n"
      ],
      "text/markdown": [
       "(Intercept)\n",
       ":   109.787306240078AtBat\n",
       ":   -1.95888512315655Hits\n",
       ":   7.44987721841218Walks\n",
       ":   4.91314009272066CRBI\n",
       ":   0.853762209061578CWalks\n",
       ":   -0.305307000381738DivisionW\n",
       ":   -127.122392777488PutOuts\n",
       ":   0.253340431147386\n",
       "\n"
      ],
      "text/plain": [
       " (Intercept)        AtBat         Hits        Walks         CRBI       CWalks \n",
       " 109.7873062   -1.9588851    7.4498772    4.9131401    0.8537622   -0.3053070 \n",
       "   DivisionW      PutOuts \n",
       "-127.1223928    0.2533404 "
      ]
     },
     "metadata": {},
     "output_type": "display_data"
    },
    {
     "name": "stdout",
     "output_type": "stream",
     "text": [
      "[1] \"Modèle backward, ordre= 7\"\n"
     ]
    },
    {
     "data": {
      "text/html": [
       "<style>\n",
       ".dl-inline {width: auto; margin:0; padding: 0}\n",
       ".dl-inline>dt, .dl-inline>dd {float: none; width: auto; display: inline-block}\n",
       ".dl-inline>dt::after {content: \":\\0020\"; padding-right: .5ex}\n",
       ".dl-inline>dt:not(:first-of-type) {padding-left: .5ex}\n",
       "</style><dl class=dl-inline><dt>(Intercept)</dt><dd>105.648748778828</dd><dt>AtBat</dt><dd>-1.97628381026618</dd><dt>Hits</dt><dd>6.75749144281392</dd><dt>Walks</dt><dd>6.05586912154598</dd><dt>CRuns</dt><dd>1.12930946903271</dd><dt>CWalks</dt><dd>-0.71633458662198</dd><dt>DivisionW</dt><dd>-116.16921690431</dd><dt>PutOuts</dt><dd>0.302884743257576</dd></dl>\n"
      ],
      "text/latex": [
       "\\begin{description*}\n",
       "\\item[(Intercept)] 105.648748778828\n",
       "\\item[AtBat] -1.97628381026618\n",
       "\\item[Hits] 6.75749144281392\n",
       "\\item[Walks] 6.05586912154598\n",
       "\\item[CRuns] 1.12930946903271\n",
       "\\item[CWalks] -0.71633458662198\n",
       "\\item[DivisionW] -116.16921690431\n",
       "\\item[PutOuts] 0.302884743257576\n",
       "\\end{description*}\n"
      ],
      "text/markdown": [
       "(Intercept)\n",
       ":   105.648748778828AtBat\n",
       ":   -1.97628381026618Hits\n",
       ":   6.75749144281392Walks\n",
       ":   6.05586912154598CRuns\n",
       ":   1.12930946903271CWalks\n",
       ":   -0.71633458662198DivisionW\n",
       ":   -116.16921690431PutOuts\n",
       ":   0.302884743257576\n",
       "\n"
      ],
      "text/plain": [
       " (Intercept)        AtBat         Hits        Walks        CRuns       CWalks \n",
       " 105.6487488   -1.9762838    6.7574914    6.0558691    1.1293095   -0.7163346 \n",
       "   DivisionW      PutOuts \n",
       "-116.1692169    0.3028847 "
      ]
     },
     "metadata": {},
     "output_type": "display_data"
    }
   ],
   "source": [
    "ordre = 7\n",
    "print(paste(\"Modèle full, ordre=\", ordre))\n",
    "coef(regfit.full, ordre)\n",
    "print(paste(\"Modèle forward, ordre=\", ordre))\n",
    "coef(regfit.fwd, ordre)\n",
    "print(paste(\"Modèle backward, ordre=\", ordre))\n",
    "coef(regfit.bwd, ordre)"
   ]
  },
  {
   "cell_type": "markdown",
   "metadata": {},
   "source": [
    "<p>En passant de l'ordre 6 à 7, on constate que certains variables sont perdues, alors que d'autres sont ajoutées, et quelques unes sont gardées. Les coefficients sont différents."
   ]
  },
  {
   "cell_type": "code",
   "execution_count": null,
   "metadata": {
    "run_control": {
     "frozen": false,
     "read_only": false
    },
    "vscode": {
     "languageId": "r"
    }
   },
   "outputs": [],
   "source": []
  },
  {
   "cell_type": "markdown",
   "metadata": {
    "run_control": {
     "frozen": false,
     "read_only": false
    }
   },
   "source": [
    "## Sélection par validation et validation croisée\n",
    "### Validation\n",
    "Plutôt qu'utiliser un critère du type Cp, BIC ou AdjR2, on peut chercher à calculer l'erreur sur un ensemble de test. \n",
    "\n",
    "Créer les ensembles d'apprentissage et de test, Train et Test, en séparant la base initiale avec un ratio de 75% pour l'apprentissage. \n",
    "\n",
    "- On peut dès lors apprendre les différents modèles sur la base d'apprentissage Train, en utilisant `regsubsets` comme précédemment. On note par exemple `modelTrain` l'objet obtenu."
   ]
  },
  {
   "cell_type": "markdown",
   "metadata": {
    "run_control": {
     "frozen": false,
     "read_only": false
    }
   },
   "source": [
    "On doit ensuite évaluer les performances réelles sur la base de test. Et là, ce qui coince, c'est qu'il n'y a pas de fonction `predict` associée aux objets `regsubsets`. C'est R. Il nous faut donc calculer ces prédictions à la main. Pour ce faire : \n",
    "\n",
    "- Il faut définir la matrice $X$ du modèle $y = X \\beta + \\epsilon$, où $\\beta$ est le vecteur des coefficients. Heureusement, la fonction `model.matrix()` vient à notre secours et retourne cette matrice. \n",
    "- Extraire le vecteur des coefficients estimés par `coef(modelTrain, ordre)`. \n",
    "- Estimer la valeur prédite par $\\hat{y} = X \\beta$. La multiplication matricielle est `%*%`. *C'est R...* Extraire les lignes adéquates de la matrice par `X[,names(beta)]` avant de faire la multiplication. \n",
    "- Enfin, en déduire l'erreur moyenne sur la base de test par `mean((Test$Salary-yhat)^2)`\n",
    "\n",
    "Implanter ces différentes étapes, par exemple pour un ordre 6. "
   ]
  },
  {
   "cell_type": "code",
   "execution_count": 213,
   "metadata": {
    "collapsed": true,
    "run_control": {
     "frozen": false,
     "read_only": false
    },
    "vscode": {
     "languageId": "r"
    }
   },
   "outputs": [],
   "source": [
    "set.seed(42)\n",
    "train = sample(nrow(Hitters), 0.75 * nrow(hitters), replace = FALSE)\n",
    "Train = Hitters[train, ]\n",
    "Test = Hitters[-train, ]\n"
   ]
  },
  {
   "cell_type": "code",
   "execution_count": 214,
   "metadata": {
    "vscode": {
     "languageId": "r"
    }
   },
   "outputs": [],
   "source": [
    "modelTrain=regsubsets(Salary~.,data=Train,nvmax=19,method=\"forward\")"
   ]
  },
  {
   "cell_type": "code",
   "execution_count": 215,
   "metadata": {
    "run_control": {
     "frozen": false,
     "read_only": false
    },
    "vscode": {
     "languageId": "r"
    }
   },
   "outputs": [],
   "source": [
    "# Voici la matrice voulue\n",
    "X= model.matrix(Salary~., data=Test)"
   ]
  },
  {
   "cell_type": "code",
   "execution_count": 216,
   "metadata": {
    "collapsed": true,
    "run_control": {
     "frozen": false,
     "read_only": false
    },
    "vscode": {
     "languageId": "r"
    }
   },
   "outputs": [],
   "source": [
    "# Les coefficients (ordre 6)\n",
    "beta=coef(modelTrain, id=6)"
   ]
  },
  {
   "cell_type": "code",
   "execution_count": 217,
   "metadata": {
    "run_control": {
     "frozen": false,
     "read_only": false
    },
    "vscode": {
     "languageId": "r"
    }
   },
   "outputs": [],
   "source": [
    "# la valeur prédite\n",
    "yhat=X[,names(beta)]%*%beta"
   ]
  },
  {
   "cell_type": "code",
   "execution_count": 218,
   "metadata": {
    "vscode": {
     "languageId": "r"
    }
   },
   "outputs": [
    {
     "data": {
      "text/html": [
       "66"
      ],
      "text/latex": [
       "66"
      ],
      "text/markdown": [
       "66"
      ],
      "text/plain": [
       "[1] 66"
      ]
     },
     "metadata": {},
     "output_type": "display_data"
    }
   ],
   "source": [
    "length(yhat)"
   ]
  },
  {
   "cell_type": "code",
   "execution_count": 219,
   "metadata": {
    "run_control": {
     "frozen": false,
     "read_only": false
    },
    "vscode": {
     "languageId": "r"
    }
   },
   "outputs": [
    {
     "data": {
      "text/html": [
       "207992.78039571"
      ],
      "text/latex": [
       "207992.78039571"
      ],
      "text/markdown": [
       "207992.78039571"
      ],
      "text/plain": [
       "[1] 207992.8"
      ]
     },
     "metadata": {},
     "output_type": "display_data"
    }
   ],
   "source": [
    "# L'erreur moyenne sur la base de Test\n",
    "mean((Test$Salary-yhat)^2)"
   ]
  },
  {
   "cell_type": "markdown",
   "metadata": {
    "run_control": {
     "frozen": false,
     "read_only": false
    }
   },
   "source": [
    "Ceci étant effectué, il ne nous reste plus qu'à effectuer une boucle sur tous les ordres possibles, en stockant les valeurs de l'erreur estimée (initaliser un vecteur pour stocker ce srésultats avant la boucle). Afficher les valeurs obtenues, puis rechercher le minimum et en déduire les coefficients (et variables sélectionnées) pour le modèle optimal :"
   ]
  },
  {
   "cell_type": "code",
   "execution_count": 224,
   "metadata": {
    "run_control": {
     "frozen": false,
     "read_only": false
    },
    "vscode": {
     "languageId": "r"
    }
   },
   "outputs": [
    {
     "data": {
      "text/html": [
       "<style>\n",
       ".list-inline {list-style: none; margin:0; padding: 0}\n",
       ".list-inline>li {display: inline-block}\n",
       ".list-inline>li:not(:last-child)::after {content: \"\\00b7\"; padding: 0 .5ex}\n",
       "</style>\n",
       "<ol class=list-inline><li>242390.412446921</li><li>245723.635032269</li><li>221235.396191791</li><li>227097.350409919</li><li>212603.093775057</li><li>208248.26836945</li><li>208720.614202449</li><li>207829.879034913</li><li>207845.407884753</li><li>204758.402201742</li><li>196041.446453609</li><li>195606.677560587</li><li>196263.964807281</li><li>194164.001671737</li><li>194795.912445089</li><li>193169.578914031</li><li>193840.196154065</li><li>194046.201822162</li><li>194045.321383163</li></ol>\n"
      ],
      "text/latex": [
       "\\begin{enumerate*}\n",
       "\\item 242390.412446921\n",
       "\\item 245723.635032269\n",
       "\\item 221235.396191791\n",
       "\\item 227097.350409919\n",
       "\\item 212603.093775057\n",
       "\\item 208248.26836945\n",
       "\\item 208720.614202449\n",
       "\\item 207829.879034913\n",
       "\\item 207845.407884753\n",
       "\\item 204758.402201742\n",
       "\\item 196041.446453609\n",
       "\\item 195606.677560587\n",
       "\\item 196263.964807281\n",
       "\\item 194164.001671737\n",
       "\\item 194795.912445089\n",
       "\\item 193169.578914031\n",
       "\\item 193840.196154065\n",
       "\\item 194046.201822162\n",
       "\\item 194045.321383163\n",
       "\\end{enumerate*}\n"
      ],
      "text/markdown": [
       "1. 242390.412446921\n",
       "2. 245723.635032269\n",
       "3. 221235.396191791\n",
       "4. 227097.350409919\n",
       "5. 212603.093775057\n",
       "6. 208248.26836945\n",
       "7. 208720.614202449\n",
       "8. 207829.879034913\n",
       "9. 207845.407884753\n",
       "10. 204758.402201742\n",
       "11. 196041.446453609\n",
       "12. 195606.677560587\n",
       "13. 196263.964807281\n",
       "14. 194164.001671737\n",
       "15. 194795.912445089\n",
       "16. 193169.578914031\n",
       "17. 193840.196154065\n",
       "18. 194046.201822162\n",
       "19. 194045.321383163\n",
       "\n",
       "\n"
      ],
      "text/plain": [
       " [1] 242390.4 245723.6 221235.4 227097.4 212603.1 208248.3 208720.6 207829.9\n",
       " [9] 207845.4 204758.4 196041.4 195606.7 196264.0 194164.0 194795.9 193169.6\n",
       "[17] 193840.2 194046.2 194045.3"
      ]
     },
     "metadata": {},
     "output_type": "display_data"
    },
    {
     "data": {
      "text/html": [
       "16"
      ],
      "text/latex": [
       "16"
      ],
      "text/markdown": [
       "16"
      ],
      "text/plain": [
       "[1] 16"
      ]
     },
     "metadata": {},
     "output_type": "display_data"
    },
    {
     "data": {
      "text/html": [
       "<style>\n",
       ".dl-inline {width: auto; margin:0; padding: 0}\n",
       ".dl-inline>dt, .dl-inline>dd {float: none; width: auto; display: inline-block}\n",
       ".dl-inline>dt::after {content: \":\\0020\"; padding-right: .5ex}\n",
       ".dl-inline>dt:not(:first-of-type) {padding-left: .5ex}\n",
       "</style><dl class=dl-inline><dt>(Intercept)</dt><dd>2.34236458068884</dd><dt>AtBat</dt><dd>-0.628924275824903</dd><dt>Hits</dt><dd>3.11612328016716</dd><dt>HmRun</dt><dd>2.90300427134307</dd><dt>Runs</dt><dd>-1.13287695843615</dd><dt>Walks</dt><dd>4.62036949326154</dd><dt>CAtBat</dt><dd>-0.112143252164339</dd><dt>CHmRun</dt><dd>-2.09137010777065</dd><dt>CRuns</dt><dd>1.35488622385101</dd><dt>CRBI</dt><dd>1.08200744046897</dd><dt>CWalks</dt><dd>-0.67388034265573</dd><dt>LeagueN</dt><dd>74.4122269168144</dd><dt>DivisionW</dt><dd>-92.3780839839603</dd><dt>PutOuts</dt><dd>0.391268088910005</dd><dt>Assists</dt><dd>0.163188004794288</dd><dt>Errors</dt><dd>-6.29043688806277</dd><dt>NewLeagueN</dt><dd>-47.805601331087</dd></dl>\n"
      ],
      "text/latex": [
       "\\begin{description*}\n",
       "\\item[(Intercept)] 2.34236458068884\n",
       "\\item[AtBat] -0.628924275824903\n",
       "\\item[Hits] 3.11612328016716\n",
       "\\item[HmRun] 2.90300427134307\n",
       "\\item[Runs] -1.13287695843615\n",
       "\\item[Walks] 4.62036949326154\n",
       "\\item[CAtBat] -0.112143252164339\n",
       "\\item[CHmRun] -2.09137010777065\n",
       "\\item[CRuns] 1.35488622385101\n",
       "\\item[CRBI] 1.08200744046897\n",
       "\\item[CWalks] -0.67388034265573\n",
       "\\item[LeagueN] 74.4122269168144\n",
       "\\item[DivisionW] -92.3780839839603\n",
       "\\item[PutOuts] 0.391268088910005\n",
       "\\item[Assists] 0.163188004794288\n",
       "\\item[Errors] -6.29043688806277\n",
       "\\item[NewLeagueN] -47.805601331087\n",
       "\\end{description*}\n"
      ],
      "text/markdown": [
       "(Intercept)\n",
       ":   2.34236458068884AtBat\n",
       ":   -0.628924275824903Hits\n",
       ":   3.11612328016716HmRun\n",
       ":   2.90300427134307Runs\n",
       ":   -1.13287695843615Walks\n",
       ":   4.62036949326154CAtBat\n",
       ":   -0.112143252164339CHmRun\n",
       ":   -2.09137010777065CRuns\n",
       ":   1.35488622385101CRBI\n",
       ":   1.08200744046897CWalks\n",
       ":   -0.67388034265573LeagueN\n",
       ":   74.4122269168144DivisionW\n",
       ":   -92.3780839839603PutOuts\n",
       ":   0.391268088910005Assists\n",
       ":   0.163188004794288Errors\n",
       ":   -6.29043688806277NewLeagueN\n",
       ":   -47.805601331087\n",
       "\n"
      ],
      "text/plain": [
       "(Intercept)       AtBat        Hits       HmRun        Runs       Walks \n",
       "  2.3423646  -0.6289243   3.1161233   2.9030043  -1.1328770   4.6203695 \n",
       "     CAtBat      CHmRun       CRuns        CRBI      CWalks     LeagueN \n",
       " -0.1121433  -2.0913701   1.3548862   1.0820074  -0.6738803  74.4122269 \n",
       "  DivisionW     PutOuts     Assists      Errors  NewLeagueN \n",
       "-92.3780840   0.3912681   0.1631880  -6.2904369 -47.8056013 "
      ]
     },
     "metadata": {},
     "output_type": "display_data"
    }
   ],
   "source": [
    "#INSERT CODE HERE#\n",
    "set.seed(42)\n",
    "regfit.best=regsubsets(Salary~.,data=Train,nvmax=19)\n",
    "test.mat=model.matrix(Salary~.,data=Test)\n",
    "val.errors=rep(NA,19)\n",
    "for(i in 1:19){\n",
    "  coeff=coef(regfit.best,id=i)\n",
    "  pred=test.mat[,names(coeff)]%*%coeff # dot product of coeficients is the\n",
    "                                       # prediction\n",
    "  val.errors[i]=mean((Test$Salary-pred)^2)\n",
    "}\n",
    "val.errors\n",
    "which.min(val.errors)\n",
    "coef(regfit.best,which.min(val.errors))"
   ]
  },
  {
   "cell_type": "markdown",
   "metadata": {
    "run_control": {
     "frozen": false,
     "read_only": false
    },
    "solution2": "hidden",
    "solution2_first": true
   },
   "source": [
    "**Correction**"
   ]
  },
  {
   "cell_type": "code",
   "execution_count": null,
   "metadata": {
    "run_control": {
     "frozen": false,
     "read_only": false
    },
    "scrolled": false,
    "solution2": "hidden",
    "vscode": {
     "languageId": "r"
    }
   },
   "outputs": [],
   "source": [
    "set.seed(42)\n",
    "regfit.best=regsubsets(Salary~.,data=Train,nvmax=19)\n",
    "test.mat=model.matrix(Salary~.,data=Test)\n",
    "val.errors=rep(NA,19)\n",
    "for(i in 1:19){\n",
    "  coeff=coef(regfit.best,id=i)\n",
    "  pred=test.mat[,names(coeff)]%*%coeff # dot product of coeficients is the\n",
    "                                       # prediction\n",
    "  val.errors[i]=mean((Test$Salary-pred)^2)\n",
    "}\n",
    "val.errors\n",
    "which.min(val.errors)\n",
    "coef(regfit.best,which.min(val.errors))"
   ]
  },
  {
   "cell_type": "markdown",
   "metadata": {
    "run_control": {
     "frozen": false,
     "read_only": false
    }
   },
   "source": [
    "### Validation croisée"
   ]
  },
  {
   "cell_type": "markdown",
   "metadata": {
    "run_control": {
     "frozen": false,
     "read_only": false
    }
   },
   "source": [
    "On peut également procéder par validation croisée, afin d'améliorer la qualité d'apprentissage et de d'estimation de l'erreur de prédction. Comme déjà indiqué, l'un des soucis est que regsubset ne dispose pas de fonction de prédiction. Qu'à ça ne tienne, on peut en définir une, et on vous la donne toute faite, cela vous évitera de la peine."
   ]
  },
  {
   "cell_type": "code",
   "execution_count": 226,
   "metadata": {
    "collapsed": true,
    "run_control": {
     "frozen": false,
     "read_only": false
    },
    "vscode": {
     "languageId": "r"
    }
   },
   "outputs": [],
   "source": [
    "predict.regsubsets=function(object,newdata,id,...){ \n",
    "  form=as.formula(object$call[[2]]) ## extract formula\n",
    "  mat=model.matrix(form,newdata) # compute the X matrix\n",
    "  coefi=coef(object,id=id) # coefs\n",
    "  xvars=names(coefi) \n",
    "  mat[,xvars]%*%coefi  # prediction\n",
    "}"
   ]
  },
  {
   "cell_type": "markdown",
   "metadata": {
    "run_control": {
     "frozen": false,
     "read_only": false
    }
   },
   "source": [
    "Il va nous falloir mettre en oeuvre la validation croisée. Il n'y a pas non plus (à la connaissance du rédacteur) de fonction toute faite. Il faut donc\n",
    "\n",
    "1. Définir les différents sous-ensembles *folds*. Si on veut une validation croisée d'ordre $k$, il suffit d'une commande du type\n",
    "```\n",
    "folds=sample(1:k,nrow(Hitters),replace=TRUE)\n",
    "```\n",
    "2. Pour chaque *fold* $j$, faire l'apprentissage sur les $k-j$ sous-ensemble restants, et calculer la prédiction et l'erreur associée sur le $j^\\mathrm{e}$ segment, et ce pour chacun de ordres de modèle. Stocker les résultats dans une matrice cv.errors de dimension $k\\times \\mathrm{ordre max}$.\n",
    "3. Faire la moyenne de cette matrice sur les colonnes, de façon à récupérer la moyenne des erreurs estimées à un ordre donné. \n",
    "\n"
   ]
  },
  {
   "cell_type": "code",
   "execution_count": 227,
   "metadata": {
    "collapsed": true,
    "run_control": {
     "frozen": false,
     "read_only": false
    },
    "vscode": {
     "languageId": "r"
    }
   },
   "outputs": [
    {
     "data": {
      "text/html": [
       "<style>\n",
       ".dl-inline {width: auto; margin:0; padding: 0}\n",
       ".dl-inline>dt, .dl-inline>dd {float: none; width: auto; display: inline-block}\n",
       ".dl-inline>dt::after {content: \":\\0020\"; padding-right: .5ex}\n",
       ".dl-inline>dt:not(:first-of-type) {padding-left: .5ex}\n",
       "</style><dl class=dl-inline><dt>1</dt><dd>143641.213337157</dd><dt>2</dt><dd>120041.603987879</dd><dt>3</dt><dd>133376.376567445</dd><dt>4</dt><dd>139694.515826242</dd><dt>5</dt><dd>131719.864415313</dd><dt>6</dt><dd>116453.957860724</dd><dt>7</dt><dd>123331.881928466</dd><dt>8</dt><dd>114363.210698602</dd><dt>9</dt><dd>111726.474328919</dd><dt>10</dt><dd>108118.044805865</dd><dt>11</dt><dd>109633.29846822</dd><dt>12</dt><dd>108981.808438823</dd><dt>13</dt><dd>109671.685724564</dd><dt>14</dt><dd>109752.412861501</dd><dt>15</dt><dd>110231.658842769</dd><dt>16</dt><dd>110588.126291833</dd><dt>17</dt><dd>110961.772768786</dd><dt>18</dt><dd>110892.905086797</dd><dt>19</dt><dd>111003.394268115</dd></dl>\n"
      ],
      "text/latex": [
       "\\begin{description*}\n",
       "\\item[1] 143641.213337157\n",
       "\\item[2] 120041.603987879\n",
       "\\item[3] 133376.376567445\n",
       "\\item[4] 139694.515826242\n",
       "\\item[5] 131719.864415313\n",
       "\\item[6] 116453.957860724\n",
       "\\item[7] 123331.881928466\n",
       "\\item[8] 114363.210698602\n",
       "\\item[9] 111726.474328919\n",
       "\\item[10] 108118.044805865\n",
       "\\item[11] 109633.29846822\n",
       "\\item[12] 108981.808438823\n",
       "\\item[13] 109671.685724564\n",
       "\\item[14] 109752.412861501\n",
       "\\item[15] 110231.658842769\n",
       "\\item[16] 110588.126291833\n",
       "\\item[17] 110961.772768786\n",
       "\\item[18] 110892.905086797\n",
       "\\item[19] 111003.394268115\n",
       "\\end{description*}\n"
      ],
      "text/markdown": [
       "1\n",
       ":   143641.2133371572\n",
       ":   120041.6039878793\n",
       ":   133376.3765674454\n",
       ":   139694.5158262425\n",
       ":   131719.8644153136\n",
       ":   116453.9578607247\n",
       ":   123331.8819284668\n",
       ":   114363.2106986029\n",
       ":   111726.47432891910\n",
       ":   108118.04480586511\n",
       ":   109633.2984682212\n",
       ":   108981.80843882313\n",
       ":   109671.68572456414\n",
       ":   109752.41286150115\n",
       ":   110231.65884276916\n",
       ":   110588.12629183317\n",
       ":   110961.77276878618\n",
       ":   110892.90508679719\n",
       ":   111003.394268115\n",
       "\n"
      ],
      "text/plain": [
       "       1        2        3        4        5        6        7        8 \n",
       "143641.2 120041.6 133376.4 139694.5 131719.9 116454.0 123331.9 114363.2 \n",
       "       9       10       11       12       13       14       15       16 \n",
       "111726.5 108118.0 109633.3 108981.8 109671.7 109752.4 110231.7 110588.1 \n",
       "      17       18       19 \n",
       "110961.8 110892.9 111003.4 "
      ]
     },
     "metadata": {},
     "output_type": "display_data"
    },
    {
     "data": {
      "text/html": [
       "<strong>10:</strong> 10"
      ],
      "text/latex": [
       "\\textbf{10:} 10"
      ],
      "text/markdown": [
       "**10:** 10"
      ],
      "text/plain": [
       "10 \n",
       "10 "
      ]
     },
     "metadata": {},
     "output_type": "display_data"
    }
   ],
   "source": [
    "k=10\n",
    "set.seed(42)\n",
    "folds=sample(1:k,nrow(Hitters),replace=TRUE)\n",
    "cv.errors=matrix(NA,k,19,dimnames=list(NULL,paste(1:19)))\n",
    "\n",
    "for(j in 1:k){\n",
    "  best.fit=regsubsets(Salary~.,data=Hitters[folds!=j,],nvmax=19)\n",
    "  for(i in 1:19){\n",
    "    pred=predict(best.fit,Hitters[folds==j,],id=i)\n",
    "    cv.errors[j,i]=mean((Hitters$Salary[folds==j]-pred)^2)\n",
    "  }\n",
    "}\n",
    "\n",
    "mean.cv.errors=apply(cv.errors,2,mean)\n",
    "mean.cv.errors\n",
    "which.min(mean.cv.errors)\n"
   ]
  },
  {
   "cell_type": "markdown",
   "metadata": {
    "run_control": {
     "frozen": false,
     "read_only": false
    },
    "solution2": "hidden",
    "solution2_first": true
   },
   "source": [
    "**Correction**"
   ]
  },
  {
   "cell_type": "code",
   "execution_count": null,
   "metadata": {
    "run_control": {
     "frozen": false,
     "read_only": false
    },
    "solution2": "hidden",
    "vscode": {
     "languageId": "r"
    }
   },
   "outputs": [],
   "source": [
    "k=10\n",
    "set.seed(42)\n",
    "folds=sample(1:k,nrow(Hitters),replace=TRUE)\n",
    "cv.errors=matrix(NA,k,19,dimnames=list(NULL,paste(1:19)))\n",
    "\n",
    "for(j in 1:k){\n",
    "  best.fit=regsubsets(Salary~.,data=Hitters[folds!=j,],nvmax=19)\n",
    "  for(i in 1:19){\n",
    "    pred=predict(best.fit,Hitters[folds==j,],id=i)\n",
    "    cv.errors[j,i]=mean((Hitters$Salary[folds==j]-pred)^2)\n",
    "  }\n",
    "}\n",
    "\n",
    "mean.cv.errors=apply(cv.errors,2,mean)\n",
    "mean.cv.errors\n",
    "which.min(mean.cv.errors)\n"
   ]
  },
  {
   "cell_type": "code",
   "execution_count": null,
   "metadata": {
    "vscode": {
     "languageId": "r"
    }
   },
   "outputs": [],
   "source": []
  },
  {
   "cell_type": "markdown",
   "metadata": {
    "run_control": {
     "frozen": false,
     "read_only": false
    },
    "solution2": "hidden",
    "solution2_first": true
   },
   "source": [
    "Tracer la courbe de l'erreur moyenne en fonction de l'ordre, en indiquant l'abscisse du minimum. "
   ]
  },
  {
   "cell_type": "code",
   "execution_count": 228,
   "metadata": {
    "run_control": {
     "frozen": false,
     "read_only": false
    },
    "solution2": "hidden",
    "vscode": {
     "languageId": "r"
    }
   },
   "outputs": [
    {
     "data": {
      "image/png": "[encoded data removed]",
      "text/plain": [
       "plot without title"
      ]
     },
     "metadata": {
      "image/png": {
       "height": 420,
       "width": 420
      }
     },
     "output_type": "display_data"
    }
   ],
   "source": [
    "par(mfrow=c(1,1))\n",
    "plot(mean.cv.errors,type='b')\n",
    "points(which.min(mean.cv.errors),mean.cv.errors[which.min(mean.cv.errors)],\n",
    "       col=\"red\",cex=2,pch=20)"
   ]
  },
  {
   "cell_type": "markdown",
   "metadata": {
    "run_control": {
     "frozen": false,
     "read_only": false
    }
   },
   "source": [
    "Enfin, il ne resterait plus qu'à recalculer le modèle, au bon ordre, sur la base complète. "
   ]
  },
  {
   "cell_type": "code",
   "execution_count": 229,
   "metadata": {
    "run_control": {
     "frozen": false,
     "read_only": false
    },
    "vscode": {
     "languageId": "r"
    }
   },
   "outputs": [
    {
     "data": {
      "text/html": [
       "<style>\n",
       ".dl-inline {width: auto; margin:0; padding: 0}\n",
       ".dl-inline>dt, .dl-inline>dd {float: none; width: auto; display: inline-block}\n",
       ".dl-inline>dt::after {content: \":\\0020\"; padding-right: .5ex}\n",
       ".dl-inline>dt:not(:first-of-type) {padding-left: .5ex}\n",
       "</style><dl class=dl-inline><dt>(Intercept)</dt><dd>162.535442040545</dd><dt>AtBat</dt><dd>-2.16865005340437</dd><dt>Hits</dt><dd>6.91801749476659</dd><dt>Walks</dt><dd>5.7732246470264</dd><dt>CAtBat</dt><dd>-0.130079783913646</dd><dt>CRuns</dt><dd>1.40824900877044</dd><dt>CRBI</dt><dd>0.774312153250204</dd><dt>CWalks</dt><dd>-0.830826351501743</dd><dt>DivisionW</dt><dd>-112.380057493543</dd><dt>PutOuts</dt><dd>0.297372596603942</dd><dt>Assists</dt><dd>0.283168028635278</dd></dl>\n"
      ],
      "text/latex": [
       "\\begin{description*}\n",
       "\\item[(Intercept)] 162.535442040545\n",
       "\\item[AtBat] -2.16865005340437\n",
       "\\item[Hits] 6.91801749476659\n",
       "\\item[Walks] 5.7732246470264\n",
       "\\item[CAtBat] -0.130079783913646\n",
       "\\item[CRuns] 1.40824900877044\n",
       "\\item[CRBI] 0.774312153250204\n",
       "\\item[CWalks] -0.830826351501743\n",
       "\\item[DivisionW] -112.380057493543\n",
       "\\item[PutOuts] 0.297372596603942\n",
       "\\item[Assists] 0.283168028635278\n",
       "\\end{description*}\n"
      ],
      "text/markdown": [
       "(Intercept)\n",
       ":   162.535442040545AtBat\n",
       ":   -2.16865005340437Hits\n",
       ":   6.91801749476659Walks\n",
       ":   5.7732246470264CAtBat\n",
       ":   -0.130079783913646CRuns\n",
       ":   1.40824900877044CRBI\n",
       ":   0.774312153250204CWalks\n",
       ":   -0.830826351501743DivisionW\n",
       ":   -112.380057493543PutOuts\n",
       ":   0.297372596603942Assists\n",
       ":   0.283168028635278\n",
       "\n"
      ],
      "text/plain": [
       " (Intercept)        AtBat         Hits        Walks       CAtBat        CRuns \n",
       " 162.5354420   -2.1686501    6.9180175    5.7732246   -0.1300798    1.4082490 \n",
       "        CRBI       CWalks    DivisionW      PutOuts      Assists \n",
       "   0.7743122   -0.8308264 -112.3800575    0.2973726    0.2831680 "
      ]
     },
     "metadata": {},
     "output_type": "display_data"
    }
   ],
   "source": [
    "reg.best = regsubsets(Salary ~ ., data = Hitters, nvmax = 19)\n",
    "coef(reg.best, which.min(mean.cv.errors))"
   ]
  },
  {
   "cell_type": "markdown",
   "metadata": {
    "run_control": {
     "frozen": false,
     "read_only": false
    }
   },
   "source": [
    "# Ridge regression et Lasso"
   ]
  },
  {
   "cell_type": "markdown",
   "metadata": {
    "run_control": {
     "frozen": false,
     "read_only": false
    }
   },
   "source": [
    "## Position du problème - Package utilisé\n",
    "\n",
    "Nous utiliserons le package `glmnet` de manière à calculer les régressions ridge et lasso.\n",
    "Vous devrez probablement installer le package correspondant via \n",
    "```\n",
    " install.packages(\"glmnet\")\n",
    "```\n",
    "La fonction `glmnet` a bien entendu une syntaxe différente des autres, pour que ce soit simple. C'est R. On doit passser une matrice X et un vecteur y et on ne peut malheureusement pas utiliser la syntaxe en formules y ~ x. On cherche donc à prédire la variable `Salary` en fonction du reste. "
   ]
  },
  {
   "cell_type": "markdown",
   "metadata": {
    "run_control": {
     "frozen": false,
     "read_only": false
    }
   },
   "source": [
    "La conversion en format matriciel se fait via la fonction `model.matrix`, qui, au passage, convertit les variables catégorielles en \"dummy\" variables. "
   ]
  },
  {
   "cell_type": "code",
   "execution_count": 230,
   "metadata": {
    "collapsed": true,
    "run_control": {
     "frozen": false,
     "read_only": false
    },
    "vscode": {
     "languageId": "r"
    }
   },
   "outputs": [],
   "source": [
    "X= model.matrix(Salary~.,Hitters)[,-1]\n",
    "y= Hitters$Salary"
   ]
  },
  {
   "cell_type": "code",
   "execution_count": 231,
   "metadata": {
    "run_control": {
     "frozen": false,
     "read_only": false
    },
    "vscode": {
     "languageId": "r"
    }
   },
   "outputs": [
    {
     "name": "stderr",
     "output_type": "stream",
     "text": [
      "Warning message:\n",
      "\"package 'glmnet' was built under R version 4.1.3\"\n",
      "Loading required package: Matrix\n",
      "\n",
      "Loaded glmnet 4.1-3\n",
      "\n"
     ]
    }
   ],
   "source": [
    "library(glmnet)"
   ]
  },
  {
   "cell_type": "markdown",
   "metadata": {
    "run_control": {
     "frozen": false,
     "read_only": false
    }
   },
   "source": [
    "Consulter l'aide de `glmnet()`. "
   ]
  },
  {
   "cell_type": "code",
   "execution_count": 232,
   "metadata": {
    "collapsed": true,
    "run_control": {
     "frozen": false,
     "read_only": false
    },
    "vscode": {
     "languageId": "r"
    }
   },
   "outputs": [
    {
     "name": "stdout",
     "output_type": "stream",
     "text": [
      "glmnet                 package:glmnet                  R Documentation\n",
      "\n",
      "_\bf_\bi_\bt _\ba _\bG_\bL_\bM _\bw_\bi_\bt_\bh _\bl_\ba_\bs_\bs_\bo _\bo_\br _\be_\bl_\ba_\bs_\bt_\bi_\bc_\bn_\be_\bt _\br_\be_\bg_\bu_\bl_\ba_\br_\bi_\bz_\ba_\bt_\bi_\bo_\bn\n",
      "\n",
      "_\bD_\be_\bs_\bc_\br_\bi_\bp_\bt_\bi_\bo_\bn:\n",
      "\n",
      "     Fit a generalized linear model via penalized maximum likelihood.\n",
      "     The regularization path is computed for the lasso or elasticnet\n",
      "     penalty at a grid of values for the regularization parameter\n",
      "     lambda. Can deal with all shapes of data, including very large\n",
      "     sparse data matrices. Fits linear, logistic and multinomial,\n",
      "     poisson, and Cox regression models.\n",
      "\n",
      "_\bU_\bs_\ba_\bg_\be:\n",
      "\n",
      "     glmnet(\n",
      "       x,\n",
      "       y,\n",
      "       family = c(\"gaussian\", \"binomial\", \"poisson\", \"multinomial\", \"cox\", \"mgaussian\"),\n",
      "       weights = NULL,\n",
      "       offset = NULL,\n",
      "       alpha = 1,\n",
      "       nlambda = 100,\n",
      "       lambda.min.ratio = ifelse(nobs < nvars, 0.01, 1e-04),\n",
      "       lambda = NULL,\n",
      "       standardize = TRUE,\n",
      "       intercept = TRUE,\n",
      "       thresh = 1e-07,\n",
      "       dfmax = nvars + 1,\n",
      "       pmax = min(dfmax * 2 + 20, nvars),\n",
      "       exclude = NULL,\n",
      "       penalty.factor = rep(1, nvars),\n",
      "       lower.limits = -Inf,\n",
      "       upper.limits = Inf,\n",
      "       maxit = 1e+05,\n",
      "       type.gaussian = ifelse(nvars < 500, \"covariance\", \"naive\"),\n",
      "       type.logistic = c(\"Newton\", \"modified.Newton\"),\n",
      "       standardize.response = FALSE,\n",
      "       type.multinomial = c(\"ungrouped\", \"grouped\"),\n",
      "       relax = FALSE,\n",
      "       trace.it = 0,\n",
      "       ...\n",
      "     )\n",
      "     \n",
      "     relax.glmnet(fit, x, ..., maxp = n - 3, path = FALSE, check.args = TRUE)\n",
      "     \n",
      "_\bA_\br_\bg_\bu_\bm_\be_\bn_\bt_\bs:\n",
      "\n",
      "       x: input matrix, of dimension nobs x nvars; each row is an\n",
      "          observation vector. Can be in sparse matrix format (inherit\n",
      "          from class '\"sparseMatrix\"' as in package 'Matrix')\n",
      "\n",
      "       y: response variable. Quantitative for 'family=\"gaussian\"', or\n",
      "          'family=\"poisson\"' (non-negative counts). For\n",
      "          'family=\"binomial\"' should be either a factor with two\n",
      "          levels, or a two-column matrix of counts or proportions (the\n",
      "          second column is treated as the target class; for a factor,\n",
      "          the last level in alphabetical order is the target class).\n",
      "          For 'family=\"multinomial\"', can be a 'nc>=2' level factor, or\n",
      "          a matrix with 'nc' columns of counts or proportions. For\n",
      "          either '\"binomial\"' or '\"multinomial\"', if 'y' is presented\n",
      "          as a vector, it will be coerced into a factor. For\n",
      "          'family=\"cox\"', preferably a 'Surv' object from the survival\n",
      "          package: see Details section for more information. For\n",
      "          'family=\"mgaussian\"', 'y' is a matrix of quantitative\n",
      "          responses.\n",
      "\n",
      "  family: Either a character string representing one of the built-in\n",
      "          families, or else a 'glm()' family object. For more\n",
      "          information, see Details section below or the documentation\n",
      "          for response type (above).\n",
      "\n",
      " weights: observation weights. Can be total counts if responses are\n",
      "          proportion matrices. Default is 1 for each observation\n",
      "\n",
      "  offset: A vector of length 'nobs' that is included in the linear\n",
      "          predictor (a 'nobs x nc' matrix for the '\"multinomial\"'\n",
      "          family). Useful for the '\"poisson\"' family (e.g. log of\n",
      "          exposure time), or for refining a model by starting at a\n",
      "          current fit. Default is 'NULL'. If supplied, then values must\n",
      "          also be supplied to the 'predict' function.\n",
      "\n",
      "   alpha: The elasticnet mixing parameter, with 0<=alpha<= 1. The\n",
      "          penalty is defined as\n",
      "\n",
      "                     (1-alpha)/2||beta||_2^2+alpha||beta||_1.           \n",
      "          \n",
      "          'alpha=1' is the lasso penalty, and 'alpha=0' the ridge\n",
      "          penalty.\n",
      "\n",
      " nlambda: The number of 'lambda' values - default is 100.\n",
      "\n",
      "lambda.min.ratio: Smallest value for 'lambda', as a fraction of\n",
      "          'lambda.max', the (data derived) entry value (i.e. the\n",
      "          smallest value for which all coefficients are zero). The\n",
      "          default depends on the sample size 'nobs' relative to the\n",
      "          number of variables 'nvars'. If 'nobs > nvars', the default\n",
      "          is '0.0001', close to zero.  If 'nobs < nvars', the default\n",
      "          is '0.01'.  A very small value of 'lambda.min.ratio' will\n",
      "          lead to a saturated fit in the 'nobs < nvars' case. This is\n",
      "          undefined for '\"binomial\"' and '\"multinomial\"' models, and\n",
      "          'glmnet' will exit gracefully when the percentage deviance\n",
      "          explained is almost 1.\n",
      "\n",
      "  lambda: A user supplied 'lambda' sequence. Typical usage is to have\n",
      "          the program compute its own 'lambda' sequence based on\n",
      "          'nlambda' and 'lambda.min.ratio'. Supplying a value of\n",
      "          'lambda' overrides this. WARNING: use with care. Avoid\n",
      "          supplying a single value for 'lambda' (for predictions after\n",
      "          CV use 'predict()' instead).  Supply instead a decreasing\n",
      "          sequence of 'lambda' values. 'glmnet' relies on its warms\n",
      "          starts for speed, and its often faster to fit a whole path\n",
      "          than compute a single fit.\n",
      "\n",
      "standardize: Logical flag for x variable standardization, prior to\n",
      "          fitting the model sequence. The coefficients are always\n",
      "          returned on the original scale. Default is\n",
      "          'standardize=TRUE'.  If variables are in the same units\n",
      "          already, you might not wish to standardize. See details below\n",
      "          for y standardization with 'family=\"gaussian\"'.\n",
      "\n",
      "intercept: Should intercept(s) be fitted (default=TRUE) or set to zero\n",
      "          (FALSE)\n",
      "\n",
      "  thresh: Convergence threshold for coordinate descent. Each inner\n",
      "          coordinate-descent loop continues until the maximum change in\n",
      "          the objective after any coefficient update is less than\n",
      "          'thresh' times the null deviance. Defaults value is '1E-7'.\n",
      "\n",
      "   dfmax: Limit the maximum number of variables in the model. Useful\n",
      "          for very large 'nvars', if a partial path is desired.\n",
      "\n",
      "    pmax: Limit the maximum number of variables ever to be nonzero\n",
      "\n",
      " exclude: Indices of variables to be excluded from the model. Default\n",
      "          is none. Equivalent to an infinite penalty factor for the\n",
      "          variables excluded (next item). Users can supply instead an\n",
      "          'exclude' function that generates the list of indices. This\n",
      "          function is most generally defined as 'function(x, y,\n",
      "          weights, ...)', and is called inside 'glmnet' to generate the\n",
      "          indices for excluded variables. The '...' argument is\n",
      "          required, the others are optional. This is useful for\n",
      "          filtering wide data, and works correctly with 'cv.glmnet'.\n",
      "          See the vignette 'Introduction' for examples.\n",
      "\n",
      "penalty.factor: Separate penalty factors can be applied to each\n",
      "          coefficient. This is a number that multiplies 'lambda' to\n",
      "          allow differential shrinkage. Can be 0 for some variables,\n",
      "          which implies no shrinkage, and that variable is always\n",
      "          included in the model. Default is 1 for all variables (and\n",
      "          implicitly infinity for variables listed in 'exclude'). Note:\n",
      "          the penalty factors are internally rescaled to sum to nvars,\n",
      "          and the lambda sequence will reflect this change.\n",
      "\n",
      "lower.limits: Vector of lower limits for each coefficient; default\n",
      "          '-Inf'. Each of these must be non-positive. Can be presented\n",
      "          as a single value (which will then be replicated), else a\n",
      "          vector of length 'nvars'\n",
      "\n",
      "upper.limits: Vector of upper limits for each coefficient; default\n",
      "          'Inf'. See 'lower.limits'\n",
      "\n",
      "   maxit: Maximum number of passes over the data for all lambda values;\n",
      "          default is 10^5.\n",
      "\n",
      "type.gaussian: Two algorithm types are supported for (only)\n",
      "          'family=\"gaussian\"'. The default when 'nvar<500' is\n",
      "          'type.gaussian=\"covariance\"', and saves all inner-products\n",
      "          ever computed. This can be much faster than\n",
      "          'type.gaussian=\"naive\"', which loops through 'nobs' every\n",
      "          time an inner-product is computed. The latter can be far more\n",
      "          efficient for 'nvar >> nobs' situations, or when 'nvar >\n",
      "          500'.\n",
      "\n",
      "type.logistic: If '\"Newton\"' then the exact hessian is used (default),\n",
      "          while '\"modified.Newton\"' uses an upper-bound on the hessian,\n",
      "          and can be faster.\n",
      "\n",
      "standardize.response: This is for the 'family=\"mgaussian\"' family, and\n",
      "          allows the user to standardize the response variables\n",
      "\n",
      "type.multinomial: If '\"grouped\"' then a grouped lasso penalty is used\n",
      "          on the multinomial coefficients for a variable. This ensures\n",
      "          they are all in our out together. The default is\n",
      "          '\"ungrouped\"'\n",
      "\n",
      "   relax: If 'TRUE' then for each _active set_ in the path of\n",
      "          solutions, the model is refit without any regularization. See\n",
      "          'details' for more information. This argument is new, and\n",
      "          users may experience convergence issues with small datasets,\n",
      "          especially with non-gaussian families. Limiting the value of\n",
      "          'maxp' can alleviate these issues in some cases.\n",
      "\n",
      "trace.it: If 'trace.it=1', then a progress bar is displayed; useful for\n",
      "          big models that take a long time to fit.\n",
      "\n",
      "     ...: Additional argument used in 'relax.glmnet'. These include\n",
      "          some of the original arguments to 'glmnet', and each must be\n",
      "          named if used.\n",
      "\n",
      "     fit: For 'relax.glmnet' a fitted 'glmnet' object\n",
      "\n",
      "    maxp: a limit on how many relaxed coefficients are allowed. Default\n",
      "          is 'n-3', where 'n' is the sample size. This may not be\n",
      "          sufficient for non-gaussian familes, in which case users\n",
      "          should supply a smaller value. This argument can be supplied\n",
      "          directly to 'glmnet'.\n",
      "\n",
      "    path: Since 'glmnet' does not do stepsize optimization, the Newton\n",
      "          algorithm can get stuck and not converge, especially with\n",
      "          relaxed fits. With 'path=TRUE', each relaxed fit on a\n",
      "          particular set of variables is computed pathwise using the\n",
      "          original sequence of lambda values (with a zero attached to\n",
      "          the end). Not needed for Gaussian models, and should not be\n",
      "          used unless needed, since will lead to longer compute times.\n",
      "          Default is 'path=FALSE'. appropriate subset of variables\n",
      "\n",
      "check.args: Should 'relax.glmnet' make sure that all the data dependent\n",
      "          arguments used in creating 'fit' have been resupplied.\n",
      "          Default is 'TRUE'.\n",
      "\n",
      "_\bD_\be_\bt_\ba_\bi_\bl_\bs:\n",
      "\n",
      "     The sequence of models implied by 'lambda' is fit by coordinate\n",
      "     descent. For 'family=\"gaussian\"' this is the lasso sequence if\n",
      "     'alpha=1', else it is the elasticnet sequence.\n",
      "\n",
      "     The objective function for '\"gaussian\"' is\n",
      "\n",
      "                        1/2 RSS/nobs +lambda*penalty,                   \n",
      "     \n",
      "     and for the other models it is\n",
      "\n",
      "                        -loglik/nobs +lambda*penalty.                   \n",
      "     \n",
      "     Note also that for '\"gaussian\"', 'glmnet' standardizes y to have\n",
      "     unit variance (using 1/n rather than 1/(n-1) formula) before\n",
      "     computing its lambda sequence (and then unstandardizes the\n",
      "     resulting coefficients); if you wish to reproduce/compare results\n",
      "     with other software, best to supply a standardized y. The\n",
      "     coefficients for any predictor variables with zero variance are\n",
      "     set to zero for all values of lambda.\n",
      "\n",
      "  _\bD_\be_\bt_\ba_\bi_\bl_\bs _\bo_\bn '_\bf_\ba_\bm_\bi_\bl_\by' _\bo_\bp_\bt_\bi_\bo_\bn:\n",
      "\n",
      "       From version 4.0 onwards, glmnet supports both the original\n",
      "       built-in families, as well as _any_ family object as used by\n",
      "       'stats:glm()'. This opens the door to a wide variety of\n",
      "       additional models. For example 'family=binomial(link=cloglog)'\n",
      "       or 'family=negative.binomial(theta=1.5)' (from the MASS\n",
      "       library). Note that the code runs faster for the built-in\n",
      "       families.\n",
      "\n",
      "       The built in families are specifed via a character string. For\n",
      "       all families, the object produced is a lasso or elasticnet\n",
      "       regularization path for fitting the generalized linear\n",
      "       regression paths, by maximizing the appropriate penalized\n",
      "       log-likelihood (partial likelihood for the \"cox\" model).\n",
      "       Sometimes the sequence is truncated before 'nlambda' values of\n",
      "       'lambda' have been used, because of instabilities in the inverse\n",
      "       link functions near a saturated fit.\n",
      "       'glmnet(...,family=\"binomial\")' fits a traditional logistic\n",
      "       regression model for the log-odds.\n",
      "       'glmnet(...,family=\"multinomial\")' fits a symmetric multinomial\n",
      "       model, where each class is represented by a linear model (on the\n",
      "       log-scale). The penalties take care of redundancies. A two-class\n",
      "       '\"multinomial\"' model will produce the same fit as the\n",
      "       corresponding '\"binomial\"' model, except the pair of coefficient\n",
      "       matrices will be equal in magnitude and opposite in sign, and\n",
      "       half the '\"binomial\"' values. Two useful additional families are\n",
      "       the 'family=\"mgaussian\"' family and the\n",
      "       'type.multinomial=\"grouped\"' option for multinomial fitting. The\n",
      "       former allows a multi-response gaussian model to be fit, using a\n",
      "       \"group -lasso\" penalty on the coefficients for each variable.\n",
      "       Tying the responses together like this is called \"multi-task\"\n",
      "       learning in some domains. The grouped multinomial allows the\n",
      "       same penalty for the 'family=\"multinomial\"' model, which is also\n",
      "       multi-responsed. For both of these the penalty on the\n",
      "       coefficient vector for variable j is\n",
      "\n",
      "                 (1-alpha)/2||beta_j||_2^2+alpha||beta_j||_2.           \n",
      "       \n",
      "       When 'alpha=1' this is a group-lasso penalty, and otherwise it\n",
      "       mixes with quadratic just like elasticnet. A small detail in the\n",
      "       Cox model: if death times are tied with censored times, we\n",
      "       assume the censored times occurred just _before_ the death times\n",
      "       in computing the Breslow approximation; if users prefer the\n",
      "       usual convention of _after_, they can add a small number to all\n",
      "       censoring times to achieve this effect.\n",
      "\n",
      "\n",
      "  _\bD_\be_\bt_\ba_\bi_\bl_\bs _\bo_\bn _\br_\be_\bs_\bp_\bo_\bn_\bs_\be _\bf_\bo_\br '_\bf_\ba_\bm_\bi_\bl_\by=\"_\bc_\bo_\bx\"':\n",
      "\n",
      "       For Cox models, the response should preferably be a 'Surv'\n",
      "       object, created by the 'Surv()' function in 'survival' package.\n",
      "       For right-censored data, this object should have type \"right\",\n",
      "       and for (start, stop] data, it should have type \"counting\". To\n",
      "       fit stratified Cox models, strata should be added to the\n",
      "       response via the 'stratifySurv()' function before passing the\n",
      "       response to 'glmnet()'. (For backward compatibility,\n",
      "       right-censored data can also be passed as a two-column matrix\n",
      "       with columns named 'time' and 'status'. The latter is a binary\n",
      "       variable, with '1' indicating death, and '0' indicating right\n",
      "       censored.)\n",
      "\n",
      "\n",
      "  _\bD_\be_\bt_\ba_\bi_\bl_\bs _\bo_\bn '_\br_\be_\bl_\ba_\bx' _\bo_\bp_\bt_\bi_\bo_\bn:\n",
      "\n",
      "       If 'relax=TRUE' a duplicate sequence of models is produced,\n",
      "       where each active set in the elastic-net path is refit without\n",
      "       regularization. The result of this is a matching '\"glmnet\"'\n",
      "       object which is stored on the original object in a component\n",
      "       named '\"relaxed\"', and is part of the glmnet output. Generally\n",
      "       users will not call 'relax.glmnet' directly, unless the original\n",
      "       'glmnet' object took a long time to fit. But if they do, they\n",
      "       must supply the fit, and all the original arguments used to\n",
      "       create that fit. They can limit the length of the relaxed path\n",
      "       via 'maxp'.\n",
      "\n",
      "\n",
      "_\bV_\ba_\bl_\bu_\be:\n",
      "\n",
      "     An object with S3 class '\"glmnet\",\"*\" ', where '\"*\"' is '\"elnet\"',\n",
      "     '\"lognet\"', '\"multnet\"', '\"fishnet\"' (poisson), '\"coxnet\"' or\n",
      "     '\"mrelnet\"' for the various types of models. If the model was\n",
      "     created with 'relax=TRUE' then this class has a prefix class of\n",
      "     '\"relaxed\"'.\n",
      "\n",
      "    call: the call that produced this object\n",
      "\n",
      "      a0: Intercept sequence of length 'length(lambda)'\n",
      "\n",
      "    beta: For '\"elnet\"', '\"lognet\"', '\"fishnet\"' and '\"coxnet\"' models,\n",
      "          a 'nvars x length(lambda)' matrix of coefficients, stored in\n",
      "          sparse column format ('\"CsparseMatrix\"'). For '\"multnet\"' and\n",
      "          '\"mgaussian\"', a list of 'nc' such matrices, one for each\n",
      "          class.\n",
      "\n",
      "  lambda: The actual sequence of 'lambda' values used. When 'alpha=0',\n",
      "          the largest lambda reported does not quite give the zero\n",
      "          coefficients reported ('lambda=inf' would in principle).\n",
      "          Instead, the largest 'lambda' for 'alpha=0.001' is used, and\n",
      "          the sequence of 'lambda' values is derived from this.\n",
      "\n",
      "dev.ratio: The fraction of (null) deviance explained (for '\"elnet\"',\n",
      "          this is the R-square). The deviance calculations incorporate\n",
      "          weights if present in the model. The deviance is defined to\n",
      "          be 2*(loglike_sat - loglike), where loglike_sat is the\n",
      "          log-likelihood for the saturated model (a model with a free\n",
      "          parameter per observation). Hence dev.ratio=1-dev/nulldev.\n",
      "\n",
      " nulldev: Null deviance (per observation). This is defined to be\n",
      "          2*(loglike_sat -loglike(Null)); The NULL model refers to the\n",
      "          intercept model, except for the Cox, where it is the 0 model.\n",
      "\n",
      "      df: The number of nonzero coefficients for each value of\n",
      "          'lambda'. For '\"multnet\"', this is the number of variables\n",
      "          with a nonzero coefficient for _any_ class.\n",
      "\n",
      "   dfmat: For '\"multnet\"' and '\"mrelnet\"' only. A matrix consisting of\n",
      "          the number of nonzero coefficients per class\n",
      "\n",
      "     dim: dimension of coefficient matrix (ices)\n",
      "\n",
      "    nobs: number of observations\n",
      "\n",
      " npasses: total passes over the data summed over all lambda values\n",
      "\n",
      "  offset: a logical variable indicating whether an offset was included\n",
      "          in the model\n",
      "\n",
      "    jerr: error flag, for warnings and errors (largely for internal\n",
      "          debugging).\n",
      "\n",
      " relaxed: If 'relax=TRUE', this additional item is another glmnet\n",
      "          object with different values for 'beta' and 'dev.ratio'\n",
      "\n",
      "_\bA_\bu_\bt_\bh_\bo_\br(_\bs):\n",
      "\n",
      "     Jerome Friedman, Trevor Hastie, Balasubramanian Narasimhan, Noah\n",
      "     Simon, Kenneth Tay and Rob Tibshirani\n",
      "     Maintainer: Trevor Hastie <email: hastie@stanford.edu>\n",
      "\n",
      "_\bR_\be_\bf_\be_\br_\be_\bn_\bc_\be_\bs:\n",
      "\n",
      "     Friedman, J., Hastie, T. and Tibshirani, R. (2008) _Regularization\n",
      "     Paths for Generalized Linear Models via Coordinate Descent (2010),\n",
      "     Journal of Statistical Software, Vol. 33(1), 1-22_, <URL:\n",
      "     https://web.stanford.edu/~hastie/Papers/glmnet.pdf>.\n",
      "     Simon, N., Friedman, J., Hastie, T. and Tibshirani, R. (2011)\n",
      "     _Regularization Paths for Cox's Proportional Hazards Model via\n",
      "     Coordinate Descent, Journal of Statistical Software, Vol. 39(5),\n",
      "     1-13_, <URL: https://www.jstatsoft.org/v39/i05/>.\n",
      "     Tibshirani, Robert, Bien, J., Friedman, J., Hastie, T.,Simon,\n",
      "     N.,Taylor, J. and Tibshirani, Ryan. (2012) _Strong Rules for\n",
      "     Discarding Predictors in Lasso-type Problems, JRSSB, Vol. 74(2),\n",
      "     245-266_, <URL:\n",
      "     https://statweb.stanford.edu/~tibs/ftp/strong.pdf>.\n",
      "     Hastie, T., Tibshirani, Robert and Tibshirani, Ryan. _Extended\n",
      "     Comparisons of Best Subset Selection, Forward Stepwise Selection,\n",
      "     and the Lasso (2017), Stanford Statistics Technical Report_, <URL:\n",
      "     https://arxiv.org/abs/1707.08692>.\n",
      "     Glmnet webpage with four vignettes, <URL:\n",
      "     https://glmnet.stanford.edu>.\n",
      "\n",
      "_\bS_\be_\be _\bA_\bl_\bs_\bo:\n",
      "\n",
      "     'print', 'predict', 'coef' and 'plot' methods, and the 'cv.glmnet'\n",
      "     function.\n",
      "\n",
      "_\bE_\bx_\ba_\bm_\bp_\bl_\be_\bs:\n",
      "\n",
      "     # Gaussian\n",
      "     x = matrix(rnorm(100 * 20), 100, 20)\n",
      "     y = rnorm(100)\n",
      "     fit1 = glmnet(x, y)\n",
      "     print(fit1)\n",
      "     coef(fit1, s = 0.01)  # extract coefficients at a single value of lambda\n",
      "     predict(fit1, newx = x[1:10, ], s = c(0.01, 0.005))  # make predictions\n",
      "     \n",
      "     # Relaxed\n",
      "     fit1r = glmnet(x, y, relax = TRUE)  # can be used with any model\n",
      "     \n",
      "     # multivariate gaussian\n",
      "     y = matrix(rnorm(100 * 3), 100, 3)\n",
      "     fit1m = glmnet(x, y, family = \"mgaussian\")\n",
      "     plot(fit1m, type.coef = \"2norm\")\n",
      "     \n",
      "     # binomial\n",
      "     g2 = sample(c(0,1), 100, replace = TRUE)\n",
      "     fit2 = glmnet(x, g2, family = \"binomial\")\n",
      "     fit2n = glmnet(x, g2, family = binomial(link=cloglog))\n",
      "     fit2r = glmnet(x,g2, family = \"binomial\", relax=TRUE)\n",
      "     fit2rp = glmnet(x,g2, family = \"binomial\", relax=TRUE, path=TRUE)\n",
      "     \n",
      "     # multinomial\n",
      "     g4 = sample(1:4, 100, replace = TRUE)\n",
      "     fit3 = glmnet(x, g4, family = \"multinomial\")\n",
      "     fit3a = glmnet(x, g4, family = \"multinomial\", type.multinomial = \"grouped\")\n",
      "     # poisson\n",
      "     N = 500\n",
      "     p = 20\n",
      "     nzc = 5\n",
      "     x = matrix(rnorm(N * p), N, p)\n",
      "     beta = rnorm(nzc)\n",
      "     f = x[, seq(nzc)] %*% beta\n",
      "     mu = exp(f)\n",
      "     y = rpois(N, mu)\n",
      "     fit = glmnet(x, y, family = \"poisson\")\n",
      "     plot(fit)\n",
      "     pfit = predict(fit, x, s = 0.001, type = \"response\")\n",
      "     plot(pfit, y)\n",
      "     \n",
      "     # Cox\n",
      "     set.seed(10101)\n",
      "     N = 1000\n",
      "     p = 30\n",
      "     nzc = p/3\n",
      "     x = matrix(rnorm(N * p), N, p)\n",
      "     beta = rnorm(nzc)\n",
      "     fx = x[, seq(nzc)] %*% beta/3\n",
      "     hx = exp(fx)\n",
      "     ty = rexp(N, hx)\n",
      "     tcens = rbinom(n = N, prob = 0.3, size = 1)  # censoring indicator\n",
      "     y = cbind(time = ty, status = 1 - tcens)  # y=Surv(ty,1-tcens) with library(survival)\n",
      "     fit = glmnet(x, y, family = \"cox\")\n",
      "     plot(fit)\n",
      "     \n",
      "     # Cox example with (start, stop] data\n",
      "     set.seed(2)\n",
      "     nobs <- 100; nvars <- 15\n",
      "     xvec <- rnorm(nobs * nvars)\n",
      "     xvec[sample.int(nobs * nvars, size = 0.4 * nobs * nvars)] <- 0\n",
      "     x <- matrix(xvec, nrow = nobs)\n",
      "     start_time <- runif(100, min = 0, max = 5)\n",
      "     stop_time <- start_time + runif(100, min = 0.1, max = 3)\n",
      "     status <- rbinom(n = nobs, prob = 0.3, size = 1)\n",
      "     jsurv_ss <- survival::Surv(start_time, stop_time, status)\n",
      "     fit <- glmnet(x, jsurv_ss, family = \"cox\")\n",
      "     \n",
      "     # Cox example with strata\n",
      "     jsurv_ss2 <- stratifySurv(jsurv_ss, rep(1:2, each = 50))\n",
      "     fit <- glmnet(x, jsurv_ss2, family = \"cox\")\n",
      "     \n",
      "     # Sparse\n",
      "     n = 10000\n",
      "     p = 200\n",
      "     nzc = trunc(p/10)\n",
      "     x = matrix(rnorm(n * p), n, p)\n",
      "     iz = sample(1:(n * p), size = n * p * 0.85, replace = FALSE)\n",
      "     x[iz] = 0\n",
      "     sx = Matrix(x, sparse = TRUE)\n",
      "     inherits(sx, \"sparseMatrix\")  #confirm that it is sparse\n",
      "     beta = rnorm(nzc)\n",
      "     fx = x[, seq(nzc)] %*% beta\n",
      "     eps = rnorm(n)\n",
      "     y = fx + eps\n",
      "     px = exp(fx)\n",
      "     px = px/(1 + px)\n",
      "     ly = rbinom(n = length(px), prob = px, size = 1)\n",
      "     system.time(fit1 <- glmnet(sx, y))\n",
      "     system.time(fit2n <- glmnet(x, y))\n",
      "     "
     ]
    }
   ],
   "source": [
    "help(glmnet)"
   ]
  },
  {
   "cell_type": "markdown",
   "metadata": {
    "run_control": {
     "frozen": false,
     "read_only": false
    }
   },
   "source": [
    "La fonction `glmnet()` permet d'obtenir la solution à un problème d'optimisation du type\n",
    "$$\n",
    "J_\\lambda(\\beta) = J_\\lambda(\\beta) + \\lambda \\left( (1-\\alpha) \\|\\beta\\|_2^2 + \\alpha \\|\\beta\\|_1\\|  \\right) \n",
    "$$\n",
    "\n",
    "- Le Ridge est obtenu pour $\\alpha=0$ (valeur par défaut) ;\n",
    "- Le Lasso est obtenu pour $\\alpha=1$.\n",
    "\n",
    "La commande  `model=glmnet(..)` prévoit ensuite que l'on fournisse une grille de paramètres $\\lambda$ sur laquelle elle calcule les différents modèles. Il est ensuite possible d'accéder aux coefficients via la fonction `predict` selon\n",
    "```r\n",
    "predict(model, s=valeur_de_lambda_souhaitée)\n",
    "```\n",
    "La commande `model$lambda` rend l'ensemble des $\\lambda$ qui ont été utilisés.\n",
    "Les coefficients correspondants sont obtenus par \n",
    "```r\n",
    "coef(model) [ ,index_du_lambda_voulu]  # l'index, pas la valeur\n",
    "```"
   ]
  },
  {
   "cell_type": "markdown",
   "metadata": {
    "run_control": {
     "frozen": false,
     "read_only": false
    }
   },
   "source": [
    "## Étude du Ridge\n",
    "\n",
    "1 -  Nous commencerons donc par étudier le Ridge. Créer une séquence `grid` allant de $10^{10}$ à $10^{-2}$ et contenant 100 valeurs. Cette séquence nous servira de grille en $\\lambda$ (vous utiliserez naturellement `seq` et une puissance). Vous créerez ensuite un modèle `ridge.model` utilisant les matrices X et y défiies précédemment et la grille de lambda. "
   ]
  },
  {
   "cell_type": "code",
   "execution_count": 267,
   "metadata": {
    "collapsed": true,
    "run_control": {
     "frozen": false,
     "read_only": false
    },
    "vscode": {
     "languageId": "r"
    }
   },
   "outputs": [],
   "source": [
    "library(glmnet)\n",
    "grid = 10^seq(10, -2, length = 100)\n",
    "ridge.model = glmnet(X, y, alpha = 0, lambda = grid)"
   ]
  },
  {
   "cell_type": "markdown",
   "metadata": {
    "run_control": {
     "frozen": false,
     "read_only": false
    }
   },
   "source": [
    "2 - Choisir un index de lambda, par exemple 50, vérifier quelle est la valeur de lambda correspondante. Afficher les coefficients pour cette valeur de lambda, et calculer la norme L2 de ces coefficients. Utiliser par exemple `norm_2 <- function(x) sqrt(sum(x^2))`. Vous supprimerez la ligne contenant l'intercept par `[-1, index_du_lambda_voulu]`"
   ]
  },
  {
   "cell_type": "code",
   "execution_count": 268,
   "metadata": {
    "run_control": {
     "frozen": false,
     "read_only": false
    },
    "vscode": {
     "languageId": "r"
    }
   },
   "outputs": [],
   "source": [
    "norm_2 <- function(x) if (is.vector(x)) {sqrt(sum(x^2))} else {sqrt(colSums(x^2))} "
   ]
  },
  {
   "cell_type": "code",
   "execution_count": 269,
   "metadata": {
    "run_control": {
     "frozen": false,
     "read_only": false
    },
    "vscode": {
     "languageId": "r"
    }
   },
   "outputs": [
    {
     "data": {
      "text/html": [
       "11497.5699539774"
      ],
      "text/latex": [
       "11497.5699539774"
      ],
      "text/markdown": [
       "11497.5699539774"
      ],
      "text/plain": [
       "[1] 11497.57"
      ]
     },
     "metadata": {},
     "output_type": "display_data"
    },
    {
     "data": {
      "text/html": [
       "<style>\n",
       ".dl-inline {width: auto; margin:0; padding: 0}\n",
       ".dl-inline>dt, .dl-inline>dd {float: none; width: auto; display: inline-block}\n",
       ".dl-inline>dt::after {content: \":\\0020\"; padding-right: .5ex}\n",
       ".dl-inline>dt:not(:first-of-type) {padding-left: .5ex}\n",
       "</style><dl class=dl-inline><dt>(Intercept)</dt><dd>407.356050200417</dd><dt>AtBat</dt><dd>0.0369571817501358</dd><dt>Hits</dt><dd>0.138180343807892</dd><dt>HmRun</dt><dd>0.524629975886912</dd><dt>Runs</dt><dd>0.230701522621179</dd><dt>RBI</dt><dd>0.239841458504058</dd><dt>Walks</dt><dd>0.289618741049883</dd><dt>Years</dt><dd>1.10770292908555</dd><dt>CAtBat</dt><dd>0.00313181522151328</dd><dt>CHits</dt><dd>0.0116536373557531</dd><dt>CHmRun</dt><dd>0.0875456697555948</dd><dt>CRuns</dt><dd>0.0233798823693758</dd><dt>CRBI</dt><dd>0.0241383203685686</dd><dt>CWalks</dt><dd>0.0250154205993731</dd><dt>LeagueN</dt><dd>0.0850281135625464</dd><dt>DivisionW</dt><dd>-6.21544097273148</dd><dt>PutOuts</dt><dd>0.0164825767604547</dd><dt>Assists</dt><dd>0.00261298804528182</dd><dt>Errors</dt><dd>-0.020502690365458</dd><dt>NewLeagueN</dt><dd>0.301433531372699</dd></dl>\n"
      ],
      "text/latex": [
       "\\begin{description*}\n",
       "\\item[(Intercept)] 407.356050200417\n",
       "\\item[AtBat] 0.0369571817501358\n",
       "\\item[Hits] 0.138180343807892\n",
       "\\item[HmRun] 0.524629975886912\n",
       "\\item[Runs] 0.230701522621179\n",
       "\\item[RBI] 0.239841458504058\n",
       "\\item[Walks] 0.289618741049883\n",
       "\\item[Years] 1.10770292908555\n",
       "\\item[CAtBat] 0.00313181522151328\n",
       "\\item[CHits] 0.0116536373557531\n",
       "\\item[CHmRun] 0.0875456697555948\n",
       "\\item[CRuns] 0.0233798823693758\n",
       "\\item[CRBI] 0.0241383203685686\n",
       "\\item[CWalks] 0.0250154205993731\n",
       "\\item[LeagueN] 0.0850281135625464\n",
       "\\item[DivisionW] -6.21544097273148\n",
       "\\item[PutOuts] 0.0164825767604547\n",
       "\\item[Assists] 0.00261298804528182\n",
       "\\item[Errors] -0.020502690365458\n",
       "\\item[NewLeagueN] 0.301433531372699\n",
       "\\end{description*}\n"
      ],
      "text/markdown": [
       "(Intercept)\n",
       ":   407.356050200417AtBat\n",
       ":   0.0369571817501358Hits\n",
       ":   0.138180343807892HmRun\n",
       ":   0.524629975886912Runs\n",
       ":   0.230701522621179RBI\n",
       ":   0.239841458504058Walks\n",
       ":   0.289618741049883Years\n",
       ":   1.10770292908555CAtBat\n",
       ":   0.00313181522151328CHits\n",
       ":   0.0116536373557531CHmRun\n",
       ":   0.0875456697555948CRuns\n",
       ":   0.0233798823693758CRBI\n",
       ":   0.0241383203685686CWalks\n",
       ":   0.0250154205993731LeagueN\n",
       ":   0.0850281135625464DivisionW\n",
       ":   -6.21544097273148PutOuts\n",
       ":   0.0164825767604547Assists\n",
       ":   0.00261298804528182Errors\n",
       ":   -0.020502690365458NewLeagueN\n",
       ":   0.301433531372699\n",
       "\n"
      ],
      "text/plain": [
       "  (Intercept)         AtBat          Hits         HmRun          Runs \n",
       "407.356050200   0.036957182   0.138180344   0.524629976   0.230701523 \n",
       "          RBI         Walks         Years        CAtBat         CHits \n",
       "  0.239841459   0.289618741   1.107702929   0.003131815   0.011653637 \n",
       "       CHmRun         CRuns          CRBI        CWalks       LeagueN \n",
       "  0.087545670   0.023379882   0.024138320   0.025015421   0.085028114 \n",
       "    DivisionW       PutOuts       Assists        Errors    NewLeagueN \n",
       " -6.215440973   0.016482577   0.002612988  -0.020502690   0.301433531 "
      ]
     },
     "metadata": {},
     "output_type": "display_data"
    },
    {
     "data": {
      "text/html": [
       "6.36061242142793"
      ],
      "text/latex": [
       "6.36061242142793"
      ],
      "text/markdown": [
       "6.36061242142793"
      ],
      "text/plain": [
       "[1] 6.360612"
      ]
     },
     "metadata": {},
     "output_type": "display_data"
    }
   ],
   "source": [
    "ridge.model$lambda[50]\n",
    "coef(ridge.model)[, 50]\n",
    "norm_2(coef(ridge.model)[-1, 50])"
   ]
  },
  {
   "cell_type": "markdown",
   "metadata": {
    "run_control": {
     "frozen": false,
     "read_only": false
    }
   },
   "source": [
    "3 - Tracer l'évolution de la norme L2 des coeffcients avec lambda. Vous utiliserez la fonction `plot` avec le paramètre `log=\"x\"` pour tracer avec une échelle logarithmique pour les abscisses. "
   ]
  },
  {
   "cell_type": "code",
   "execution_count": 270,
   "metadata": {
    "run_control": {
     "frozen": false,
     "read_only": false
    },
    "vscode": {
     "languageId": "r"
    }
   },
   "outputs": [
    {
     "data": {
      "image/png": "[encoded data removed]",
      "text/plain": [
       "plot without title"
      ]
     },
     "metadata": {
      "image/png": {
       "height": 420,
       "width": 420
      }
     },
     "output_type": "display_data"
    }
   ],
   "source": [
    "plot(grid,norm_2(coef(ridge.model)[-1,]), log=\"x\")\n"
   ]
  },
  {
   "cell_type": "markdown",
   "metadata": {
    "run_control": {
     "frozen": false,
     "read_only": false
    }
   },
   "source": [
    "4 - On va maintenant essayer d'évaluer les performances sur un ensemble de test, en fonction de lambda. \n",
    "- définir les indices `train` et `test` permettant de séparer la base de départ en deux ensembles  en gardant 50% dans chaque (utiliser la fonction `sample`). \n",
    "- Apprendre un nouveau modèle, `ridge.train`, sur la base d'apprentissage.\n",
    "- La fonction `predict` permet de prédire les réponses pour une valeur de lambda donnée (y compris, par interpolation, pour des valeurs de lambda qui n'auraient pas été utilisées lors de l'apprentissage). Calculer l'erreur sur la base de test pour les valeurs de lambda=0, 4, 1e10. Conclusions.\n",
    "- Si vous avez du temps et que cela vous chante, il serait intéressant de tracer la courbe obtenue pour l'ensemble des lambda. "
   ]
  },
  {
   "cell_type": "code",
   "execution_count": 271,
   "metadata": {
    "collapsed": true,
    "run_control": {
     "frozen": false,
     "read_only": false
    },
    "vscode": {
     "languageId": "r"
    }
   },
   "outputs": [],
   "source": [
    "set.seed(1)\n",
    "train=sample(1:nrow(X),nrow(X)/2)\n",
    "test=(-train)\n",
    "y.test=y[test]"
   ]
  },
  {
   "cell_type": "code",
   "execution_count": 272,
   "metadata": {
    "run_control": {
     "frozen": false,
     "read_only": false
    },
    "vscode": {
     "languageId": "r"
    }
   },
   "outputs": [
    {
     "name": "stdout",
     "output_type": "stream",
     "text": [
      "[1] \"lambda= 0 Erreur: 167789.778381115\"\n",
      "[1] \"lambda= 4 Erreur: 142199.150722762\"\n",
      "[1] \"lambda= 1e+10 Erreur: 224669.833069663\"\n"
     ]
    }
   ],
   "source": [
    "ridge.train = glmnet(X[train, ], y[train], alpha = 0, lambda = grid, thresh = 1e-12)\n",
    "\n",
    "for (lambda in c(0.0, 4, 1e10)){\n",
    "    ridge.pred = predict(ridge.train, s = lambda, newx = X[test, ])\n",
    "    print(paste(\"lambda=\", lambda, \"Erreur:\", mean((ridge.pred - y[test])^2)))\n",
    "}"
   ]
  },
  {
   "cell_type": "code",
   "execution_count": 273,
   "metadata": {
    "run_control": {
     "frozen": false,
     "read_only": false
    },
    "vscode": {
     "languageId": "r"
    }
   },
   "outputs": [
    {
     "name": "stdout",
     "output_type": "stream",
     "text": [
      "[1] \"Valeur opt de lambda\"\n"
     ]
    },
    {
     "data": {
      "text/html": [
       "932.60334688322"
      ],
      "text/latex": [
       "932.60334688322"
      ],
      "text/markdown": [
       "932.60334688322"
      ],
      "text/plain": [
       "[1] 932.6033"
      ]
     },
     "metadata": {},
     "output_type": "display_data"
    },
    {
     "data": {
      "image/png": "[encoded data removed]",
      "text/plain": [
       "plot without title"
      ]
     },
     "metadata": {
      "image/png": {
       "height": 420,
       "width": 420
      }
     },
     "output_type": "display_data"
    }
   ],
   "source": [
    "# Pour tous les lambda (optionnel)\n",
    "ridge.train = glmnet(X[train, ], y[train], alpha = 0, lambda = grid, thresh = 1e-12)\n",
    "err = rep(NA, 100)\n",
    "k = 1\n",
    "for (lambda in grid) {\n",
    "    ridge.pred = predict(ridge.train, s = lambda, newx = X[test, ])\n",
    "    err[k] = mean((ridge.pred - y[test])^2)\n",
    "    k = k + 1\n",
    "}\n",
    "plot(log(grid), err)\n",
    "print(\"Valeur opt de lambda\")\n",
    "grid[which.min(err)]"
   ]
  },
  {
   "cell_type": "markdown",
   "metadata": {
    "run_control": {
     "frozen": false,
     "read_only": false
    }
   },
   "source": [
    "5 - Bien heureusement, il existe une fonction `cv.glmnet` qui permet de sélectionner un paramètre optimal pour lambda par validation croisée. La fonction s'utilise avec la syntaxe `cv.out = cv.glmnet(X,y,alpha=0, lambda=grid)` (alpha et lambda sont optionnels). L'objet de sortie possède une méthode plot qui trace l'erreur de prédiction en foncion de lambda, et on peut récupérer la valeur optimale de lambda par `cv.out$lambda.min`. Faites. Conclusions. "
   ]
  },
  {
   "cell_type": "code",
   "execution_count": 274,
   "metadata": {
    "run_control": {
     "frozen": false,
     "read_only": false
    },
    "vscode": {
     "languageId": "r"
    }
   },
   "outputs": [
    {
     "data": {
      "text/html": [
       "305.385550883341"
      ],
      "text/latex": [
       "305.385550883341"
      ],
      "text/markdown": [
       "305.385550883341"
      ],
      "text/plain": [
       "[1] 305.3856"
      ]
     },
     "metadata": {},
     "output_type": "display_data"
    },
    {
     "data": {
      "image/png": "[encoded data removed]",
      "text/plain": [
       "plot without title"
      ]
     },
     "metadata": {
      "image/png": {
       "height": 420,
       "width": 420
      }
     },
     "output_type": "display_data"
    }
   ],
   "source": [
    "# Attention. On fait la validation croisée sur train, car on conserve un ensemble test \n",
    "# pour calculer correctement l'erreur de prédiction après avoir choisi lambda. Si on utilisait\n",
    "# Toute la base pour calculer lambda, les données pour évaluer l'erreur de prédiction \n",
    "# auraient déjà été utilisées, et il y aurait un risque d'overfitting.  \n",
    "\n",
    "set.seed(1)\n",
    "cv.out = cv.glmnet(X[train, ], y[train], alpha = 0, lambda = grid)\n",
    "plot(cv.out)\n",
    "bestlam = cv.out$lambda.min\n",
    "bestlam"
   ]
  },
  {
   "cell_type": "markdown",
   "metadata": {
    "run_control": {
     "frozen": false,
     "read_only": false
    }
   },
   "source": [
    "6 - Pour la valeur optimale de lambda, calculer quels sont les coefficients du modèle optimale et visualisez les. Vous utiliserez par exemple \n",
    "\n",
    "```predict(out,type=\"coefficients\",s=bestlam)```  \n",
    "\n",
    "Existe-t-il des coefficients nuls ? En d'autres termes, la méthode fait-elle une sélection des variables ?  "
   ]
  },
  {
   "cell_type": "code",
   "execution_count": 275,
   "metadata": {
    "run_control": {
     "frozen": false,
     "read_only": false
    },
    "vscode": {
     "languageId": "r"
    }
   },
   "outputs": [
    {
     "data": {
      "text/html": [
       "<style>\n",
       ".dl-inline {width: auto; margin:0; padding: 0}\n",
       ".dl-inline>dt, .dl-inline>dd {float: none; width: auto; display: inline-block}\n",
       ".dl-inline>dt::after {content: \":\\0020\"; padding-right: .5ex}\n",
       ".dl-inline>dt:not(:first-of-type) {padding-left: .5ex}\n",
       "</style><dl class=dl-inline><dt>(Intercept)</dt><dd>13.91429314508</dd><dt>AtBat</dt><dd>0.0716697897039254</dd><dt>Hits</dt><dd>0.879652271685044</dd><dt>HmRun</dt><dd>0.535878523315675</dd><dt>Runs</dt><dd>1.07207364813009</dd><dt>RBI</dt><dd>0.879176141444645</dd><dt>Walks</dt><dd>1.65070495280757</dd><dt>Years</dt><dd>1.19367801410974</dd><dt>CAtBat</dt><dd>0.0113420428715817</dd><dt>CHits</dt><dd>0.0584889438363903</dd><dt>CHmRun</dt><dd>0.413133441281516</dd><dt>CRuns</dt><dd>0.116559498610973</dd><dt>CRBI</dt><dd>0.123443468700488</dd><dt>CWalks</dt><dd>0.0500920401596247</dd><dt>LeagueN</dt><dd>22.8455904138811</dd><dt>DivisionW</dt><dd>-81.0453725134962</dd><dt>PutOuts</dt><dd>0.170177691624528</dd><dt>Assists</dt><dd>0.0311066759431007</dd><dt>Errors</dt><dd>-1.42665062465713</dd><dt>NewLeagueN</dt><dd>8.94720372612759</dd></dl>\n"
      ],
      "text/latex": [
       "\\begin{description*}\n",
       "\\item[(Intercept)] 13.91429314508\n",
       "\\item[AtBat] 0.0716697897039254\n",
       "\\item[Hits] 0.879652271685044\n",
       "\\item[HmRun] 0.535878523315675\n",
       "\\item[Runs] 1.07207364813009\n",
       "\\item[RBI] 0.879176141444645\n",
       "\\item[Walks] 1.65070495280757\n",
       "\\item[Years] 1.19367801410974\n",
       "\\item[CAtBat] 0.0113420428715817\n",
       "\\item[CHits] 0.0584889438363903\n",
       "\\item[CHmRun] 0.413133441281516\n",
       "\\item[CRuns] 0.116559498610973\n",
       "\\item[CRBI] 0.123443468700488\n",
       "\\item[CWalks] 0.0500920401596247\n",
       "\\item[LeagueN] 22.8455904138811\n",
       "\\item[DivisionW] -81.0453725134962\n",
       "\\item[PutOuts] 0.170177691624528\n",
       "\\item[Assists] 0.0311066759431007\n",
       "\\item[Errors] -1.42665062465713\n",
       "\\item[NewLeagueN] 8.94720372612759\n",
       "\\end{description*}\n"
      ],
      "text/markdown": [
       "(Intercept)\n",
       ":   13.91429314508AtBat\n",
       ":   0.0716697897039254Hits\n",
       ":   0.879652271685044HmRun\n",
       ":   0.535878523315675Runs\n",
       ":   1.07207364813009RBI\n",
       ":   0.879176141444645Walks\n",
       ":   1.65070495280757Years\n",
       ":   1.19367801410974CAtBat\n",
       ":   0.0113420428715817CHits\n",
       ":   0.0584889438363903CHmRun\n",
       ":   0.413133441281516CRuns\n",
       ":   0.116559498610973CRBI\n",
       ":   0.123443468700488CWalks\n",
       ":   0.0500920401596247LeagueN\n",
       ":   22.8455904138811DivisionW\n",
       ":   -81.0453725134962PutOuts\n",
       ":   0.170177691624528Assists\n",
       ":   0.0311066759431007Errors\n",
       ":   -1.42665062465713NewLeagueN\n",
       ":   8.94720372612759\n",
       "\n"
      ],
      "text/plain": [
       " (Intercept)        AtBat         Hits        HmRun         Runs          RBI \n",
       " 13.91429315   0.07166979   0.87965227   0.53587852   1.07207365   0.87917614 \n",
       "       Walks        Years       CAtBat        CHits       CHmRun        CRuns \n",
       "  1.65070495   1.19367801   0.01134204   0.05848894   0.41313344   0.11655950 \n",
       "        CRBI       CWalks      LeagueN    DivisionW      PutOuts      Assists \n",
       "  0.12344347   0.05009204  22.84559041 -81.04537251   0.17017769   0.03110668 \n",
       "      Errors   NewLeagueN \n",
       " -1.42665062   8.94720373 "
      ]
     },
     "metadata": {},
     "output_type": "display_data"
    }
   ],
   "source": [
    "out = glmnet(X, y, alpha = 0)\n",
    "predict(out, type = \"coefficients\", s = bestlam)[1:20, ]"
   ]
  },
  {
   "cell_type": "markdown",
   "metadata": {
    "run_control": {
     "frozen": false,
     "read_only": false
    }
   },
   "source": [
    "## Étude du Lasso"
   ]
  },
  {
   "cell_type": "markdown",
   "metadata": {
    "run_control": {
     "frozen": false,
     "read_only": false
    }
   },
   "source": [
    "1 - Compte-tenu de tout le travail qui a été effectué sur le Ridge, cette partie va être très facile. Apprendre un modèle lasso `lasso.mod`, en utilisant `glmnet` avec `alpha=1`, sur la mâme grille de lambda que précédemment. Faire un plot de l'objet obtenu. Observations. "
   ]
  },
  {
   "cell_type": "code",
   "execution_count": 276,
   "metadata": {
    "run_control": {
     "frozen": false,
     "read_only": false
    },
    "vscode": {
     "languageId": "r"
    }
   },
   "outputs": [
    {
     "name": "stderr",
     "output_type": "stream",
     "text": [
      "Warning message in regularize.values(x, y, ties, missing(ties), na.rm = na.rm):\n",
      "\"collapsing to unique 'x' values\"\n"
     ]
    },
    {
     "data": {
      "image/png": "[encoded data removed]",
      "text/plain": [
       "plot without title"
      ]
     },
     "metadata": {
      "image/png": {
       "height": 420,
       "width": 420
      }
     },
     "output_type": "display_data"
    }
   ],
   "source": [
    "lasso.mod= glmnet(X[train, ], y[train], alpha = 1, lambda = grid)\n",
    "plot(lasso.mod)"
   ]
  },
  {
   "cell_type": "markdown",
   "metadata": {
    "run_control": {
     "frozen": false,
     "read_only": false
    }
   },
   "source": [
    "2 - Sélectionner le meilleur paramètre lambda par validation croisée, en suivant les mêmes étapes que précédemment. Appeler `cv.out = cv.glmnet(X,y,alpha=1, lambda=grid)` puis tracer l'erreur de prédiction en fonction de lambda (fonction `plot`), et enfin récupérer la valeur optimale de lambda par `cv.out$lambda.min`. "
   ]
  },
  {
   "cell_type": "code",
   "execution_count": 277,
   "metadata": {
    "run_control": {
     "frozen": false,
     "read_only": false
    },
    "vscode": {
     "languageId": "r"
    }
   },
   "outputs": [
    {
     "data": {
      "text/html": [
       "9.28695472064886"
      ],
      "text/latex": [
       "9.28695472064886"
      ],
      "text/markdown": [
       "9.28695472064886"
      ],
      "text/plain": [
       "[1] 9.286955"
      ]
     },
     "metadata": {},
     "output_type": "display_data"
    },
    {
     "data": {
      "image/png": "[encoded data removed]",
      "text/plain": [
       "plot without title"
      ]
     },
     "metadata": {
      "image/png": {
       "height": 420,
       "width": 420
      }
     },
     "output_type": "display_data"
    }
   ],
   "source": [
    "set.seed(1)\n",
    "cv.out = cv.glmnet(X[train, ], y[train], alpha = 1)\n",
    "plot(cv.out)\n",
    "bestlam = cv.out$lambda.min\n",
    "bestlam"
   ]
  },
  {
   "cell_type": "markdown",
   "metadata": {
    "run_control": {
     "frozen": false,
     "read_only": false
    }
   },
   "source": [
    "3 - Prédire les résultats sur l'ensemble de test et en déduire une estimée de l'erreur de prédiction. Calculer le modèle `out` pour la base complète de données, puis observer quels sont les coefficients obtenus pour la valeur optimale de lambda\n",
    "```\n",
    "lasso.coef=predict(out,type=\"coefficients\",s=bestlam)[1:20,]\n",
    "```"
   ]
  },
  {
   "cell_type": "code",
   "execution_count": 280,
   "metadata": {
    "run_control": {
     "frozen": false,
     "read_only": false
    },
    "vscode": {
     "languageId": "r"
    }
   },
   "outputs": [
    {
     "data": {
      "text/html": [
       "143673.618543046"
      ],
      "text/latex": [
       "143673.618543046"
      ],
      "text/markdown": [
       "143673.618543046"
      ],
      "text/plain": [
       "[1] 143673.6"
      ]
     },
     "metadata": {},
     "output_type": "display_data"
    }
   ],
   "source": [
    "lasso.pred = predict(lasso.mod, s = bestlam, newx = X[test, ])\n",
    "mean((lasso.pred - y[test])^2)"
   ]
  },
  {
   "cell_type": "code",
   "execution_count": 281,
   "metadata": {
    "run_control": {
     "frozen": false,
     "read_only": false
    },
    "vscode": {
     "languageId": "r"
    }
   },
   "outputs": [
    {
     "data": {
      "text/html": [
       "<style>\n",
       ".dl-inline {width: auto; margin:0; padding: 0}\n",
       ".dl-inline>dt, .dl-inline>dd {float: none; width: auto; display: inline-block}\n",
       ".dl-inline>dt::after {content: \":\\0020\"; padding-right: .5ex}\n",
       ".dl-inline>dt:not(:first-of-type) {padding-left: .5ex}\n",
       "</style><dl class=dl-inline><dt>(Intercept)</dt><dd>1.27479059110101</dd><dt>AtBat</dt><dd>-0.0549714273315139</dd><dt>Hits</dt><dd>2.18034583361293</dd><dt>HmRun</dt><dd>0</dd><dt>Runs</dt><dd>0</dd><dt>RBI</dt><dd>0</dd><dt>Walks</dt><dd>2.29192406458188</dd><dt>Years</dt><dd>-0.338061091665017</dd><dt>CAtBat</dt><dd>0</dd><dt>CHits</dt><dd>0</dd><dt>CHmRun</dt><dd>0.0282501287940404</dd><dt>CRuns</dt><dd>0.216283849067602</dd><dt>CRBI</dt><dd>0.41712536764542</dd><dt>CWalks</dt><dd>0</dd><dt>LeagueN</dt><dd>20.2861502310741</dd><dt>DivisionW</dt><dd>-116.167558696372</dd><dt>PutOuts</dt><dd>0.237523845868754</dd><dt>Assists</dt><dd>0</dd><dt>Errors</dt><dd>-0.856291484604434</dd><dt>NewLeagueN</dt><dd>0</dd></dl>\n"
      ],
      "text/latex": [
       "\\begin{description*}\n",
       "\\item[(Intercept)] 1.27479059110101\n",
       "\\item[AtBat] -0.0549714273315139\n",
       "\\item[Hits] 2.18034583361293\n",
       "\\item[HmRun] 0\n",
       "\\item[Runs] 0\n",
       "\\item[RBI] 0\n",
       "\\item[Walks] 2.29192406458188\n",
       "\\item[Years] -0.338061091665017\n",
       "\\item[CAtBat] 0\n",
       "\\item[CHits] 0\n",
       "\\item[CHmRun] 0.0282501287940404\n",
       "\\item[CRuns] 0.216283849067602\n",
       "\\item[CRBI] 0.41712536764542\n",
       "\\item[CWalks] 0\n",
       "\\item[LeagueN] 20.2861502310741\n",
       "\\item[DivisionW] -116.167558696372\n",
       "\\item[PutOuts] 0.237523845868754\n",
       "\\item[Assists] 0\n",
       "\\item[Errors] -0.856291484604434\n",
       "\\item[NewLeagueN] 0\n",
       "\\end{description*}\n"
      ],
      "text/markdown": [
       "(Intercept)\n",
       ":   1.27479059110101AtBat\n",
       ":   -0.0549714273315139Hits\n",
       ":   2.18034583361293HmRun\n",
       ":   0Runs\n",
       ":   0RBI\n",
       ":   0Walks\n",
       ":   2.29192406458188Years\n",
       ":   -0.338061091665017CAtBat\n",
       ":   0CHits\n",
       ":   0CHmRun\n",
       ":   0.0282501287940404CRuns\n",
       ":   0.216283849067602CRBI\n",
       ":   0.41712536764542CWalks\n",
       ":   0LeagueN\n",
       ":   20.2861502310741DivisionW\n",
       ":   -116.167558696372PutOuts\n",
       ":   0.237523845868754Assists\n",
       ":   0Errors\n",
       ":   -0.856291484604434NewLeagueN\n",
       ":   0\n",
       "\n"
      ],
      "text/plain": [
       "  (Intercept)         AtBat          Hits         HmRun          Runs \n",
       "   1.27479059   -0.05497143    2.18034583    0.00000000    0.00000000 \n",
       "          RBI         Walks         Years        CAtBat         CHits \n",
       "   0.00000000    2.29192406   -0.33806109    0.00000000    0.00000000 \n",
       "       CHmRun         CRuns          CRBI        CWalks       LeagueN \n",
       "   0.02825013    0.21628385    0.41712537    0.00000000   20.28615023 \n",
       "    DivisionW       PutOuts       Assists        Errors    NewLeagueN \n",
       "-116.16755870    0.23752385    0.00000000   -0.85629148    0.00000000 "
      ]
     },
     "metadata": {},
     "output_type": "display_data"
    },
    {
     "data": {
      "text/html": [
       "<style>\n",
       ".dl-inline {width: auto; margin:0; padding: 0}\n",
       ".dl-inline>dt, .dl-inline>dd {float: none; width: auto; display: inline-block}\n",
       ".dl-inline>dt::after {content: \":\\0020\"; padding-right: .5ex}\n",
       ".dl-inline>dt:not(:first-of-type) {padding-left: .5ex}\n",
       "</style><dl class=dl-inline><dt>(Intercept)</dt><dd>1.27479059110101</dd><dt>AtBat</dt><dd>-0.0549714273315139</dd><dt>Hits</dt><dd>2.18034583361293</dd><dt>Walks</dt><dd>2.29192406458188</dd><dt>Years</dt><dd>-0.338061091665017</dd><dt>CHmRun</dt><dd>0.0282501287940404</dd><dt>CRuns</dt><dd>0.216283849067602</dd><dt>CRBI</dt><dd>0.41712536764542</dd><dt>LeagueN</dt><dd>20.2861502310741</dd><dt>DivisionW</dt><dd>-116.167558696372</dd><dt>PutOuts</dt><dd>0.237523845868754</dd><dt>Errors</dt><dd>-0.856291484604434</dd></dl>\n"
      ],
      "text/latex": [
       "\\begin{description*}\n",
       "\\item[(Intercept)] 1.27479059110101\n",
       "\\item[AtBat] -0.0549714273315139\n",
       "\\item[Hits] 2.18034583361293\n",
       "\\item[Walks] 2.29192406458188\n",
       "\\item[Years] -0.338061091665017\n",
       "\\item[CHmRun] 0.0282501287940404\n",
       "\\item[CRuns] 0.216283849067602\n",
       "\\item[CRBI] 0.41712536764542\n",
       "\\item[LeagueN] 20.2861502310741\n",
       "\\item[DivisionW] -116.167558696372\n",
       "\\item[PutOuts] 0.237523845868754\n",
       "\\item[Errors] -0.856291484604434\n",
       "\\end{description*}\n"
      ],
      "text/markdown": [
       "(Intercept)\n",
       ":   1.27479059110101AtBat\n",
       ":   -0.0549714273315139Hits\n",
       ":   2.18034583361293Walks\n",
       ":   2.29192406458188Years\n",
       ":   -0.338061091665017CHmRun\n",
       ":   0.0282501287940404CRuns\n",
       ":   0.216283849067602CRBI\n",
       ":   0.41712536764542LeagueN\n",
       ":   20.2861502310741DivisionW\n",
       ":   -116.167558696372PutOuts\n",
       ":   0.237523845868754Errors\n",
       ":   -0.856291484604434\n",
       "\n"
      ],
      "text/plain": [
       "  (Intercept)         AtBat          Hits         Walks         Years \n",
       "   1.27479059   -0.05497143    2.18034583    2.29192406   -0.33806109 \n",
       "       CHmRun         CRuns          CRBI       LeagueN     DivisionW \n",
       "   0.02825013    0.21628385    0.41712537   20.28615023 -116.16755870 \n",
       "      PutOuts        Errors \n",
       "   0.23752385   -0.85629148 "
      ]
     },
     "metadata": {},
     "output_type": "display_data"
    }
   ],
   "source": [
    "out = glmnet(X, y, alpha = 1, lambda = grid)\n",
    "lasso.coef = predict(out, type = \"coefficients\", s = bestlam)[1:20, ]\n",
    "lasso.coef\n",
    "lasso.coef[lasso.coef != 0]"
   ]
  },
  {
   "cell_type": "code",
   "execution_count": null,
   "metadata": {
    "vscode": {
     "languageId": "r"
    }
   },
   "outputs": [],
   "source": []
  }
 ],
 "metadata": {
  "hide_input": false,
  "kernelspec": {
   "display_name": "R",
   "language": "R",
   "name": "ir"
  },
  "language_info": {
   "codemirror_mode": "r",
   "file_extension": ".r",
   "mimetype": "text/x-r-source",
   "name": "R",
   "pygments_lexer": "r",
   "version": "4.1.2"
  },
  "latex_envs": {
   "LaTeX_envs_menu_present": true,
   "autoclose": false,
   "autocomplete": true,
   "bibliofile": "biblio.bib",
   "cite_by": "apalike",
   "current_citInitial": 1,
   "eqLabelWithNumbers": true,
   "eqNumInitial": 0,
   "hotkeys": {
    "equation": "ctrl-e"
   },
   "labels_anchors": false,
   "latex_user_defs": false,
   "report_style_numbering": false,
   "user_envs_cfg": false
  },
  "nbTranslate": {
   "displayLangs": [
    "fr",
    "en"
   ],
   "hotkey": "alt-t",
   "langInMainMenu": true,
   "sourceLang": "en",
   "targetLang": "fr",
   "useGoogleTranslate": true
  },
  "toc": {
   "base_numbering": "1",
   "lock_sidebar": true,
   "nav_menu": {
    "height": "226px",
    "width": "252px"
   },
   "number_sections": true,
   "sideBar": true,
   "skip_h1_title": false,
   "title_cell": "Table of Contents",
   "title_sidebar": "Contents",
   "toc_cell": true,
   "toc_position": {},
   "toc_section_display": "block",
   "toc_window_display": false
  }
 },
 "nbformat": 4,
 "nbformat_minor": 1
}
